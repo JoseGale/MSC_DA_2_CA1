{
 "cells": [
  {
   "cell_type": "code",
   "execution_count": 1,
   "id": "b9d7d5e7",
   "metadata": {},
   "outputs": [
    {
     "data": {
      "text/html": [
       "\n",
       "        <div>\n",
       "            <p><b>SparkContext</b></p>\n",
       "\n",
       "            <p><a href=\"http://jose-VirtualBox:4040\">Spark UI</a></p>\n",
       "\n",
       "            <dl>\n",
       "              <dt>Version</dt>\n",
       "                <dd><code>v3.4.2</code></dd>\n",
       "              <dt>Master</dt>\n",
       "                <dd><code>local[*]</code></dd>\n",
       "              <dt>AppName</dt>\n",
       "                <dd><code>PySparkShell</code></dd>\n",
       "            </dl>\n",
       "        </div>\n",
       "        "
      ],
      "text/plain": [
       "<SparkContext master=local[*] appName=PySparkShell>"
      ]
     },
     "execution_count": 1,
     "metadata": {},
     "output_type": "execute_result"
    }
   ],
   "source": [
    "sc"
   ]
  },
  {
   "cell_type": "code",
   "execution_count": 26,
   "id": "82c725f7",
   "metadata": {},
   "outputs": [],
   "source": [
    "import pandas as pd\n",
    "import numpy as np\n",
    "from PIL import Image\n",
    "import io"
   ]
  },
  {
   "cell_type": "markdown",
   "id": "1ac38df3",
   "metadata": {},
   "source": [
    "I will use the functionality of Image Datasource of spark to collect and process images in bytes, and then start processing the images for the neural network"
   ]
  },
  {
   "cell_type": "code",
   "execution_count": 16,
   "id": "2678a34e",
   "metadata": {},
   "outputs": [],
   "source": [
    "images_folders = ['/CA1/Ireland','/CA1/Honduran']"
   ]
  },
  {
   "cell_type": "code",
   "execution_count": 17,
   "id": "66cf4c7a",
   "metadata": {},
   "outputs": [],
   "source": [
    "images_rdd = sc.binaryFiles(','.join(images_folders))"
   ]
  },
  {
   "cell_type": "code",
   "execution_count": 26,
   "id": "38c440f9",
   "metadata": {},
   "outputs": [],
   "source": [
    "def extract_data(data):\n",
    "    file_path, image_data = data\n",
    "    image = Image.open(io.BytesIO(image_data))\n",
    "    image_array = np.array(image)\n",
    "    \n",
    "    file_name = file_path.split('/')[-1]\n",
    "    file_name_without_ext = file_name.split(\".\")[0]\n",
    "    label,name = file_name_without_ext.split('_')[0], file_name_without_ext.split('_')[1]\n",
    "    \n",
    "    return name, label, image_array"
   ]
  },
  {
   "cell_type": "code",
   "execution_count": 27,
   "id": "0a744255",
   "metadata": {},
   "outputs": [
    {
     "name": "stderr",
     "output_type": "stream",
     "text": [
      "24/03/12 18:41:20 WARN BlockReaderFactory: I/O error constructing remote block reader.\n",
      "java.nio.channels.ClosedByInterruptException\n",
      "\tat java.nio.channels.spi.AbstractInterruptibleChannel.end(AbstractInterruptibleChannel.java:202)\n",
      "\tat sun.nio.ch.SocketChannelImpl.connect(SocketChannelImpl.java:658)\n",
      "\tat org.apache.hadoop.net.SocketIOWithTimeout.connect(SocketIOWithTimeout.java:191)\n",
      "\tat org.apache.hadoop.net.NetUtils.connect(NetUtils.java:586)\n",
      "\tat org.apache.hadoop.hdfs.DFSClient.newConnectedPeer(DFSClient.java:3033)\n",
      "\tat org.apache.hadoop.hdfs.client.impl.BlockReaderFactory.nextTcpPeer(BlockReaderFactory.java:829)\n",
      "\tat org.apache.hadoop.hdfs.client.impl.BlockReaderFactory.getRemoteBlockReaderFromTcp(BlockReaderFactory.java:754)\n",
      "\tat org.apache.hadoop.hdfs.client.impl.BlockReaderFactory.build(BlockReaderFactory.java:381)\n",
      "\tat org.apache.hadoop.hdfs.DFSInputStream.getBlockReader(DFSInputStream.java:755)\n",
      "\tat org.apache.hadoop.hdfs.DFSInputStream.blockSeekTo(DFSInputStream.java:685)\n",
      "\tat org.apache.hadoop.hdfs.DFSInputStream.readWithStrategy(DFSInputStream.java:884)\n",
      "\tat org.apache.hadoop.hdfs.DFSInputStream.read(DFSInputStream.java:957)\n",
      "\tat java.io.DataInputStream.read(DataInputStream.java:100)\n",
      "\tat org.sparkproject.guava.io.ByteStreams.copy(ByteStreams.java:207)\n",
      "\tat org.sparkproject.guava.io.ByteStreams.toByteArray(ByteStreams.java:252)\n",
      "\tat org.apache.spark.input.PortableDataStream.toArray(PortableDataStream.scala:205)\n",
      "\tat org.apache.spark.api.python.PythonRDD$.write$1(PythonRDD.scala:312)\n",
      "\tat org.apache.spark.api.python.PythonRDD$.$anonfun$writeIteratorToStream$1(PythonRDD.scala:320)\n",
      "\tat org.apache.spark.api.python.PythonRDD$.$anonfun$writeIteratorToStream$1$adapted(PythonRDD.scala:320)\n",
      "\tat scala.collection.Iterator.foreach(Iterator.scala:943)\n",
      "\tat scala.collection.Iterator.foreach$(Iterator.scala:943)\n",
      "\tat org.apache.spark.InterruptibleIterator.foreach(InterruptibleIterator.scala:28)\n",
      "\tat org.apache.spark.api.python.PythonRDD$.writeIteratorToStream(PythonRDD.scala:320)\n",
      "\tat org.apache.spark.api.python.PythonRunner$$anon$2.writeIteratorToStream(PythonRunner.scala:734)\n",
      "\tat org.apache.spark.api.python.BasePythonRunner$WriterThread.$anonfun$run$1(PythonRunner.scala:440)\n",
      "\tat org.apache.spark.util.Utils$.logUncaughtExceptions(Utils.scala:2088)\n",
      "\tat org.apache.spark.api.python.BasePythonRunner$WriterThread.run(PythonRunner.scala:274)\n"
     ]
    }
   ],
   "source": [
    "imageDf = images_rdd.map(lambda x: extract_data(x)).toDF([\"Name\",\"Label\",\"Data\"])"
   ]
  },
  {
   "cell_type": "code",
   "execution_count": 29,
   "id": "62871235",
   "metadata": {},
   "outputs": [
    {
     "name": "stderr",
     "output_type": "stream",
     "text": [
      "Traceback (most recent call last):\n",
      "  File \"/usr/local/spark/python/lib/pyspark.zip/pyspark/daemon.py\", line 193, in manager\n",
      "  File \"/usr/local/spark/python/lib/pyspark.zip/pyspark/daemon.py\", line 74, in worker\n",
      "  File \"/usr/local/spark/python/lib/pyspark.zip/pyspark/worker.py\", line 874, in main\n",
      "    if read_int(infile) == SpecialLengths.END_OF_STREAM:\n",
      "  File \"/usr/local/spark/python/lib/pyspark.zip/pyspark/serializers.py\", line 596, in read_int\n",
      "    raise EOFError\n",
      "EOFError\n"
     ]
    },
    {
     "name": "stdout",
     "output_type": "stream",
     "text": [
      "+----+-------+--------------------+\n",
      "|Name|  Label|                Data|\n",
      "+----+-------+--------------------+\n",
      "| 001|Ireland|[FF D8 FF E0 00 1...|\n",
      "| 002|Ireland|[FF D8 FF E0 00 1...|\n",
      "| 003|Ireland|[FF D8 FF E0 00 1...|\n",
      "| 004|Ireland|[FF D8 FF E0 00 1...|\n",
      "| 005|Ireland|[FF D8 FF E0 00 1...|\n",
      "| 006|Ireland|[FF D8 FF E0 00 1...|\n",
      "| 007|Ireland|[FF D8 FF E0 00 1...|\n",
      "| 008|Ireland|[FF D8 FF E0 00 1...|\n",
      "| 009|Ireland|[FF D8 FF E0 00 1...|\n",
      "| 010|Ireland|[FF D8 FF E0 00 1...|\n",
      "| 011|Ireland|[FF D8 FF E0 00 1...|\n",
      "| 012|Ireland|[FF D8 FF E0 00 1...|\n",
      "| 013|Ireland|[FF D8 FF E0 00 1...|\n",
      "| 014|Ireland|[FF D8 FF E0 00 1...|\n",
      "| 015|Ireland|[FF D8 FF E0 00 1...|\n",
      "| 016|Ireland|[FF D8 FF E0 00 1...|\n",
      "| 017|Ireland|[FF D8 FF E0 00 1...|\n",
      "| 018|Ireland|[FF D8 FF E0 00 1...|\n",
      "| 019|Ireland|[FF D8 FF E0 00 1...|\n",
      "| 020|Ireland|[FF D8 FF E0 00 1...|\n",
      "+----+-------+--------------------+\n",
      "only showing top 20 rows\n",
      "\n"
     ]
    }
   ],
   "source": [
    "imageDf.show()"
   ]
  },
  {
   "cell_type": "code",
   "execution_count": 35,
   "id": "234caf5c",
   "metadata": {},
   "outputs": [
    {
     "name": "stderr",
     "output_type": "stream",
     "text": [
      "                                                                                \r"
     ]
    }
   ],
   "source": [
    "pandasImagesDF = imageDf.toPandas()"
   ]
  },
  {
   "cell_type": "markdown",
   "id": "ddd021c9",
   "metadata": {},
   "source": [
    "Saving dataframe in a CSV, to not process the images each time I start the proyect"
   ]
  },
  {
   "cell_type": "code",
   "execution_count": 38,
   "id": "688bd4b6",
   "metadata": {},
   "outputs": [],
   "source": [
    "pandasImagesDF.to_csv(\"./Dataset/images.csv\", index=False)"
   ]
  },
  {
   "cell_type": "markdown",
   "id": "ae31a4e3",
   "metadata": {},
   "source": [
    "Read CSV saved in the project, to save time"
   ]
  },
  {
   "cell_type": "code",
   "execution_count": 2,
   "id": "1c8bf6ab",
   "metadata": {},
   "outputs": [],
   "source": [
    "pandasImagesDF = pd.read_csv(\"./Dataset/images.csv\")"
   ]
  },
  {
   "cell_type": "code",
   "execution_count": 4,
   "id": "fefff5a2",
   "metadata": {},
   "outputs": [],
   "source": [
    "pandasImagesDF = pandasImagesDF.sort_values(by=[\"Name\"])"
   ]
  },
  {
   "cell_type": "code",
   "execution_count": 28,
   "id": "044be971",
   "metadata": {
    "scrolled": false
   },
   "outputs": [
    {
     "data": {
      "text/html": [
       "<div>\n",
       "<style scoped>\n",
       "    .dataframe tbody tr th:only-of-type {\n",
       "        vertical-align: middle;\n",
       "    }\n",
       "\n",
       "    .dataframe tbody tr th {\n",
       "        vertical-align: top;\n",
       "    }\n",
       "\n",
       "    .dataframe thead th {\n",
       "        text-align: right;\n",
       "    }\n",
       "</style>\n",
       "<table border=\"1\" class=\"dataframe\">\n",
       "  <thead>\n",
       "    <tr style=\"text-align: right;\">\n",
       "      <th></th>\n",
       "      <th>Name</th>\n",
       "      <th>Label</th>\n",
       "      <th>Data</th>\n",
       "    </tr>\n",
       "  </thead>\n",
       "  <tbody>\n",
       "    <tr>\n",
       "      <th>0</th>\n",
       "      <td>1</td>\n",
       "      <td>Ireland</td>\n",
       "      <td>bytearray(b'\\xff\\xd8\\xff\\xe0\\x00\\x10JFIF\\x00\\x...</td>\n",
       "    </tr>\n",
       "    <tr>\n",
       "      <th>20</th>\n",
       "      <td>1</td>\n",
       "      <td>Honduran</td>\n",
       "      <td>bytearray(b'\\xff\\xd8\\xff\\xe0\\x00\\x10JFIF\\x00\\x...</td>\n",
       "    </tr>\n",
       "    <tr>\n",
       "      <th>1</th>\n",
       "      <td>2</td>\n",
       "      <td>Ireland</td>\n",
       "      <td>bytearray(b'\\xff\\xd8\\xff\\xe0\\x00\\x10JFIF\\x00\\x...</td>\n",
       "    </tr>\n",
       "    <tr>\n",
       "      <th>21</th>\n",
       "      <td>2</td>\n",
       "      <td>Honduran</td>\n",
       "      <td>bytearray(b'\\xff\\xd8\\xff\\xe0\\x00\\x10JFIF\\x00\\x...</td>\n",
       "    </tr>\n",
       "    <tr>\n",
       "      <th>2</th>\n",
       "      <td>3</td>\n",
       "      <td>Ireland</td>\n",
       "      <td>bytearray(b'\\xff\\xd8\\xff\\xe0\\x00\\x10JFIF\\x00\\x...</td>\n",
       "    </tr>\n",
       "    <tr>\n",
       "      <th>22</th>\n",
       "      <td>3</td>\n",
       "      <td>Honduran</td>\n",
       "      <td>bytearray(b'\\xff\\xd8\\xff\\xe0\\x00\\x10JFIF\\x00\\x...</td>\n",
       "    </tr>\n",
       "    <tr>\n",
       "      <th>3</th>\n",
       "      <td>4</td>\n",
       "      <td>Ireland</td>\n",
       "      <td>bytearray(b'\\xff\\xd8\\xff\\xe0\\x00\\x10JFIF\\x00\\x...</td>\n",
       "    </tr>\n",
       "    <tr>\n",
       "      <th>23</th>\n",
       "      <td>4</td>\n",
       "      <td>Honduran</td>\n",
       "      <td>bytearray(b'\\xff\\xd8\\xff\\xe0\\x00\\x10JFIF\\x00\\x...</td>\n",
       "    </tr>\n",
       "    <tr>\n",
       "      <th>4</th>\n",
       "      <td>5</td>\n",
       "      <td>Ireland</td>\n",
       "      <td>bytearray(b'\\xff\\xd8\\xff\\xe0\\x00\\x10JFIF\\x00\\x...</td>\n",
       "    </tr>\n",
       "    <tr>\n",
       "      <th>24</th>\n",
       "      <td>5</td>\n",
       "      <td>Honduran</td>\n",
       "      <td>bytearray(b'\\xff\\xd8\\xff\\xe0\\x00\\x10JFIF\\x00\\x...</td>\n",
       "    </tr>\n",
       "    <tr>\n",
       "      <th>25</th>\n",
       "      <td>6</td>\n",
       "      <td>Honduran</td>\n",
       "      <td>bytearray(b'\\xff\\xd8\\xff\\xe0\\x00\\x10JFIF\\x00\\x...</td>\n",
       "    </tr>\n",
       "    <tr>\n",
       "      <th>5</th>\n",
       "      <td>6</td>\n",
       "      <td>Ireland</td>\n",
       "      <td>bytearray(b'\\xff\\xd8\\xff\\xe0\\x00\\x10JFIF\\x00\\x...</td>\n",
       "    </tr>\n",
       "    <tr>\n",
       "      <th>26</th>\n",
       "      <td>7</td>\n",
       "      <td>Honduran</td>\n",
       "      <td>bytearray(b'\\xff\\xd8\\xff\\xe0\\x00\\x10JFIF\\x00\\x...</td>\n",
       "    </tr>\n",
       "    <tr>\n",
       "      <th>6</th>\n",
       "      <td>7</td>\n",
       "      <td>Ireland</td>\n",
       "      <td>bytearray(b'\\xff\\xd8\\xff\\xe0\\x00\\x10JFIF\\x00\\x...</td>\n",
       "    </tr>\n",
       "    <tr>\n",
       "      <th>27</th>\n",
       "      <td>8</td>\n",
       "      <td>Honduran</td>\n",
       "      <td>bytearray(b'\\xff\\xd8\\xff\\xe0\\x00\\x10JFIF\\x00\\x...</td>\n",
       "    </tr>\n",
       "    <tr>\n",
       "      <th>7</th>\n",
       "      <td>8</td>\n",
       "      <td>Ireland</td>\n",
       "      <td>bytearray(b'\\xff\\xd8\\xff\\xe0\\x00\\x10JFIF\\x00\\x...</td>\n",
       "    </tr>\n",
       "    <tr>\n",
       "      <th>28</th>\n",
       "      <td>9</td>\n",
       "      <td>Honduran</td>\n",
       "      <td>bytearray(b'\\xff\\xd8\\xff\\xe0\\x00\\x10JFIF\\x00\\x...</td>\n",
       "    </tr>\n",
       "    <tr>\n",
       "      <th>8</th>\n",
       "      <td>9</td>\n",
       "      <td>Ireland</td>\n",
       "      <td>bytearray(b'\\xff\\xd8\\xff\\xe0\\x00\\x10JFIF\\x00\\x...</td>\n",
       "    </tr>\n",
       "    <tr>\n",
       "      <th>9</th>\n",
       "      <td>10</td>\n",
       "      <td>Ireland</td>\n",
       "      <td>bytearray(b'\\xff\\xd8\\xff\\xe0\\x00\\x10JFIF\\x00\\x...</td>\n",
       "    </tr>\n",
       "    <tr>\n",
       "      <th>29</th>\n",
       "      <td>10</td>\n",
       "      <td>Honduran</td>\n",
       "      <td>bytearray(b'\\xff\\xd8\\xff\\xe0\\x00\\x10JFIF\\x00\\x...</td>\n",
       "    </tr>\n",
       "    <tr>\n",
       "      <th>30</th>\n",
       "      <td>11</td>\n",
       "      <td>Honduran</td>\n",
       "      <td>bytearray(b'\\xff\\xd8\\xff\\xe0\\x00\\x10JFIF\\x00\\x...</td>\n",
       "    </tr>\n",
       "    <tr>\n",
       "      <th>10</th>\n",
       "      <td>11</td>\n",
       "      <td>Ireland</td>\n",
       "      <td>bytearray(b'\\xff\\xd8\\xff\\xe0\\x00\\x10JFIF\\x00\\x...</td>\n",
       "    </tr>\n",
       "    <tr>\n",
       "      <th>11</th>\n",
       "      <td>12</td>\n",
       "      <td>Ireland</td>\n",
       "      <td>bytearray(b'\\xff\\xd8\\xff\\xe0\\x00\\x10JFIF\\x00\\x...</td>\n",
       "    </tr>\n",
       "    <tr>\n",
       "      <th>31</th>\n",
       "      <td>12</td>\n",
       "      <td>Honduran</td>\n",
       "      <td>bytearray(b'\\xff\\xd8\\xff\\xe0\\x00\\x10JFIF\\x00\\x...</td>\n",
       "    </tr>\n",
       "    <tr>\n",
       "      <th>32</th>\n",
       "      <td>13</td>\n",
       "      <td>Honduran</td>\n",
       "      <td>bytearray(b'\\xff\\xd8\\xff\\xe0\\x00\\x10JFIF\\x00\\x...</td>\n",
       "    </tr>\n",
       "    <tr>\n",
       "      <th>12</th>\n",
       "      <td>13</td>\n",
       "      <td>Ireland</td>\n",
       "      <td>bytearray(b'\\xff\\xd8\\xff\\xe0\\x00\\x10JFIF\\x00\\x...</td>\n",
       "    </tr>\n",
       "    <tr>\n",
       "      <th>33</th>\n",
       "      <td>14</td>\n",
       "      <td>Honduran</td>\n",
       "      <td>bytearray(b'\\xff\\xd8\\xff\\xe0\\x00\\x10JFIF\\x00\\x...</td>\n",
       "    </tr>\n",
       "    <tr>\n",
       "      <th>13</th>\n",
       "      <td>14</td>\n",
       "      <td>Ireland</td>\n",
       "      <td>bytearray(b'\\xff\\xd8\\xff\\xe0\\x00\\x10JFIF\\x00\\x...</td>\n",
       "    </tr>\n",
       "    <tr>\n",
       "      <th>14</th>\n",
       "      <td>15</td>\n",
       "      <td>Ireland</td>\n",
       "      <td>bytearray(b'\\xff\\xd8\\xff\\xe0\\x00\\x10JFIF\\x00\\x...</td>\n",
       "    </tr>\n",
       "    <tr>\n",
       "      <th>34</th>\n",
       "      <td>15</td>\n",
       "      <td>Honduran</td>\n",
       "      <td>bytearray(b'\\xff\\xd8\\xff\\xe0\\x00\\x10JFIF\\x00\\x...</td>\n",
       "    </tr>\n",
       "    <tr>\n",
       "      <th>35</th>\n",
       "      <td>16</td>\n",
       "      <td>Honduran</td>\n",
       "      <td>bytearray(b'\\xff\\xd8\\xff\\xe0\\x00\\x10JFIF\\x00\\x...</td>\n",
       "    </tr>\n",
       "    <tr>\n",
       "      <th>15</th>\n",
       "      <td>16</td>\n",
       "      <td>Ireland</td>\n",
       "      <td>bytearray(b'\\xff\\xd8\\xff\\xe0\\x00\\x10JFIF\\x00\\x...</td>\n",
       "    </tr>\n",
       "    <tr>\n",
       "      <th>36</th>\n",
       "      <td>17</td>\n",
       "      <td>Honduran</td>\n",
       "      <td>bytearray(b'\\xff\\xd8\\xff\\xe0\\x00\\x10JFIF\\x00\\x...</td>\n",
       "    </tr>\n",
       "    <tr>\n",
       "      <th>16</th>\n",
       "      <td>17</td>\n",
       "      <td>Ireland</td>\n",
       "      <td>bytearray(b'\\xff\\xd8\\xff\\xe0\\x00\\x10JFIF\\x00\\x...</td>\n",
       "    </tr>\n",
       "    <tr>\n",
       "      <th>37</th>\n",
       "      <td>18</td>\n",
       "      <td>Honduran</td>\n",
       "      <td>bytearray(b'\\xff\\xd8\\xff\\xe0\\x00\\x10JFIF\\x00\\x...</td>\n",
       "    </tr>\n",
       "    <tr>\n",
       "      <th>17</th>\n",
       "      <td>18</td>\n",
       "      <td>Ireland</td>\n",
       "      <td>bytearray(b'\\xff\\xd8\\xff\\xe0\\x00\\x10JFIF\\x00\\x...</td>\n",
       "    </tr>\n",
       "    <tr>\n",
       "      <th>38</th>\n",
       "      <td>19</td>\n",
       "      <td>Honduran</td>\n",
       "      <td>bytearray(b'\\xff\\xd8\\xff\\xe0\\x00\\x10JFIF\\x00\\x...</td>\n",
       "    </tr>\n",
       "    <tr>\n",
       "      <th>18</th>\n",
       "      <td>19</td>\n",
       "      <td>Ireland</td>\n",
       "      <td>bytearray(b'\\xff\\xd8\\xff\\xe0\\x00\\x10JFIF\\x00\\x...</td>\n",
       "    </tr>\n",
       "    <tr>\n",
       "      <th>19</th>\n",
       "      <td>20</td>\n",
       "      <td>Ireland</td>\n",
       "      <td>bytearray(b'\\xff\\xd8\\xff\\xe0\\x00\\x10JFIF\\x00\\x...</td>\n",
       "    </tr>\n",
       "    <tr>\n",
       "      <th>39</th>\n",
       "      <td>20</td>\n",
       "      <td>Honduran</td>\n",
       "      <td>bytearray(b'\\xff\\xd8\\xff\\xe0\\x00\\x10JFIF\\x00\\x...</td>\n",
       "    </tr>\n",
       "  </tbody>\n",
       "</table>\n",
       "</div>"
      ],
      "text/plain": [
       "    Name     Label                                               Data\n",
       "0      1   Ireland  bytearray(b'\\xff\\xd8\\xff\\xe0\\x00\\x10JFIF\\x00\\x...\n",
       "20     1  Honduran  bytearray(b'\\xff\\xd8\\xff\\xe0\\x00\\x10JFIF\\x00\\x...\n",
       "1      2   Ireland  bytearray(b'\\xff\\xd8\\xff\\xe0\\x00\\x10JFIF\\x00\\x...\n",
       "21     2  Honduran  bytearray(b'\\xff\\xd8\\xff\\xe0\\x00\\x10JFIF\\x00\\x...\n",
       "2      3   Ireland  bytearray(b'\\xff\\xd8\\xff\\xe0\\x00\\x10JFIF\\x00\\x...\n",
       "22     3  Honduran  bytearray(b'\\xff\\xd8\\xff\\xe0\\x00\\x10JFIF\\x00\\x...\n",
       "3      4   Ireland  bytearray(b'\\xff\\xd8\\xff\\xe0\\x00\\x10JFIF\\x00\\x...\n",
       "23     4  Honduran  bytearray(b'\\xff\\xd8\\xff\\xe0\\x00\\x10JFIF\\x00\\x...\n",
       "4      5   Ireland  bytearray(b'\\xff\\xd8\\xff\\xe0\\x00\\x10JFIF\\x00\\x...\n",
       "24     5  Honduran  bytearray(b'\\xff\\xd8\\xff\\xe0\\x00\\x10JFIF\\x00\\x...\n",
       "25     6  Honduran  bytearray(b'\\xff\\xd8\\xff\\xe0\\x00\\x10JFIF\\x00\\x...\n",
       "5      6   Ireland  bytearray(b'\\xff\\xd8\\xff\\xe0\\x00\\x10JFIF\\x00\\x...\n",
       "26     7  Honduran  bytearray(b'\\xff\\xd8\\xff\\xe0\\x00\\x10JFIF\\x00\\x...\n",
       "6      7   Ireland  bytearray(b'\\xff\\xd8\\xff\\xe0\\x00\\x10JFIF\\x00\\x...\n",
       "27     8  Honduran  bytearray(b'\\xff\\xd8\\xff\\xe0\\x00\\x10JFIF\\x00\\x...\n",
       "7      8   Ireland  bytearray(b'\\xff\\xd8\\xff\\xe0\\x00\\x10JFIF\\x00\\x...\n",
       "28     9  Honduran  bytearray(b'\\xff\\xd8\\xff\\xe0\\x00\\x10JFIF\\x00\\x...\n",
       "8      9   Ireland  bytearray(b'\\xff\\xd8\\xff\\xe0\\x00\\x10JFIF\\x00\\x...\n",
       "9     10   Ireland  bytearray(b'\\xff\\xd8\\xff\\xe0\\x00\\x10JFIF\\x00\\x...\n",
       "29    10  Honduran  bytearray(b'\\xff\\xd8\\xff\\xe0\\x00\\x10JFIF\\x00\\x...\n",
       "30    11  Honduran  bytearray(b'\\xff\\xd8\\xff\\xe0\\x00\\x10JFIF\\x00\\x...\n",
       "10    11   Ireland  bytearray(b'\\xff\\xd8\\xff\\xe0\\x00\\x10JFIF\\x00\\x...\n",
       "11    12   Ireland  bytearray(b'\\xff\\xd8\\xff\\xe0\\x00\\x10JFIF\\x00\\x...\n",
       "31    12  Honduran  bytearray(b'\\xff\\xd8\\xff\\xe0\\x00\\x10JFIF\\x00\\x...\n",
       "32    13  Honduran  bytearray(b'\\xff\\xd8\\xff\\xe0\\x00\\x10JFIF\\x00\\x...\n",
       "12    13   Ireland  bytearray(b'\\xff\\xd8\\xff\\xe0\\x00\\x10JFIF\\x00\\x...\n",
       "33    14  Honduran  bytearray(b'\\xff\\xd8\\xff\\xe0\\x00\\x10JFIF\\x00\\x...\n",
       "13    14   Ireland  bytearray(b'\\xff\\xd8\\xff\\xe0\\x00\\x10JFIF\\x00\\x...\n",
       "14    15   Ireland  bytearray(b'\\xff\\xd8\\xff\\xe0\\x00\\x10JFIF\\x00\\x...\n",
       "34    15  Honduran  bytearray(b'\\xff\\xd8\\xff\\xe0\\x00\\x10JFIF\\x00\\x...\n",
       "35    16  Honduran  bytearray(b'\\xff\\xd8\\xff\\xe0\\x00\\x10JFIF\\x00\\x...\n",
       "15    16   Ireland  bytearray(b'\\xff\\xd8\\xff\\xe0\\x00\\x10JFIF\\x00\\x...\n",
       "36    17  Honduran  bytearray(b'\\xff\\xd8\\xff\\xe0\\x00\\x10JFIF\\x00\\x...\n",
       "16    17   Ireland  bytearray(b'\\xff\\xd8\\xff\\xe0\\x00\\x10JFIF\\x00\\x...\n",
       "37    18  Honduran  bytearray(b'\\xff\\xd8\\xff\\xe0\\x00\\x10JFIF\\x00\\x...\n",
       "17    18   Ireland  bytearray(b'\\xff\\xd8\\xff\\xe0\\x00\\x10JFIF\\x00\\x...\n",
       "38    19  Honduran  bytearray(b'\\xff\\xd8\\xff\\xe0\\x00\\x10JFIF\\x00\\x...\n",
       "18    19   Ireland  bytearray(b'\\xff\\xd8\\xff\\xe0\\x00\\x10JFIF\\x00\\x...\n",
       "19    20   Ireland  bytearray(b'\\xff\\xd8\\xff\\xe0\\x00\\x10JFIF\\x00\\x...\n",
       "39    20  Honduran  bytearray(b'\\xff\\xd8\\xff\\xe0\\x00\\x10JFIF\\x00\\x..."
      ]
     },
     "execution_count": 28,
     "metadata": {},
     "output_type": "execute_result"
    }
   ],
   "source": [
    "pandasImagesDF"
   ]
  },
  {
   "cell_type": "markdown",
   "id": "995a9c11",
   "metadata": {},
   "source": [
    "Importing from Keras functionality necessary to implement CNN"
   ]
  },
  {
   "cell_type": "code",
   "execution_count": 6,
   "id": "a1c2b5d9",
   "metadata": {},
   "outputs": [],
   "source": [
    "from keras.models import Sequential\n",
    "from keras.layers import Dense, Dropout, Conv2D, MaxPool2D, Flatten\n",
    "from keras import utils\n",
    "from sklearn.metrics import accuracy_score"
   ]
  },
  {
   "cell_type": "markdown",
   "id": "0d048d97",
   "metadata": {},
   "source": [
    "For Now there is only 20 photos per Category, the training size will be 28 and test 12, This is for testing. After this I'll get more images to improve the CNN"
   ]
  },
  {
   "cell_type": "code",
   "execution_count": 18,
   "id": "7783f2bf",
   "metadata": {},
   "outputs": [],
   "source": [
    "X_train = pandasImagesDF.iloc[:-12,2]\n",
    "y_train = pandasImagesDF.iloc[:-12,1]\n",
    "X_test = pandasImagesDF.iloc[-12:,2]\n",
    "y_test = pandasImagesDF.iloc[-12:,1]\n"
   ]
  },
  {
   "cell_type": "code",
   "execution_count": 13,
   "id": "f84e8bc1",
   "metadata": {},
   "outputs": [],
   "source": [
    "from sklearn.preprocessing import OneHotEncoder"
   ]
  },
  {
   "cell_type": "code",
   "execution_count": 21,
   "id": "910fcbad",
   "metadata": {},
   "outputs": [],
   "source": [
    "encoder = OneHotEncoder(sparse_output=False)\n",
    "y_train = np.array(y_train).reshape(-1, 1)\n",
    "y_train = encoder.fit_transform(y_train)\n",
    "\n",
    "y_test = np.array(y_test).reshape(-1,1)\n",
    "y_test = encoder.fit_transform(y_test)"
   ]
  },
  {
   "cell_type": "code",
   "execution_count": 22,
   "id": "1d2b5e88",
   "metadata": {},
   "outputs": [
    {
     "data": {
      "text/plain": [
       "array([[0., 1.],\n",
       "       [1., 0.],\n",
       "       [1., 0.],\n",
       "       [0., 1.],\n",
       "       [1., 0.],\n",
       "       [0., 1.],\n",
       "       [1., 0.],\n",
       "       [0., 1.],\n",
       "       [1., 0.],\n",
       "       [0., 1.],\n",
       "       [0., 1.],\n",
       "       [1., 0.]])"
      ]
     },
     "execution_count": 22,
     "metadata": {},
     "output_type": "execute_result"
    }
   ],
   "source": [
    "y_test"
   ]
  },
  {
   "cell_type": "code",
   "execution_count": 23,
   "id": "76f0d338",
   "metadata": {},
   "outputs": [
    {
     "data": {
      "text/plain": [
       "0     bytearray(b'\\xff\\xd8\\xff\\xe0\\x00\\x10JFIF\\x00\\x...\n",
       "20    bytearray(b'\\xff\\xd8\\xff\\xe0\\x00\\x10JFIF\\x00\\x...\n",
       "1     bytearray(b'\\xff\\xd8\\xff\\xe0\\x00\\x10JFIF\\x00\\x...\n",
       "21    bytearray(b'\\xff\\xd8\\xff\\xe0\\x00\\x10JFIF\\x00\\x...\n",
       "2     bytearray(b'\\xff\\xd8\\xff\\xe0\\x00\\x10JFIF\\x00\\x...\n",
       "22    bytearray(b'\\xff\\xd8\\xff\\xe0\\x00\\x10JFIF\\x00\\x...\n",
       "3     bytearray(b'\\xff\\xd8\\xff\\xe0\\x00\\x10JFIF\\x00\\x...\n",
       "23    bytearray(b'\\xff\\xd8\\xff\\xe0\\x00\\x10JFIF\\x00\\x...\n",
       "4     bytearray(b'\\xff\\xd8\\xff\\xe0\\x00\\x10JFIF\\x00\\x...\n",
       "24    bytearray(b'\\xff\\xd8\\xff\\xe0\\x00\\x10JFIF\\x00\\x...\n",
       "25    bytearray(b'\\xff\\xd8\\xff\\xe0\\x00\\x10JFIF\\x00\\x...\n",
       "5     bytearray(b'\\xff\\xd8\\xff\\xe0\\x00\\x10JFIF\\x00\\x...\n",
       "26    bytearray(b'\\xff\\xd8\\xff\\xe0\\x00\\x10JFIF\\x00\\x...\n",
       "6     bytearray(b'\\xff\\xd8\\xff\\xe0\\x00\\x10JFIF\\x00\\x...\n",
       "27    bytearray(b'\\xff\\xd8\\xff\\xe0\\x00\\x10JFIF\\x00\\x...\n",
       "7     bytearray(b'\\xff\\xd8\\xff\\xe0\\x00\\x10JFIF\\x00\\x...\n",
       "28    bytearray(b'\\xff\\xd8\\xff\\xe0\\x00\\x10JFIF\\x00\\x...\n",
       "8     bytearray(b'\\xff\\xd8\\xff\\xe0\\x00\\x10JFIF\\x00\\x...\n",
       "9     bytearray(b'\\xff\\xd8\\xff\\xe0\\x00\\x10JFIF\\x00\\x...\n",
       "29    bytearray(b'\\xff\\xd8\\xff\\xe0\\x00\\x10JFIF\\x00\\x...\n",
       "30    bytearray(b'\\xff\\xd8\\xff\\xe0\\x00\\x10JFIF\\x00\\x...\n",
       "10    bytearray(b'\\xff\\xd8\\xff\\xe0\\x00\\x10JFIF\\x00\\x...\n",
       "11    bytearray(b'\\xff\\xd8\\xff\\xe0\\x00\\x10JFIF\\x00\\x...\n",
       "31    bytearray(b'\\xff\\xd8\\xff\\xe0\\x00\\x10JFIF\\x00\\x...\n",
       "32    bytearray(b'\\xff\\xd8\\xff\\xe0\\x00\\x10JFIF\\x00\\x...\n",
       "12    bytearray(b'\\xff\\xd8\\xff\\xe0\\x00\\x10JFIF\\x00\\x...\n",
       "33    bytearray(b'\\xff\\xd8\\xff\\xe0\\x00\\x10JFIF\\x00\\x...\n",
       "13    bytearray(b'\\xff\\xd8\\xff\\xe0\\x00\\x10JFIF\\x00\\x...\n",
       "Name: Data, dtype: object"
      ]
     },
     "execution_count": 23,
     "metadata": {},
     "output_type": "execute_result"
    }
   ],
   "source": [
    "X_train"
   ]
  }
 ],
 "metadata": {
  "kernelspec": {
   "display_name": "Python 3 (ipykernel)",
   "language": "python",
   "name": "python3"
  },
  "language_info": {
   "codemirror_mode": {
    "name": "ipython",
    "version": 3
   },
   "file_extension": ".py",
   "mimetype": "text/x-python",
   "name": "python",
   "nbconvert_exporter": "python",
   "pygments_lexer": "ipython3",
   "version": "3.11.4"
  }
 },
 "nbformat": 4,
 "nbformat_minor": 5
}
