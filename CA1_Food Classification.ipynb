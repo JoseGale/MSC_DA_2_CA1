{
 "cells": [
  {
   "cell_type": "code",
   "execution_count": 1,
   "id": "b9d7d5e7",
   "metadata": {},
   "outputs": [
    {
     "data": {
      "text/html": [
       "\n",
       "        <div>\n",
       "            <p><b>SparkContext</b></p>\n",
       "\n",
       "            <p><a href=\"http://jose-VirtualBox:4040\">Spark UI</a></p>\n",
       "\n",
       "            <dl>\n",
       "              <dt>Version</dt>\n",
       "                <dd><code>v3.4.2</code></dd>\n",
       "              <dt>Master</dt>\n",
       "                <dd><code>local[*]</code></dd>\n",
       "              <dt>AppName</dt>\n",
       "                <dd><code>PySparkShell</code></dd>\n",
       "            </dl>\n",
       "        </div>\n",
       "        "
      ],
      "text/plain": [
       "<SparkContext master=local[*] appName=PySparkShell>"
      ]
     },
     "execution_count": 1,
     "metadata": {},
     "output_type": "execute_result"
    }
   ],
   "source": [
    "sc"
   ]
  },
  {
   "cell_type": "code",
   "execution_count": 34,
   "id": "82c725f7",
   "metadata": {},
   "outputs": [],
   "source": [
    "import pandas as pd\n",
    "import numpy as np"
   ]
  },
  {
   "cell_type": "markdown",
   "id": "1ac38df3",
   "metadata": {},
   "source": [
    "I will use the functionality of Image Datasource of spark to collect and process images in bytes, and then start processing the images for the neural network"
   ]
  },
  {
   "cell_type": "code",
   "execution_count": 16,
   "id": "2678a34e",
   "metadata": {},
   "outputs": [],
   "source": [
    "images_folders = ['/CA1/Ireland','/CA1/Honduran']"
   ]
  },
  {
   "cell_type": "code",
   "execution_count": 17,
   "id": "66cf4c7a",
   "metadata": {},
   "outputs": [],
   "source": [
    "images_rdd = sc.binaryFiles(','.join(images_folders))"
   ]
  },
  {
   "cell_type": "code",
   "execution_count": 26,
   "id": "38c440f9",
   "metadata": {},
   "outputs": [],
   "source": [
    "def extract_data(data):\n",
    "    file_path, image_data = data\n",
    "    file_name = file_path.split('/')[-1]\n",
    "    file_name_without_ext = file_name.split(\".\")[0]\n",
    "    label,name = file_name_without_ext.split('_')[0], file_name_without_ext.split('_')[1]\n",
    "    \n",
    "    return name, label, image_data"
   ]
  },
  {
   "cell_type": "code",
   "execution_count": 27,
   "id": "0a744255",
   "metadata": {},
   "outputs": [
    {
     "name": "stderr",
     "output_type": "stream",
     "text": [
      "24/03/12 18:41:20 WARN BlockReaderFactory: I/O error constructing remote block reader.\n",
      "java.nio.channels.ClosedByInterruptException\n",
      "\tat java.nio.channels.spi.AbstractInterruptibleChannel.end(AbstractInterruptibleChannel.java:202)\n",
      "\tat sun.nio.ch.SocketChannelImpl.connect(SocketChannelImpl.java:658)\n",
      "\tat org.apache.hadoop.net.SocketIOWithTimeout.connect(SocketIOWithTimeout.java:191)\n",
      "\tat org.apache.hadoop.net.NetUtils.connect(NetUtils.java:586)\n",
      "\tat org.apache.hadoop.hdfs.DFSClient.newConnectedPeer(DFSClient.java:3033)\n",
      "\tat org.apache.hadoop.hdfs.client.impl.BlockReaderFactory.nextTcpPeer(BlockReaderFactory.java:829)\n",
      "\tat org.apache.hadoop.hdfs.client.impl.BlockReaderFactory.getRemoteBlockReaderFromTcp(BlockReaderFactory.java:754)\n",
      "\tat org.apache.hadoop.hdfs.client.impl.BlockReaderFactory.build(BlockReaderFactory.java:381)\n",
      "\tat org.apache.hadoop.hdfs.DFSInputStream.getBlockReader(DFSInputStream.java:755)\n",
      "\tat org.apache.hadoop.hdfs.DFSInputStream.blockSeekTo(DFSInputStream.java:685)\n",
      "\tat org.apache.hadoop.hdfs.DFSInputStream.readWithStrategy(DFSInputStream.java:884)\n",
      "\tat org.apache.hadoop.hdfs.DFSInputStream.read(DFSInputStream.java:957)\n",
      "\tat java.io.DataInputStream.read(DataInputStream.java:100)\n",
      "\tat org.sparkproject.guava.io.ByteStreams.copy(ByteStreams.java:207)\n",
      "\tat org.sparkproject.guava.io.ByteStreams.toByteArray(ByteStreams.java:252)\n",
      "\tat org.apache.spark.input.PortableDataStream.toArray(PortableDataStream.scala:205)\n",
      "\tat org.apache.spark.api.python.PythonRDD$.write$1(PythonRDD.scala:312)\n",
      "\tat org.apache.spark.api.python.PythonRDD$.$anonfun$writeIteratorToStream$1(PythonRDD.scala:320)\n",
      "\tat org.apache.spark.api.python.PythonRDD$.$anonfun$writeIteratorToStream$1$adapted(PythonRDD.scala:320)\n",
      "\tat scala.collection.Iterator.foreach(Iterator.scala:943)\n",
      "\tat scala.collection.Iterator.foreach$(Iterator.scala:943)\n",
      "\tat org.apache.spark.InterruptibleIterator.foreach(InterruptibleIterator.scala:28)\n",
      "\tat org.apache.spark.api.python.PythonRDD$.writeIteratorToStream(PythonRDD.scala:320)\n",
      "\tat org.apache.spark.api.python.PythonRunner$$anon$2.writeIteratorToStream(PythonRunner.scala:734)\n",
      "\tat org.apache.spark.api.python.BasePythonRunner$WriterThread.$anonfun$run$1(PythonRunner.scala:440)\n",
      "\tat org.apache.spark.util.Utils$.logUncaughtExceptions(Utils.scala:2088)\n",
      "\tat org.apache.spark.api.python.BasePythonRunner$WriterThread.run(PythonRunner.scala:274)\n"
     ]
    }
   ],
   "source": [
    "imageDf = images_rdd.map(lambda x: extract_data(x)).toDF([\"Name\",\"Label\",\"Data\"])"
   ]
  },
  {
   "cell_type": "code",
   "execution_count": 29,
   "id": "62871235",
   "metadata": {},
   "outputs": [
    {
     "name": "stderr",
     "output_type": "stream",
     "text": [
      "Traceback (most recent call last):\n",
      "  File \"/usr/local/spark/python/lib/pyspark.zip/pyspark/daemon.py\", line 193, in manager\n",
      "  File \"/usr/local/spark/python/lib/pyspark.zip/pyspark/daemon.py\", line 74, in worker\n",
      "  File \"/usr/local/spark/python/lib/pyspark.zip/pyspark/worker.py\", line 874, in main\n",
      "    if read_int(infile) == SpecialLengths.END_OF_STREAM:\n",
      "  File \"/usr/local/spark/python/lib/pyspark.zip/pyspark/serializers.py\", line 596, in read_int\n",
      "    raise EOFError\n",
      "EOFError\n"
     ]
    },
    {
     "name": "stdout",
     "output_type": "stream",
     "text": [
      "+----+-------+--------------------+\n",
      "|Name|  Label|                Data|\n",
      "+----+-------+--------------------+\n",
      "| 001|Ireland|[FF D8 FF E0 00 1...|\n",
      "| 002|Ireland|[FF D8 FF E0 00 1...|\n",
      "| 003|Ireland|[FF D8 FF E0 00 1...|\n",
      "| 004|Ireland|[FF D8 FF E0 00 1...|\n",
      "| 005|Ireland|[FF D8 FF E0 00 1...|\n",
      "| 006|Ireland|[FF D8 FF E0 00 1...|\n",
      "| 007|Ireland|[FF D8 FF E0 00 1...|\n",
      "| 008|Ireland|[FF D8 FF E0 00 1...|\n",
      "| 009|Ireland|[FF D8 FF E0 00 1...|\n",
      "| 010|Ireland|[FF D8 FF E0 00 1...|\n",
      "| 011|Ireland|[FF D8 FF E0 00 1...|\n",
      "| 012|Ireland|[FF D8 FF E0 00 1...|\n",
      "| 013|Ireland|[FF D8 FF E0 00 1...|\n",
      "| 014|Ireland|[FF D8 FF E0 00 1...|\n",
      "| 015|Ireland|[FF D8 FF E0 00 1...|\n",
      "| 016|Ireland|[FF D8 FF E0 00 1...|\n",
      "| 017|Ireland|[FF D8 FF E0 00 1...|\n",
      "| 018|Ireland|[FF D8 FF E0 00 1...|\n",
      "| 019|Ireland|[FF D8 FF E0 00 1...|\n",
      "| 020|Ireland|[FF D8 FF E0 00 1...|\n",
      "+----+-------+--------------------+\n",
      "only showing top 20 rows\n",
      "\n"
     ]
    }
   ],
   "source": [
    "imageDf.show()"
   ]
  },
  {
   "cell_type": "code",
   "execution_count": 35,
   "id": "234caf5c",
   "metadata": {},
   "outputs": [
    {
     "name": "stderr",
     "output_type": "stream",
     "text": [
      "                                                                                \r"
     ]
    }
   ],
   "source": [
    "pandasImagesDF = imageDf.toPandas()"
   ]
  },
  {
   "cell_type": "code",
   "execution_count": 38,
   "id": "688bd4b6",
   "metadata": {},
   "outputs": [],
   "source": [
    "pandasImagesDF.to_csv(\"./Dataset/images.csv\", index=False)"
   ]
  },
  {
   "cell_type": "markdown",
   "id": "995a9c11",
   "metadata": {},
   "source": [
    "Importing from Keras functionality necessary to implement CNN"
   ]
  },
  {
   "cell_type": "code",
   "execution_count": null,
   "id": "a1c2b5d9",
   "metadata": {},
   "outputs": [],
   "source": [
    "from keras.models import Sequential"
   ]
  },
  {
   "cell_type": "code",
   "execution_count": null,
   "id": "27208ae5",
   "metadata": {},
   "outputs": [],
   "source": []
  }
 ],
 "metadata": {
  "kernelspec": {
   "display_name": "Python 3 (ipykernel)",
   "language": "python",
   "name": "python3"
  },
  "language_info": {
   "codemirror_mode": {
    "name": "ipython",
    "version": 3
   },
   "file_extension": ".py",
   "mimetype": "text/x-python",
   "name": "python",
   "nbconvert_exporter": "python",
   "pygments_lexer": "ipython3",
   "version": "3.10.12"
  }
 },
 "nbformat": 4,
 "nbformat_minor": 5
}
