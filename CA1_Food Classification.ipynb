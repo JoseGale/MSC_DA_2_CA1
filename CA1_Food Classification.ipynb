{
 "cells": [
  {
   "cell_type": "code",
   "execution_count": 1,
   "id": "04efe408",
   "metadata": {},
   "outputs": [
    {
     "data": {
      "text/html": [
       "\n",
       "        <div>\n",
       "            <p><b>SparkContext</b></p>\n",
       "\n",
       "            <p><a href=\"http://jose-VirtualBox:4040\">Spark UI</a></p>\n",
       "\n",
       "            <dl>\n",
       "              <dt>Version</dt>\n",
       "                <dd><code>v3.4.2</code></dd>\n",
       "              <dt>Master</dt>\n",
       "                <dd><code>local[*]</code></dd>\n",
       "              <dt>AppName</dt>\n",
       "                <dd><code>PySparkShell</code></dd>\n",
       "            </dl>\n",
       "        </div>\n",
       "        "
      ],
      "text/plain": [
       "<SparkContext master=local[*] appName=PySparkShell>"
      ]
     },
     "execution_count": 1,
     "metadata": {},
     "output_type": "execute_result"
    }
   ],
   "source": [
    "sc"
   ]
  },
  {
   "cell_type": "markdown",
   "id": "282b8814",
   "metadata": {},
   "source": [
    "I will use the functionality of Image Datasource of spark to collect and process images in bytes, and then start processing the images for the neural network"
   ]
  },
  {
   "cell_type": "code",
   "execution_count": 21,
   "id": "6b31578b",
   "metadata": {},
   "outputs": [],
   "source": [
    " df = spark.read.format(\"image\").option(\"dropInvalid\", True).load(\"/CA1/Ireland\")"
   ]
  },
  {
   "cell_type": "code",
   "execution_count": 26,
   "id": "1d09343d",
   "metadata": {},
   "outputs": [],
   "source": [
    "df = df.select(\"image.data\")"
   ]
  },
  {
   "cell_type": "code",
   "execution_count": 27,
   "id": "0df9f29d",
   "metadata": {},
   "outputs": [
    {
     "name": "stdout",
     "output_type": "stream",
     "text": [
      "+--------------------+\n",
      "|                data|\n",
      "+--------------------+\n",
      "|[92 7C 60 92 7C 6...|\n",
      "|[3D 67 96 3E 68 9...|\n",
      "|[FF FF FF FF FF F...|\n",
      "|[7F 94 AF 7F 94 A...|\n",
      "|[89 84 83 89 84 8...|\n",
      "|[8E 9B A9 79 86 9...|\n",
      "|[B9 B5 C0 BB B7 C...|\n",
      "|[96 8D 83 CD C8 B...|\n",
      "|[F6 DC D6 F9 DF D...|\n",
      "|[F3 F3 F3 F3 F3 F...|\n",
      "|[FF FF FF FF FF F...|\n",
      "|[9C 7B 5A 9C 7B 5...|\n",
      "|[80 AB CC 7A A5 C...|\n",
      "|[03 1B 49 10 29 5...|\n",
      "|[CE D2 E4 C8 D2 E...|\n",
      "|[31 3E 4C 31 3E 4...|\n",
      "|[3C 86 B6 3C 86 B...|\n",
      "|[AF C9 DA A9 C3 D...|\n",
      "|[16 09 07 19 0D 0...|\n",
      "|[CA CB C1 C7 C8 B...|\n",
      "+--------------------+\n",
      "\n"
     ]
    }
   ],
   "source": [
    "df.show()"
   ]
  }
 ],
 "metadata": {
  "kernelspec": {
   "display_name": "Python 3 (ipykernel)",
   "language": "python",
   "name": "python3"
  },
  "language_info": {
   "codemirror_mode": {
    "name": "ipython",
    "version": 3
   },
   "file_extension": ".py",
   "mimetype": "text/x-python",
   "name": "python",
   "nbconvert_exporter": "python",
   "pygments_lexer": "ipython3",
   "version": "3.10.12"
  }
 },
 "nbformat": 4,
 "nbformat_minor": 5
}
