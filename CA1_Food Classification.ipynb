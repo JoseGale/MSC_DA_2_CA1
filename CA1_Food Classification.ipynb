{
 "cells": [
  {
   "cell_type": "code",
   "execution_count": null,
   "id": "b9d7d5e7",
   "metadata": {},
   "outputs": [],
   "source": [
    "sc"
   ]
  },
  {
   "cell_type": "code",
   "execution_count": 81,
   "id": "82c725f7",
   "metadata": {},
   "outputs": [],
   "source": [
    "import pandas as pd\n",
    "import numpy as np\n",
    "from PIL import Image\n",
    "from io import BytesIO\n",
    "import re\n",
    "import tensorflow as tf\n",
    "import cv2"
   ]
  },
  {
   "cell_type": "markdown",
   "id": "1ac38df3",
   "metadata": {},
   "source": [
    "I will use the functionality of Image Datasource of spark to collect and process images in bytes, and then start processing the images for the neural network"
   ]
  },
  {
   "cell_type": "code",
   "execution_count": null,
   "id": "2678a34e",
   "metadata": {},
   "outputs": [],
   "source": [
    "images_folders = ['/CA1/Ireland','/CA1/Honduran']"
   ]
  },
  {
   "cell_type": "code",
   "execution_count": null,
   "id": "66cf4c7a",
   "metadata": {},
   "outputs": [],
   "source": [
    "images_rdd = sc.binaryFiles(','.join(images_folders))"
   ]
  },
  {
   "cell_type": "code",
   "execution_count": null,
   "id": "38c440f9",
   "metadata": {},
   "outputs": [],
   "source": [
    "def extract_data(data):\n",
    "    file_path, image_data = data\n",
    "    image = Image.open(BytesIO(image_data))\n",
    "    image_array = np.array(image)\n",
    "    \n",
    "    file_name = file_path.split('/')[-1]\n",
    "    file_name_without_ext = file_name.split(\".\")[0]\n",
    "    label,name = file_name_without_ext.split('_')[0], file_name_without_ext.split('_')[1]\n",
    "    \n",
    "    return name, label, image_array"
   ]
  },
  {
   "cell_type": "code",
   "execution_count": null,
   "id": "0a744255",
   "metadata": {},
   "outputs": [],
   "source": [
    "imageDf = images_rdd.map(lambda x: extract_data(x)).toDF([\"Name\",\"Label\",\"Data\"])"
   ]
  },
  {
   "cell_type": "code",
   "execution_count": null,
   "id": "62871235",
   "metadata": {},
   "outputs": [],
   "source": [
    "imageDf.show()"
   ]
  },
  {
   "cell_type": "code",
   "execution_count": null,
   "id": "234caf5c",
   "metadata": {},
   "outputs": [],
   "source": [
    "pandasImagesDF = imageDf.toPandas()"
   ]
  },
  {
   "cell_type": "markdown",
   "id": "1e57062c",
   "metadata": {},
   "source": [
    "Saving dataframe in a CSV, to not process the images each time I start the proyect"
   ]
  },
  {
   "cell_type": "code",
   "execution_count": null,
   "id": "688bd4b6",
   "metadata": {},
   "outputs": [],
   "source": [
    "pandasImagesDF.to_csv(\"./Dataset/images.csv\", index=False)"
   ]
  },
  {
   "cell_type": "markdown",
   "id": "f4feb36a",
   "metadata": {},
   "source": [
    "Read CSV saved in the project, to save time"
   ]
  },
  {
   "cell_type": "code",
   "execution_count": 123,
   "id": "71650a04",
   "metadata": {},
   "outputs": [],
   "source": [
    "pandasImagesDF = pd.read_csv(\"./Dataset/images.csv\")"
   ]
  },
  {
   "cell_type": "code",
   "execution_count": 124,
   "id": "18ac9420",
   "metadata": {},
   "outputs": [],
   "source": [
    "pandasImagesDF = pandasImagesDF.sort_values(by=[\"Name\"])"
   ]
  },
  {
   "cell_type": "code",
   "execution_count": 125,
   "id": "8d51a004",
   "metadata": {
    "scrolled": false
   },
   "outputs": [
    {
     "data": {
      "text/html": [
       "<div>\n",
       "<style scoped>\n",
       "    .dataframe tbody tr th:only-of-type {\n",
       "        vertical-align: middle;\n",
       "    }\n",
       "\n",
       "    .dataframe tbody tr th {\n",
       "        vertical-align: top;\n",
       "    }\n",
       "\n",
       "    .dataframe thead th {\n",
       "        text-align: right;\n",
       "    }\n",
       "</style>\n",
       "<table border=\"1\" class=\"dataframe\">\n",
       "  <thead>\n",
       "    <tr style=\"text-align: right;\">\n",
       "      <th></th>\n",
       "      <th>Name</th>\n",
       "      <th>Label</th>\n",
       "      <th>Data</th>\n",
       "    </tr>\n",
       "  </thead>\n",
       "  <tbody>\n",
       "    <tr>\n",
       "      <th>0</th>\n",
       "      <td>1</td>\n",
       "      <td>Ireland</td>\n",
       "      <td>bytearray(b'\\xff\\xd8\\xff\\xe0\\x00\\x10JFIF\\x00\\x...</td>\n",
       "    </tr>\n",
       "    <tr>\n",
       "      <th>20</th>\n",
       "      <td>1</td>\n",
       "      <td>Honduran</td>\n",
       "      <td>bytearray(b'\\xff\\xd8\\xff\\xe0\\x00\\x10JFIF\\x00\\x...</td>\n",
       "    </tr>\n",
       "    <tr>\n",
       "      <th>1</th>\n",
       "      <td>2</td>\n",
       "      <td>Ireland</td>\n",
       "      <td>bytearray(b'\\xff\\xd8\\xff\\xe0\\x00\\x10JFIF\\x00\\x...</td>\n",
       "    </tr>\n",
       "    <tr>\n",
       "      <th>21</th>\n",
       "      <td>2</td>\n",
       "      <td>Honduran</td>\n",
       "      <td>bytearray(b'\\xff\\xd8\\xff\\xe0\\x00\\x10JFIF\\x00\\x...</td>\n",
       "    </tr>\n",
       "    <tr>\n",
       "      <th>2</th>\n",
       "      <td>3</td>\n",
       "      <td>Ireland</td>\n",
       "      <td>bytearray(b'\\xff\\xd8\\xff\\xe0\\x00\\x10JFIF\\x00\\x...</td>\n",
       "    </tr>\n",
       "    <tr>\n",
       "      <th>22</th>\n",
       "      <td>3</td>\n",
       "      <td>Honduran</td>\n",
       "      <td>bytearray(b'\\xff\\xd8\\xff\\xe0\\x00\\x10JFIF\\x00\\x...</td>\n",
       "    </tr>\n",
       "    <tr>\n",
       "      <th>3</th>\n",
       "      <td>4</td>\n",
       "      <td>Ireland</td>\n",
       "      <td>bytearray(b'\\xff\\xd8\\xff\\xe0\\x00\\x10JFIF\\x00\\x...</td>\n",
       "    </tr>\n",
       "    <tr>\n",
       "      <th>23</th>\n",
       "      <td>4</td>\n",
       "      <td>Honduran</td>\n",
       "      <td>bytearray(b'\\xff\\xd8\\xff\\xe0\\x00\\x10JFIF\\x00\\x...</td>\n",
       "    </tr>\n",
       "    <tr>\n",
       "      <th>4</th>\n",
       "      <td>5</td>\n",
       "      <td>Ireland</td>\n",
       "      <td>bytearray(b'\\xff\\xd8\\xff\\xe0\\x00\\x10JFIF\\x00\\x...</td>\n",
       "    </tr>\n",
       "    <tr>\n",
       "      <th>24</th>\n",
       "      <td>5</td>\n",
       "      <td>Honduran</td>\n",
       "      <td>bytearray(b'\\xff\\xd8\\xff\\xe0\\x00\\x10JFIF\\x00\\x...</td>\n",
       "    </tr>\n",
       "    <tr>\n",
       "      <th>25</th>\n",
       "      <td>6</td>\n",
       "      <td>Honduran</td>\n",
       "      <td>bytearray(b'\\xff\\xd8\\xff\\xe0\\x00\\x10JFIF\\x00\\x...</td>\n",
       "    </tr>\n",
       "    <tr>\n",
       "      <th>5</th>\n",
       "      <td>6</td>\n",
       "      <td>Ireland</td>\n",
       "      <td>bytearray(b'\\xff\\xd8\\xff\\xe0\\x00\\x10JFIF\\x00\\x...</td>\n",
       "    </tr>\n",
       "    <tr>\n",
       "      <th>26</th>\n",
       "      <td>7</td>\n",
       "      <td>Honduran</td>\n",
       "      <td>bytearray(b'\\xff\\xd8\\xff\\xe0\\x00\\x10JFIF\\x00\\x...</td>\n",
       "    </tr>\n",
       "    <tr>\n",
       "      <th>6</th>\n",
       "      <td>7</td>\n",
       "      <td>Ireland</td>\n",
       "      <td>bytearray(b'\\xff\\xd8\\xff\\xe0\\x00\\x10JFIF\\x00\\x...</td>\n",
       "    </tr>\n",
       "    <tr>\n",
       "      <th>27</th>\n",
       "      <td>8</td>\n",
       "      <td>Honduran</td>\n",
       "      <td>bytearray(b'\\xff\\xd8\\xff\\xe0\\x00\\x10JFIF\\x00\\x...</td>\n",
       "    </tr>\n",
       "    <tr>\n",
       "      <th>7</th>\n",
       "      <td>8</td>\n",
       "      <td>Ireland</td>\n",
       "      <td>bytearray(b'\\xff\\xd8\\xff\\xe0\\x00\\x10JFIF\\x00\\x...</td>\n",
       "    </tr>\n",
       "    <tr>\n",
       "      <th>28</th>\n",
       "      <td>9</td>\n",
       "      <td>Honduran</td>\n",
       "      <td>bytearray(b'\\xff\\xd8\\xff\\xe0\\x00\\x10JFIF\\x00\\x...</td>\n",
       "    </tr>\n",
       "    <tr>\n",
       "      <th>8</th>\n",
       "      <td>9</td>\n",
       "      <td>Ireland</td>\n",
       "      <td>bytearray(b'\\xff\\xd8\\xff\\xe0\\x00\\x10JFIF\\x00\\x...</td>\n",
       "    </tr>\n",
       "    <tr>\n",
       "      <th>9</th>\n",
       "      <td>10</td>\n",
       "      <td>Ireland</td>\n",
       "      <td>bytearray(b'\\xff\\xd8\\xff\\xe0\\x00\\x10JFIF\\x00\\x...</td>\n",
       "    </tr>\n",
       "    <tr>\n",
       "      <th>29</th>\n",
       "      <td>10</td>\n",
       "      <td>Honduran</td>\n",
       "      <td>bytearray(b'\\xff\\xd8\\xff\\xe0\\x00\\x10JFIF\\x00\\x...</td>\n",
       "    </tr>\n",
       "    <tr>\n",
       "      <th>30</th>\n",
       "      <td>11</td>\n",
       "      <td>Honduran</td>\n",
       "      <td>bytearray(b'\\xff\\xd8\\xff\\xe0\\x00\\x10JFIF\\x00\\x...</td>\n",
       "    </tr>\n",
       "    <tr>\n",
       "      <th>10</th>\n",
       "      <td>11</td>\n",
       "      <td>Ireland</td>\n",
       "      <td>bytearray(b'\\xff\\xd8\\xff\\xe0\\x00\\x10JFIF\\x00\\x...</td>\n",
       "    </tr>\n",
       "    <tr>\n",
       "      <th>11</th>\n",
       "      <td>12</td>\n",
       "      <td>Ireland</td>\n",
       "      <td>bytearray(b'\\xff\\xd8\\xff\\xe0\\x00\\x10JFIF\\x00\\x...</td>\n",
       "    </tr>\n",
       "    <tr>\n",
       "      <th>31</th>\n",
       "      <td>12</td>\n",
       "      <td>Honduran</td>\n",
       "      <td>bytearray(b'\\xff\\xd8\\xff\\xe0\\x00\\x10JFIF\\x00\\x...</td>\n",
       "    </tr>\n",
       "    <tr>\n",
       "      <th>32</th>\n",
       "      <td>13</td>\n",
       "      <td>Honduran</td>\n",
       "      <td>bytearray(b'\\xff\\xd8\\xff\\xe0\\x00\\x10JFIF\\x00\\x...</td>\n",
       "    </tr>\n",
       "    <tr>\n",
       "      <th>12</th>\n",
       "      <td>13</td>\n",
       "      <td>Ireland</td>\n",
       "      <td>bytearray(b'\\xff\\xd8\\xff\\xe0\\x00\\x10JFIF\\x00\\x...</td>\n",
       "    </tr>\n",
       "    <tr>\n",
       "      <th>33</th>\n",
       "      <td>14</td>\n",
       "      <td>Honduran</td>\n",
       "      <td>bytearray(b'\\xff\\xd8\\xff\\xe0\\x00\\x10JFIF\\x00\\x...</td>\n",
       "    </tr>\n",
       "    <tr>\n",
       "      <th>13</th>\n",
       "      <td>14</td>\n",
       "      <td>Ireland</td>\n",
       "      <td>bytearray(b'\\xff\\xd8\\xff\\xe0\\x00\\x10JFIF\\x00\\x...</td>\n",
       "    </tr>\n",
       "    <tr>\n",
       "      <th>14</th>\n",
       "      <td>15</td>\n",
       "      <td>Ireland</td>\n",
       "      <td>bytearray(b'\\xff\\xd8\\xff\\xe0\\x00\\x10JFIF\\x00\\x...</td>\n",
       "    </tr>\n",
       "    <tr>\n",
       "      <th>34</th>\n",
       "      <td>15</td>\n",
       "      <td>Honduran</td>\n",
       "      <td>bytearray(b'\\xff\\xd8\\xff\\xe0\\x00\\x10JFIF\\x00\\x...</td>\n",
       "    </tr>\n",
       "    <tr>\n",
       "      <th>35</th>\n",
       "      <td>16</td>\n",
       "      <td>Honduran</td>\n",
       "      <td>bytearray(b'\\xff\\xd8\\xff\\xe0\\x00\\x10JFIF\\x00\\x...</td>\n",
       "    </tr>\n",
       "    <tr>\n",
       "      <th>15</th>\n",
       "      <td>16</td>\n",
       "      <td>Ireland</td>\n",
       "      <td>bytearray(b'\\xff\\xd8\\xff\\xe0\\x00\\x10JFIF\\x00\\x...</td>\n",
       "    </tr>\n",
       "    <tr>\n",
       "      <th>36</th>\n",
       "      <td>17</td>\n",
       "      <td>Honduran</td>\n",
       "      <td>bytearray(b'\\xff\\xd8\\xff\\xe0\\x00\\x10JFIF\\x00\\x...</td>\n",
       "    </tr>\n",
       "    <tr>\n",
       "      <th>16</th>\n",
       "      <td>17</td>\n",
       "      <td>Ireland</td>\n",
       "      <td>bytearray(b'\\xff\\xd8\\xff\\xe0\\x00\\x10JFIF\\x00\\x...</td>\n",
       "    </tr>\n",
       "    <tr>\n",
       "      <th>37</th>\n",
       "      <td>18</td>\n",
       "      <td>Honduran</td>\n",
       "      <td>bytearray(b'\\xff\\xd8\\xff\\xe0\\x00\\x10JFIF\\x00\\x...</td>\n",
       "    </tr>\n",
       "    <tr>\n",
       "      <th>17</th>\n",
       "      <td>18</td>\n",
       "      <td>Ireland</td>\n",
       "      <td>bytearray(b'\\xff\\xd8\\xff\\xe0\\x00\\x10JFIF\\x00\\x...</td>\n",
       "    </tr>\n",
       "    <tr>\n",
       "      <th>38</th>\n",
       "      <td>19</td>\n",
       "      <td>Honduran</td>\n",
       "      <td>bytearray(b'\\xff\\xd8\\xff\\xe0\\x00\\x10JFIF\\x00\\x...</td>\n",
       "    </tr>\n",
       "    <tr>\n",
       "      <th>18</th>\n",
       "      <td>19</td>\n",
       "      <td>Ireland</td>\n",
       "      <td>bytearray(b'\\xff\\xd8\\xff\\xe0\\x00\\x10JFIF\\x00\\x...</td>\n",
       "    </tr>\n",
       "    <tr>\n",
       "      <th>19</th>\n",
       "      <td>20</td>\n",
       "      <td>Ireland</td>\n",
       "      <td>bytearray(b'\\xff\\xd8\\xff\\xe0\\x00\\x10JFIF\\x00\\x...</td>\n",
       "    </tr>\n",
       "    <tr>\n",
       "      <th>39</th>\n",
       "      <td>20</td>\n",
       "      <td>Honduran</td>\n",
       "      <td>bytearray(b'\\xff\\xd8\\xff\\xe0\\x00\\x10JFIF\\x00\\x...</td>\n",
       "    </tr>\n",
       "  </tbody>\n",
       "</table>\n",
       "</div>"
      ],
      "text/plain": [
       "    Name     Label                                               Data\n",
       "0      1   Ireland  bytearray(b'\\xff\\xd8\\xff\\xe0\\x00\\x10JFIF\\x00\\x...\n",
       "20     1  Honduran  bytearray(b'\\xff\\xd8\\xff\\xe0\\x00\\x10JFIF\\x00\\x...\n",
       "1      2   Ireland  bytearray(b'\\xff\\xd8\\xff\\xe0\\x00\\x10JFIF\\x00\\x...\n",
       "21     2  Honduran  bytearray(b'\\xff\\xd8\\xff\\xe0\\x00\\x10JFIF\\x00\\x...\n",
       "2      3   Ireland  bytearray(b'\\xff\\xd8\\xff\\xe0\\x00\\x10JFIF\\x00\\x...\n",
       "22     3  Honduran  bytearray(b'\\xff\\xd8\\xff\\xe0\\x00\\x10JFIF\\x00\\x...\n",
       "3      4   Ireland  bytearray(b'\\xff\\xd8\\xff\\xe0\\x00\\x10JFIF\\x00\\x...\n",
       "23     4  Honduran  bytearray(b'\\xff\\xd8\\xff\\xe0\\x00\\x10JFIF\\x00\\x...\n",
       "4      5   Ireland  bytearray(b'\\xff\\xd8\\xff\\xe0\\x00\\x10JFIF\\x00\\x...\n",
       "24     5  Honduran  bytearray(b'\\xff\\xd8\\xff\\xe0\\x00\\x10JFIF\\x00\\x...\n",
       "25     6  Honduran  bytearray(b'\\xff\\xd8\\xff\\xe0\\x00\\x10JFIF\\x00\\x...\n",
       "5      6   Ireland  bytearray(b'\\xff\\xd8\\xff\\xe0\\x00\\x10JFIF\\x00\\x...\n",
       "26     7  Honduran  bytearray(b'\\xff\\xd8\\xff\\xe0\\x00\\x10JFIF\\x00\\x...\n",
       "6      7   Ireland  bytearray(b'\\xff\\xd8\\xff\\xe0\\x00\\x10JFIF\\x00\\x...\n",
       "27     8  Honduran  bytearray(b'\\xff\\xd8\\xff\\xe0\\x00\\x10JFIF\\x00\\x...\n",
       "7      8   Ireland  bytearray(b'\\xff\\xd8\\xff\\xe0\\x00\\x10JFIF\\x00\\x...\n",
       "28     9  Honduran  bytearray(b'\\xff\\xd8\\xff\\xe0\\x00\\x10JFIF\\x00\\x...\n",
       "8      9   Ireland  bytearray(b'\\xff\\xd8\\xff\\xe0\\x00\\x10JFIF\\x00\\x...\n",
       "9     10   Ireland  bytearray(b'\\xff\\xd8\\xff\\xe0\\x00\\x10JFIF\\x00\\x...\n",
       "29    10  Honduran  bytearray(b'\\xff\\xd8\\xff\\xe0\\x00\\x10JFIF\\x00\\x...\n",
       "30    11  Honduran  bytearray(b'\\xff\\xd8\\xff\\xe0\\x00\\x10JFIF\\x00\\x...\n",
       "10    11   Ireland  bytearray(b'\\xff\\xd8\\xff\\xe0\\x00\\x10JFIF\\x00\\x...\n",
       "11    12   Ireland  bytearray(b'\\xff\\xd8\\xff\\xe0\\x00\\x10JFIF\\x00\\x...\n",
       "31    12  Honduran  bytearray(b'\\xff\\xd8\\xff\\xe0\\x00\\x10JFIF\\x00\\x...\n",
       "32    13  Honduran  bytearray(b'\\xff\\xd8\\xff\\xe0\\x00\\x10JFIF\\x00\\x...\n",
       "12    13   Ireland  bytearray(b'\\xff\\xd8\\xff\\xe0\\x00\\x10JFIF\\x00\\x...\n",
       "33    14  Honduran  bytearray(b'\\xff\\xd8\\xff\\xe0\\x00\\x10JFIF\\x00\\x...\n",
       "13    14   Ireland  bytearray(b'\\xff\\xd8\\xff\\xe0\\x00\\x10JFIF\\x00\\x...\n",
       "14    15   Ireland  bytearray(b'\\xff\\xd8\\xff\\xe0\\x00\\x10JFIF\\x00\\x...\n",
       "34    15  Honduran  bytearray(b'\\xff\\xd8\\xff\\xe0\\x00\\x10JFIF\\x00\\x...\n",
       "35    16  Honduran  bytearray(b'\\xff\\xd8\\xff\\xe0\\x00\\x10JFIF\\x00\\x...\n",
       "15    16   Ireland  bytearray(b'\\xff\\xd8\\xff\\xe0\\x00\\x10JFIF\\x00\\x...\n",
       "36    17  Honduran  bytearray(b'\\xff\\xd8\\xff\\xe0\\x00\\x10JFIF\\x00\\x...\n",
       "16    17   Ireland  bytearray(b'\\xff\\xd8\\xff\\xe0\\x00\\x10JFIF\\x00\\x...\n",
       "37    18  Honduran  bytearray(b'\\xff\\xd8\\xff\\xe0\\x00\\x10JFIF\\x00\\x...\n",
       "17    18   Ireland  bytearray(b'\\xff\\xd8\\xff\\xe0\\x00\\x10JFIF\\x00\\x...\n",
       "38    19  Honduran  bytearray(b'\\xff\\xd8\\xff\\xe0\\x00\\x10JFIF\\x00\\x...\n",
       "18    19   Ireland  bytearray(b'\\xff\\xd8\\xff\\xe0\\x00\\x10JFIF\\x00\\x...\n",
       "19    20   Ireland  bytearray(b'\\xff\\xd8\\xff\\xe0\\x00\\x10JFIF\\x00\\x...\n",
       "39    20  Honduran  bytearray(b'\\xff\\xd8\\xff\\xe0\\x00\\x10JFIF\\x00\\x..."
      ]
     },
     "execution_count": 125,
     "metadata": {},
     "output_type": "execute_result"
    }
   ],
   "source": [
    "pandasImagesDF"
   ]
  },
  {
   "cell_type": "code",
   "execution_count": 128,
   "id": "8d5a3908",
   "metadata": {},
   "outputs": [],
   "source": [
    "def convert_string_to_np(string_repr):\n",
    "    # Extract hexadecimal values from the string representation\n",
    "    hex_values = re.findall(r'\\\\x([0-9a-fA-F]{2})', string_repr)\n",
    "    # Convert hexadecimal values to bytes\n",
    "    byte_data = bytes.fromhex(''.join(hex_values))\n",
    "    # Convert bytes to NumPy array\n",
    "    np_array = np.frombuffer(byte_data, dtype=np.uint8)\n",
    "    return np_array"
   ]
  },
  {
   "cell_type": "code",
   "execution_count": 129,
   "id": "2bf3adf4",
   "metadata": {
    "scrolled": true
   },
   "outputs": [],
   "source": [
    "pandasImagesDF[\"Data\"] = pandasImagesDF[\"Data\"].apply(convert_string_to_np)"
   ]
  },
  {
   "cell_type": "code",
   "execution_count": 130,
   "id": "06ca41b5",
   "metadata": {},
   "outputs": [],
   "source": [
    "pandasImagesDF[\"Data\"] = pandasImagesDF[\"Data\"].map(lambda x: x.astype(\"float32\")) "
   ]
  },
  {
   "cell_type": "code",
   "execution_count": 131,
   "id": "01af823f",
   "metadata": {
    "scrolled": false
   },
   "outputs": [
    {
     "data": {
      "text/html": [
       "<div>\n",
       "<style scoped>\n",
       "    .dataframe tbody tr th:only-of-type {\n",
       "        vertical-align: middle;\n",
       "    }\n",
       "\n",
       "    .dataframe tbody tr th {\n",
       "        vertical-align: top;\n",
       "    }\n",
       "\n",
       "    .dataframe thead th {\n",
       "        text-align: right;\n",
       "    }\n",
       "</style>\n",
       "<table border=\"1\" class=\"dataframe\">\n",
       "  <thead>\n",
       "    <tr style=\"text-align: right;\">\n",
       "      <th></th>\n",
       "      <th>Name</th>\n",
       "      <th>Label</th>\n",
       "      <th>Data</th>\n",
       "    </tr>\n",
       "  </thead>\n",
       "  <tbody>\n",
       "    <tr>\n",
       "      <th>0</th>\n",
       "      <td>1</td>\n",
       "      <td>Ireland</td>\n",
       "      <td>[255.0, 216.0, 255.0, 224.0, 0.0, 16.0, 0.0, 1...</td>\n",
       "    </tr>\n",
       "    <tr>\n",
       "      <th>20</th>\n",
       "      <td>1</td>\n",
       "      <td>Honduran</td>\n",
       "      <td>[255.0, 216.0, 255.0, 224.0, 0.0, 16.0, 0.0, 1...</td>\n",
       "    </tr>\n",
       "    <tr>\n",
       "      <th>1</th>\n",
       "      <td>2</td>\n",
       "      <td>Ireland</td>\n",
       "      <td>[255.0, 216.0, 255.0, 224.0, 0.0, 16.0, 0.0, 1...</td>\n",
       "    </tr>\n",
       "    <tr>\n",
       "      <th>21</th>\n",
       "      <td>2</td>\n",
       "      <td>Honduran</td>\n",
       "      <td>[255.0, 216.0, 255.0, 224.0, 0.0, 16.0, 0.0, 1...</td>\n",
       "    </tr>\n",
       "    <tr>\n",
       "      <th>2</th>\n",
       "      <td>3</td>\n",
       "      <td>Ireland</td>\n",
       "      <td>[255.0, 216.0, 255.0, 224.0, 0.0, 16.0, 0.0, 1...</td>\n",
       "    </tr>\n",
       "    <tr>\n",
       "      <th>22</th>\n",
       "      <td>3</td>\n",
       "      <td>Honduran</td>\n",
       "      <td>[255.0, 216.0, 255.0, 224.0, 0.0, 16.0, 0.0, 1...</td>\n",
       "    </tr>\n",
       "    <tr>\n",
       "      <th>3</th>\n",
       "      <td>4</td>\n",
       "      <td>Ireland</td>\n",
       "      <td>[255.0, 216.0, 255.0, 224.0, 0.0, 16.0, 0.0, 1...</td>\n",
       "    </tr>\n",
       "    <tr>\n",
       "      <th>23</th>\n",
       "      <td>4</td>\n",
       "      <td>Honduran</td>\n",
       "      <td>[255.0, 216.0, 255.0, 224.0, 0.0, 16.0, 0.0, 1...</td>\n",
       "    </tr>\n",
       "    <tr>\n",
       "      <th>4</th>\n",
       "      <td>5</td>\n",
       "      <td>Ireland</td>\n",
       "      <td>[255.0, 216.0, 255.0, 224.0, 0.0, 16.0, 0.0, 1...</td>\n",
       "    </tr>\n",
       "    <tr>\n",
       "      <th>24</th>\n",
       "      <td>5</td>\n",
       "      <td>Honduran</td>\n",
       "      <td>[255.0, 216.0, 255.0, 224.0, 0.0, 16.0, 0.0, 1...</td>\n",
       "    </tr>\n",
       "    <tr>\n",
       "      <th>25</th>\n",
       "      <td>6</td>\n",
       "      <td>Honduran</td>\n",
       "      <td>[255.0, 216.0, 255.0, 224.0, 0.0, 16.0, 0.0, 1...</td>\n",
       "    </tr>\n",
       "    <tr>\n",
       "      <th>5</th>\n",
       "      <td>6</td>\n",
       "      <td>Ireland</td>\n",
       "      <td>[255.0, 216.0, 255.0, 224.0, 0.0, 16.0, 0.0, 1...</td>\n",
       "    </tr>\n",
       "    <tr>\n",
       "      <th>26</th>\n",
       "      <td>7</td>\n",
       "      <td>Honduran</td>\n",
       "      <td>[255.0, 216.0, 255.0, 224.0, 0.0, 16.0, 0.0, 1...</td>\n",
       "    </tr>\n",
       "    <tr>\n",
       "      <th>6</th>\n",
       "      <td>7</td>\n",
       "      <td>Ireland</td>\n",
       "      <td>[255.0, 216.0, 255.0, 224.0, 0.0, 16.0, 0.0, 1...</td>\n",
       "    </tr>\n",
       "    <tr>\n",
       "      <th>27</th>\n",
       "      <td>8</td>\n",
       "      <td>Honduran</td>\n",
       "      <td>[255.0, 216.0, 255.0, 224.0, 0.0, 16.0, 0.0, 1...</td>\n",
       "    </tr>\n",
       "    <tr>\n",
       "      <th>7</th>\n",
       "      <td>8</td>\n",
       "      <td>Ireland</td>\n",
       "      <td>[255.0, 216.0, 255.0, 224.0, 0.0, 16.0, 0.0, 1...</td>\n",
       "    </tr>\n",
       "    <tr>\n",
       "      <th>28</th>\n",
       "      <td>9</td>\n",
       "      <td>Honduran</td>\n",
       "      <td>[255.0, 216.0, 255.0, 224.0, 0.0, 16.0, 0.0, 1...</td>\n",
       "    </tr>\n",
       "    <tr>\n",
       "      <th>8</th>\n",
       "      <td>9</td>\n",
       "      <td>Ireland</td>\n",
       "      <td>[255.0, 216.0, 255.0, 224.0, 0.0, 16.0, 0.0, 1...</td>\n",
       "    </tr>\n",
       "    <tr>\n",
       "      <th>9</th>\n",
       "      <td>10</td>\n",
       "      <td>Ireland</td>\n",
       "      <td>[255.0, 216.0, 255.0, 224.0, 0.0, 16.0, 0.0, 1...</td>\n",
       "    </tr>\n",
       "    <tr>\n",
       "      <th>29</th>\n",
       "      <td>10</td>\n",
       "      <td>Honduran</td>\n",
       "      <td>[255.0, 216.0, 255.0, 224.0, 0.0, 16.0, 0.0, 1...</td>\n",
       "    </tr>\n",
       "    <tr>\n",
       "      <th>30</th>\n",
       "      <td>11</td>\n",
       "      <td>Honduran</td>\n",
       "      <td>[255.0, 216.0, 255.0, 224.0, 0.0, 16.0, 0.0, 1...</td>\n",
       "    </tr>\n",
       "    <tr>\n",
       "      <th>10</th>\n",
       "      <td>11</td>\n",
       "      <td>Ireland</td>\n",
       "      <td>[255.0, 216.0, 255.0, 224.0, 0.0, 16.0, 0.0, 1...</td>\n",
       "    </tr>\n",
       "    <tr>\n",
       "      <th>11</th>\n",
       "      <td>12</td>\n",
       "      <td>Ireland</td>\n",
       "      <td>[255.0, 216.0, 255.0, 224.0, 0.0, 16.0, 0.0, 1...</td>\n",
       "    </tr>\n",
       "    <tr>\n",
       "      <th>31</th>\n",
       "      <td>12</td>\n",
       "      <td>Honduran</td>\n",
       "      <td>[255.0, 216.0, 255.0, 224.0, 0.0, 16.0, 0.0, 1...</td>\n",
       "    </tr>\n",
       "    <tr>\n",
       "      <th>32</th>\n",
       "      <td>13</td>\n",
       "      <td>Honduran</td>\n",
       "      <td>[255.0, 216.0, 255.0, 224.0, 0.0, 16.0, 0.0, 1...</td>\n",
       "    </tr>\n",
       "    <tr>\n",
       "      <th>12</th>\n",
       "      <td>13</td>\n",
       "      <td>Ireland</td>\n",
       "      <td>[255.0, 216.0, 255.0, 224.0, 0.0, 16.0, 0.0, 1...</td>\n",
       "    </tr>\n",
       "    <tr>\n",
       "      <th>33</th>\n",
       "      <td>14</td>\n",
       "      <td>Honduran</td>\n",
       "      <td>[255.0, 216.0, 255.0, 224.0, 0.0, 16.0, 0.0, 1...</td>\n",
       "    </tr>\n",
       "    <tr>\n",
       "      <th>13</th>\n",
       "      <td>14</td>\n",
       "      <td>Ireland</td>\n",
       "      <td>[255.0, 216.0, 255.0, 224.0, 0.0, 16.0, 0.0, 1...</td>\n",
       "    </tr>\n",
       "    <tr>\n",
       "      <th>14</th>\n",
       "      <td>15</td>\n",
       "      <td>Ireland</td>\n",
       "      <td>[255.0, 216.0, 255.0, 224.0, 0.0, 16.0, 0.0, 1...</td>\n",
       "    </tr>\n",
       "    <tr>\n",
       "      <th>34</th>\n",
       "      <td>15</td>\n",
       "      <td>Honduran</td>\n",
       "      <td>[255.0, 216.0, 255.0, 224.0, 0.0, 16.0, 0.0, 1...</td>\n",
       "    </tr>\n",
       "    <tr>\n",
       "      <th>35</th>\n",
       "      <td>16</td>\n",
       "      <td>Honduran</td>\n",
       "      <td>[255.0, 216.0, 255.0, 224.0, 0.0, 16.0, 0.0, 1...</td>\n",
       "    </tr>\n",
       "    <tr>\n",
       "      <th>15</th>\n",
       "      <td>16</td>\n",
       "      <td>Ireland</td>\n",
       "      <td>[255.0, 216.0, 255.0, 224.0, 0.0, 16.0, 0.0, 1...</td>\n",
       "    </tr>\n",
       "    <tr>\n",
       "      <th>36</th>\n",
       "      <td>17</td>\n",
       "      <td>Honduran</td>\n",
       "      <td>[255.0, 216.0, 255.0, 224.0, 0.0, 16.0, 0.0, 1...</td>\n",
       "    </tr>\n",
       "    <tr>\n",
       "      <th>16</th>\n",
       "      <td>17</td>\n",
       "      <td>Ireland</td>\n",
       "      <td>[255.0, 216.0, 255.0, 224.0, 0.0, 16.0, 0.0, 1...</td>\n",
       "    </tr>\n",
       "    <tr>\n",
       "      <th>37</th>\n",
       "      <td>18</td>\n",
       "      <td>Honduran</td>\n",
       "      <td>[255.0, 216.0, 255.0, 224.0, 0.0, 16.0, 0.0, 1...</td>\n",
       "    </tr>\n",
       "    <tr>\n",
       "      <th>17</th>\n",
       "      <td>18</td>\n",
       "      <td>Ireland</td>\n",
       "      <td>[255.0, 216.0, 255.0, 224.0, 0.0, 16.0, 0.0, 1...</td>\n",
       "    </tr>\n",
       "    <tr>\n",
       "      <th>38</th>\n",
       "      <td>19</td>\n",
       "      <td>Honduran</td>\n",
       "      <td>[255.0, 216.0, 255.0, 224.0, 0.0, 16.0, 0.0, 1...</td>\n",
       "    </tr>\n",
       "    <tr>\n",
       "      <th>18</th>\n",
       "      <td>19</td>\n",
       "      <td>Ireland</td>\n",
       "      <td>[255.0, 216.0, 255.0, 224.0, 0.0, 16.0, 0.0, 1...</td>\n",
       "    </tr>\n",
       "    <tr>\n",
       "      <th>19</th>\n",
       "      <td>20</td>\n",
       "      <td>Ireland</td>\n",
       "      <td>[255.0, 216.0, 255.0, 224.0, 0.0, 16.0, 0.0, 1...</td>\n",
       "    </tr>\n",
       "    <tr>\n",
       "      <th>39</th>\n",
       "      <td>20</td>\n",
       "      <td>Honduran</td>\n",
       "      <td>[255.0, 216.0, 255.0, 224.0, 0.0, 16.0, 0.0, 1...</td>\n",
       "    </tr>\n",
       "  </tbody>\n",
       "</table>\n",
       "</div>"
      ],
      "text/plain": [
       "    Name     Label                                               Data\n",
       "0      1   Ireland  [255.0, 216.0, 255.0, 224.0, 0.0, 16.0, 0.0, 1...\n",
       "20     1  Honduran  [255.0, 216.0, 255.0, 224.0, 0.0, 16.0, 0.0, 1...\n",
       "1      2   Ireland  [255.0, 216.0, 255.0, 224.0, 0.0, 16.0, 0.0, 1...\n",
       "21     2  Honduran  [255.0, 216.0, 255.0, 224.0, 0.0, 16.0, 0.0, 1...\n",
       "2      3   Ireland  [255.0, 216.0, 255.0, 224.0, 0.0, 16.0, 0.0, 1...\n",
       "22     3  Honduran  [255.0, 216.0, 255.0, 224.0, 0.0, 16.0, 0.0, 1...\n",
       "3      4   Ireland  [255.0, 216.0, 255.0, 224.0, 0.0, 16.0, 0.0, 1...\n",
       "23     4  Honduran  [255.0, 216.0, 255.0, 224.0, 0.0, 16.0, 0.0, 1...\n",
       "4      5   Ireland  [255.0, 216.0, 255.0, 224.0, 0.0, 16.0, 0.0, 1...\n",
       "24     5  Honduran  [255.0, 216.0, 255.0, 224.0, 0.0, 16.0, 0.0, 1...\n",
       "25     6  Honduran  [255.0, 216.0, 255.0, 224.0, 0.0, 16.0, 0.0, 1...\n",
       "5      6   Ireland  [255.0, 216.0, 255.0, 224.0, 0.0, 16.0, 0.0, 1...\n",
       "26     7  Honduran  [255.0, 216.0, 255.0, 224.0, 0.0, 16.0, 0.0, 1...\n",
       "6      7   Ireland  [255.0, 216.0, 255.0, 224.0, 0.0, 16.0, 0.0, 1...\n",
       "27     8  Honduran  [255.0, 216.0, 255.0, 224.0, 0.0, 16.0, 0.0, 1...\n",
       "7      8   Ireland  [255.0, 216.0, 255.0, 224.0, 0.0, 16.0, 0.0, 1...\n",
       "28     9  Honduran  [255.0, 216.0, 255.0, 224.0, 0.0, 16.0, 0.0, 1...\n",
       "8      9   Ireland  [255.0, 216.0, 255.0, 224.0, 0.0, 16.0, 0.0, 1...\n",
       "9     10   Ireland  [255.0, 216.0, 255.0, 224.0, 0.0, 16.0, 0.0, 1...\n",
       "29    10  Honduran  [255.0, 216.0, 255.0, 224.0, 0.0, 16.0, 0.0, 1...\n",
       "30    11  Honduran  [255.0, 216.0, 255.0, 224.0, 0.0, 16.0, 0.0, 1...\n",
       "10    11   Ireland  [255.0, 216.0, 255.0, 224.0, 0.0, 16.0, 0.0, 1...\n",
       "11    12   Ireland  [255.0, 216.0, 255.0, 224.0, 0.0, 16.0, 0.0, 1...\n",
       "31    12  Honduran  [255.0, 216.0, 255.0, 224.0, 0.0, 16.0, 0.0, 1...\n",
       "32    13  Honduran  [255.0, 216.0, 255.0, 224.0, 0.0, 16.0, 0.0, 1...\n",
       "12    13   Ireland  [255.0, 216.0, 255.0, 224.0, 0.0, 16.0, 0.0, 1...\n",
       "33    14  Honduran  [255.0, 216.0, 255.0, 224.0, 0.0, 16.0, 0.0, 1...\n",
       "13    14   Ireland  [255.0, 216.0, 255.0, 224.0, 0.0, 16.0, 0.0, 1...\n",
       "14    15   Ireland  [255.0, 216.0, 255.0, 224.0, 0.0, 16.0, 0.0, 1...\n",
       "34    15  Honduran  [255.0, 216.0, 255.0, 224.0, 0.0, 16.0, 0.0, 1...\n",
       "35    16  Honduran  [255.0, 216.0, 255.0, 224.0, 0.0, 16.0, 0.0, 1...\n",
       "15    16   Ireland  [255.0, 216.0, 255.0, 224.0, 0.0, 16.0, 0.0, 1...\n",
       "36    17  Honduran  [255.0, 216.0, 255.0, 224.0, 0.0, 16.0, 0.0, 1...\n",
       "16    17   Ireland  [255.0, 216.0, 255.0, 224.0, 0.0, 16.0, 0.0, 1...\n",
       "37    18  Honduran  [255.0, 216.0, 255.0, 224.0, 0.0, 16.0, 0.0, 1...\n",
       "17    18   Ireland  [255.0, 216.0, 255.0, 224.0, 0.0, 16.0, 0.0, 1...\n",
       "38    19  Honduran  [255.0, 216.0, 255.0, 224.0, 0.0, 16.0, 0.0, 1...\n",
       "18    19   Ireland  [255.0, 216.0, 255.0, 224.0, 0.0, 16.0, 0.0, 1...\n",
       "19    20   Ireland  [255.0, 216.0, 255.0, 224.0, 0.0, 16.0, 0.0, 1...\n",
       "39    20  Honduran  [255.0, 216.0, 255.0, 224.0, 0.0, 16.0, 0.0, 1..."
      ]
     },
     "execution_count": 131,
     "metadata": {},
     "output_type": "execute_result"
    }
   ],
   "source": [
    "pandasImagesDF"
   ]
  },
  {
   "cell_type": "code",
   "execution_count": 132,
   "id": "cda56da0",
   "metadata": {},
   "outputs": [],
   "source": [
    "import matplotlib.pyplot as plt\n",
    "import matplotlib.image as mpimg\n",
    "import io"
   ]
  },
  {
   "cell_type": "code",
   "execution_count": 144,
   "id": "9714ffc1",
   "metadata": {},
   "outputs": [
    {
     "data": {
      "text/plain": [
       "4435"
      ]
     },
     "execution_count": 144,
     "metadata": {},
     "output_type": "execute_result"
    }
   ],
   "source": [
    "len(pandasImagesDF[\"Data\"][19])"
   ]
  },
  {
   "cell_type": "code",
   "execution_count": 136,
   "id": "45dff2d1",
   "metadata": {},
   "outputs": [
    {
     "ename": "ValueError",
     "evalue": "cannot reshape array of size 5176 into shape (255,225)",
     "output_type": "error",
     "traceback": [
      "\u001b[1;31m---------------------------------------------------------------------------\u001b[0m",
      "\u001b[1;31mValueError\u001b[0m                                Traceback (most recent call last)",
      "Cell \u001b[1;32mIn[136], line 9\u001b[0m\n\u001b[0;32m      6\u001b[0m image_data \u001b[38;5;241m=\u001b[39m np\u001b[38;5;241m.\u001b[39marray(pandasImagesDF[\u001b[38;5;124m\"\u001b[39m\u001b[38;5;124mData\u001b[39m\u001b[38;5;124m\"\u001b[39m][\u001b[38;5;241m0\u001b[39m], dtype\u001b[38;5;241m=\u001b[39mnp\u001b[38;5;241m.\u001b[39mfloat32)\n\u001b[0;32m      8\u001b[0m \u001b[38;5;66;03m# Reshape the array to match the dimensions of the image\u001b[39;00m\n\u001b[1;32m----> 9\u001b[0m image_data \u001b[38;5;241m=\u001b[39m image_data\u001b[38;5;241m.\u001b[39mreshape((height, width))\n\u001b[0;32m     11\u001b[0m \u001b[38;5;66;03m# Create an image from the byte array\u001b[39;00m\n\u001b[0;32m     12\u001b[0m image \u001b[38;5;241m=\u001b[39m Image\u001b[38;5;241m.\u001b[39mfromarray(image_data)\n",
      "\u001b[1;31mValueError\u001b[0m: cannot reshape array of size 5176 into shape (255,225)"
     ]
    }
   ],
   "source": [
    "# Determine the dimensions of the image\n",
    "width =  225\n",
    "height =  255\n",
    "\n",
    "# Convert the byte array to a numpy array of uint8 data type\n",
    "image_data = np.array(pandasImagesDF[\"Data\"][0], dtype=np.float32)\n",
    "\n",
    "# Reshape the array to match the dimensions of the image\n",
    "image_data = image_data.reshape((height, width))\n",
    "\n",
    "# Create an image from the byte array\n",
    "image = Image.fromarray(image_data)\n",
    "\n",
    "# Display the image\n",
    "image.show()"
   ]
  },
  {
   "cell_type": "code",
   "execution_count": null,
   "id": "2fd112c3",
   "metadata": {},
   "outputs": [],
   "source": []
  },
  {
   "cell_type": "code",
   "execution_count": null,
   "id": "b74ea8f9",
   "metadata": {},
   "outputs": [],
   "source": []
  },
  {
   "cell_type": "code",
   "execution_count": 83,
   "id": "e129ee57",
   "metadata": {},
   "outputs": [],
   "source": [
    "IMG_SIZE = 200"
   ]
  },
  {
   "cell_type": "code",
   "execution_count": 103,
   "id": "98f26965",
   "metadata": {},
   "outputs": [],
   "source": [
    "image_array = pandasImagesDF[\"Data\"]"
   ]
  },
  {
   "cell_type": "code",
   "execution_count": 99,
   "id": "2f548619",
   "metadata": {},
   "outputs": [
    {
     "data": {
      "text/plain": [
       "array([255., 216., 255., ..., 159., 255., 217.], dtype=float32)"
      ]
     },
     "execution_count": 99,
     "metadata": {},
     "output_type": "execute_result"
    }
   ],
   "source": [
    "image_array[0]"
   ]
  },
  {
   "cell_type": "code",
   "execution_count": 96,
   "id": "8794b783",
   "metadata": {},
   "outputs": [
    {
     "name": "stderr",
     "output_type": "stream",
     "text": [
      "C:\\Users\\josed\\anaconda3\\Lib\\site-packages\\paramiko\\transport.py:219: CryptographyDeprecationWarning: Blowfish has been deprecated\n",
      "  \"class\": algorithms.Blowfish,\n"
     ]
    }
   ],
   "source": [
    "from skimage.transform import resize"
   ]
  },
  {
   "cell_type": "code",
   "execution_count": 100,
   "id": "04446d0e",
   "metadata": {},
   "outputs": [],
   "source": [
    "new_array = image_array.map(lambda x: resize(x, (IMG_SIZE, IMG_SIZE)))"
   ]
  },
  {
   "cell_type": "code",
   "execution_count": 101,
   "id": "ee3ca769",
   "metadata": {
    "scrolled": false
   },
   "outputs": [
    {
     "data": {
      "text/plain": [
       "0     [[57.46317, 57.46317, 57.46317, 57.46317, 57.4...\n",
       "20    [[57.43858, 57.43858, 57.43858, 57.43858, 57.4...\n",
       "1     [[48.849857, 48.849857, 48.849857, 48.849857, ...\n",
       "21    [[57.43858, 57.43858, 57.43858, 57.43858, 57.4...\n",
       "2     [[50.83171, 50.83171, 50.83171, 50.83171, 50.8...\n",
       "22    [[53.8938, 53.8938, 53.8938, 53.8938, 53.8938,...\n",
       "3     [[58.973255, 58.973255, 58.973255, 58.973255, ...\n",
       "23    [[50.05408, 50.05408, 50.05408, 50.05408, 50.0...\n",
       "4     [[53.44515, 53.44515, 53.44515, 53.44515, 53.4...\n",
       "24    [[51.762096, 51.762096, 51.762096, 51.762096, ...\n",
       "25    [[47.84168, 47.84168, 47.84168, 47.84168, 47.8...\n",
       "5     [[59.15576, 59.15576, 59.15576, 59.15576, 59.1...\n",
       "26    [[46.880054, 46.880054, 46.880054, 46.880054, ...\n",
       "6     [[64.717834, 64.717834, 64.717834, 64.717834, ...\n",
       "27    [[49.20877, 49.20877, 49.20877, 49.20877, 49.2...\n",
       "7     [[60.828278, 60.828278, 60.828278, 60.828278, ...\n",
       "28    [[47.30466, 47.30466, 47.30466, 47.30466, 47.3...\n",
       "8     [[52.79342, 52.79342, 52.79342, 52.79342, 52.7...\n",
       "9     [[49.888065, 49.888065, 49.888065, 49.888065, ...\n",
       "29    [[50.737907, 50.737907, 50.737907, 50.737907, ...\n",
       "30    [[48.849045, 48.849045, 48.849045, 48.849045, ...\n",
       "10    [[49.393105, 49.393105, 49.393105, 49.393105, ...\n",
       "11    [[56.339993, 56.339993, 56.339993, 56.339993, ...\n",
       "31    [[54.307484, 54.307484, 54.307484, 54.307484, ...\n",
       "32    [[54.23032, 54.23032, 54.23032, 54.23032, 54.2...\n",
       "12    [[56.065205, 56.065205, 56.065205, 56.065205, ...\n",
       "33    [[56.918114, 56.918114, 56.918114, 56.918114, ...\n",
       "13    [[53.616287, 53.616287, 53.616287, 53.616287, ...\n",
       "14    [[58.747784, 58.747784, 58.747784, 58.747784, ...\n",
       "34    [[52.569695, 52.569695, 52.569695, 52.569695, ...\n",
       "35    [[51.749615, 51.749615, 51.749615, 51.749615, ...\n",
       "15    [[52.27554, 52.27554, 52.27554, 52.27554, 52.2...\n",
       "36    [[50.092094, 50.092094, 50.092094, 50.092094, ...\n",
       "16    [[48.32537, 48.32537, 48.32537, 48.32537, 48.3...\n",
       "37    [[52.551857, 52.551857, 52.551857, 52.551857, ...\n",
       "17    [[51.236942, 51.236942, 51.236942, 51.236942, ...\n",
       "38    [[59.751133, 59.751133, 59.751133, 59.751133, ...\n",
       "18    [[63.9847, 63.9847, 63.9847, 63.9847, 63.9847,...\n",
       "19    [[61.094154, 61.094154, 61.094154, 61.094154, ...\n",
       "39    [[46.165474, 46.165474, 46.165474, 46.165474, ...\n",
       "Name: Data, dtype: object"
      ]
     },
     "execution_count": 101,
     "metadata": {},
     "output_type": "execute_result"
    }
   ],
   "source": [
    "new_array"
   ]
  },
  {
   "cell_type": "code",
   "execution_count": 104,
   "id": "96d91715",
   "metadata": {},
   "outputs": [
    {
     "ename": "TypeError",
     "evalue": "Invalid shape (5176,) for image data",
     "output_type": "error",
     "traceback": [
      "\u001b[1;31m---------------------------------------------------------------------------\u001b[0m",
      "\u001b[1;31mTypeError\u001b[0m                                 Traceback (most recent call last)",
      "Cell \u001b[1;32mIn[104], line 2\u001b[0m\n\u001b[0;32m      1\u001b[0m \u001b[38;5;28;01mfrom\u001b[39;00m \u001b[38;5;21;01mmatplotlib\u001b[39;00m \u001b[38;5;28;01mimport\u001b[39;00m pyplot \u001b[38;5;28;01mas\u001b[39;00m plt\n\u001b[1;32m----> 2\u001b[0m plt\u001b[38;5;241m.\u001b[39mimshow(image_array[\u001b[38;5;241m0\u001b[39m], interpolation\u001b[38;5;241m=\u001b[39m\u001b[38;5;124m'\u001b[39m\u001b[38;5;124mnearest\u001b[39m\u001b[38;5;124m'\u001b[39m)\n\u001b[0;32m      3\u001b[0m plt\u001b[38;5;241m.\u001b[39mshow()\n",
      "File \u001b[1;32m~\\anaconda3\\Lib\\site-packages\\matplotlib\\pyplot.py:2695\u001b[0m, in \u001b[0;36mimshow\u001b[1;34m(X, cmap, norm, aspect, interpolation, alpha, vmin, vmax, origin, extent, interpolation_stage, filternorm, filterrad, resample, url, data, **kwargs)\u001b[0m\n\u001b[0;32m   2689\u001b[0m \u001b[38;5;129m@_copy_docstring_and_deprecators\u001b[39m(Axes\u001b[38;5;241m.\u001b[39mimshow)\n\u001b[0;32m   2690\u001b[0m \u001b[38;5;28;01mdef\u001b[39;00m \u001b[38;5;21mimshow\u001b[39m(\n\u001b[0;32m   2691\u001b[0m         X, cmap\u001b[38;5;241m=\u001b[39m\u001b[38;5;28;01mNone\u001b[39;00m, norm\u001b[38;5;241m=\u001b[39m\u001b[38;5;28;01mNone\u001b[39;00m, \u001b[38;5;241m*\u001b[39m, aspect\u001b[38;5;241m=\u001b[39m\u001b[38;5;28;01mNone\u001b[39;00m, interpolation\u001b[38;5;241m=\u001b[39m\u001b[38;5;28;01mNone\u001b[39;00m,\n\u001b[0;32m   2692\u001b[0m         alpha\u001b[38;5;241m=\u001b[39m\u001b[38;5;28;01mNone\u001b[39;00m, vmin\u001b[38;5;241m=\u001b[39m\u001b[38;5;28;01mNone\u001b[39;00m, vmax\u001b[38;5;241m=\u001b[39m\u001b[38;5;28;01mNone\u001b[39;00m, origin\u001b[38;5;241m=\u001b[39m\u001b[38;5;28;01mNone\u001b[39;00m, extent\u001b[38;5;241m=\u001b[39m\u001b[38;5;28;01mNone\u001b[39;00m,\n\u001b[0;32m   2693\u001b[0m         interpolation_stage\u001b[38;5;241m=\u001b[39m\u001b[38;5;28;01mNone\u001b[39;00m, filternorm\u001b[38;5;241m=\u001b[39m\u001b[38;5;28;01mTrue\u001b[39;00m, filterrad\u001b[38;5;241m=\u001b[39m\u001b[38;5;241m4.0\u001b[39m,\n\u001b[0;32m   2694\u001b[0m         resample\u001b[38;5;241m=\u001b[39m\u001b[38;5;28;01mNone\u001b[39;00m, url\u001b[38;5;241m=\u001b[39m\u001b[38;5;28;01mNone\u001b[39;00m, data\u001b[38;5;241m=\u001b[39m\u001b[38;5;28;01mNone\u001b[39;00m, \u001b[38;5;241m*\u001b[39m\u001b[38;5;241m*\u001b[39mkwargs):\n\u001b[1;32m-> 2695\u001b[0m     __ret \u001b[38;5;241m=\u001b[39m gca()\u001b[38;5;241m.\u001b[39mimshow(\n\u001b[0;32m   2696\u001b[0m         X, cmap\u001b[38;5;241m=\u001b[39mcmap, norm\u001b[38;5;241m=\u001b[39mnorm, aspect\u001b[38;5;241m=\u001b[39maspect,\n\u001b[0;32m   2697\u001b[0m         interpolation\u001b[38;5;241m=\u001b[39minterpolation, alpha\u001b[38;5;241m=\u001b[39malpha, vmin\u001b[38;5;241m=\u001b[39mvmin,\n\u001b[0;32m   2698\u001b[0m         vmax\u001b[38;5;241m=\u001b[39mvmax, origin\u001b[38;5;241m=\u001b[39morigin, extent\u001b[38;5;241m=\u001b[39mextent,\n\u001b[0;32m   2699\u001b[0m         interpolation_stage\u001b[38;5;241m=\u001b[39minterpolation_stage,\n\u001b[0;32m   2700\u001b[0m         filternorm\u001b[38;5;241m=\u001b[39mfilternorm, filterrad\u001b[38;5;241m=\u001b[39mfilterrad, resample\u001b[38;5;241m=\u001b[39mresample,\n\u001b[0;32m   2701\u001b[0m         url\u001b[38;5;241m=\u001b[39murl, \u001b[38;5;241m*\u001b[39m\u001b[38;5;241m*\u001b[39m({\u001b[38;5;124m\"\u001b[39m\u001b[38;5;124mdata\u001b[39m\u001b[38;5;124m\"\u001b[39m: data} \u001b[38;5;28;01mif\u001b[39;00m data \u001b[38;5;129;01mis\u001b[39;00m \u001b[38;5;129;01mnot\u001b[39;00m \u001b[38;5;28;01mNone\u001b[39;00m \u001b[38;5;28;01melse\u001b[39;00m {}),\n\u001b[0;32m   2702\u001b[0m         \u001b[38;5;241m*\u001b[39m\u001b[38;5;241m*\u001b[39mkwargs)\n\u001b[0;32m   2703\u001b[0m     sci(__ret)\n\u001b[0;32m   2704\u001b[0m     \u001b[38;5;28;01mreturn\u001b[39;00m __ret\n",
      "File \u001b[1;32m~\\anaconda3\\Lib\\site-packages\\matplotlib\\__init__.py:1442\u001b[0m, in \u001b[0;36m_preprocess_data.<locals>.inner\u001b[1;34m(ax, data, *args, **kwargs)\u001b[0m\n\u001b[0;32m   1439\u001b[0m \u001b[38;5;129m@functools\u001b[39m\u001b[38;5;241m.\u001b[39mwraps(func)\n\u001b[0;32m   1440\u001b[0m \u001b[38;5;28;01mdef\u001b[39;00m \u001b[38;5;21minner\u001b[39m(ax, \u001b[38;5;241m*\u001b[39margs, data\u001b[38;5;241m=\u001b[39m\u001b[38;5;28;01mNone\u001b[39;00m, \u001b[38;5;241m*\u001b[39m\u001b[38;5;241m*\u001b[39mkwargs):\n\u001b[0;32m   1441\u001b[0m     \u001b[38;5;28;01mif\u001b[39;00m data \u001b[38;5;129;01mis\u001b[39;00m \u001b[38;5;28;01mNone\u001b[39;00m:\n\u001b[1;32m-> 1442\u001b[0m         \u001b[38;5;28;01mreturn\u001b[39;00m func(ax, \u001b[38;5;241m*\u001b[39m\u001b[38;5;28mmap\u001b[39m(sanitize_sequence, args), \u001b[38;5;241m*\u001b[39m\u001b[38;5;241m*\u001b[39mkwargs)\n\u001b[0;32m   1444\u001b[0m     bound \u001b[38;5;241m=\u001b[39m new_sig\u001b[38;5;241m.\u001b[39mbind(ax, \u001b[38;5;241m*\u001b[39margs, \u001b[38;5;241m*\u001b[39m\u001b[38;5;241m*\u001b[39mkwargs)\n\u001b[0;32m   1445\u001b[0m     auto_label \u001b[38;5;241m=\u001b[39m (bound\u001b[38;5;241m.\u001b[39marguments\u001b[38;5;241m.\u001b[39mget(label_namer)\n\u001b[0;32m   1446\u001b[0m                   \u001b[38;5;129;01mor\u001b[39;00m bound\u001b[38;5;241m.\u001b[39mkwargs\u001b[38;5;241m.\u001b[39mget(label_namer))\n",
      "File \u001b[1;32m~\\anaconda3\\Lib\\site-packages\\matplotlib\\axes\\_axes.py:5665\u001b[0m, in \u001b[0;36mAxes.imshow\u001b[1;34m(self, X, cmap, norm, aspect, interpolation, alpha, vmin, vmax, origin, extent, interpolation_stage, filternorm, filterrad, resample, url, **kwargs)\u001b[0m\n\u001b[0;32m   5657\u001b[0m \u001b[38;5;28mself\u001b[39m\u001b[38;5;241m.\u001b[39mset_aspect(aspect)\n\u001b[0;32m   5658\u001b[0m im \u001b[38;5;241m=\u001b[39m mimage\u001b[38;5;241m.\u001b[39mAxesImage(\u001b[38;5;28mself\u001b[39m, cmap\u001b[38;5;241m=\u001b[39mcmap, norm\u001b[38;5;241m=\u001b[39mnorm,\n\u001b[0;32m   5659\u001b[0m                       interpolation\u001b[38;5;241m=\u001b[39minterpolation, origin\u001b[38;5;241m=\u001b[39morigin,\n\u001b[0;32m   5660\u001b[0m                       extent\u001b[38;5;241m=\u001b[39mextent, filternorm\u001b[38;5;241m=\u001b[39mfilternorm,\n\u001b[0;32m   5661\u001b[0m                       filterrad\u001b[38;5;241m=\u001b[39mfilterrad, resample\u001b[38;5;241m=\u001b[39mresample,\n\u001b[0;32m   5662\u001b[0m                       interpolation_stage\u001b[38;5;241m=\u001b[39minterpolation_stage,\n\u001b[0;32m   5663\u001b[0m                       \u001b[38;5;241m*\u001b[39m\u001b[38;5;241m*\u001b[39mkwargs)\n\u001b[1;32m-> 5665\u001b[0m im\u001b[38;5;241m.\u001b[39mset_data(X)\n\u001b[0;32m   5666\u001b[0m im\u001b[38;5;241m.\u001b[39mset_alpha(alpha)\n\u001b[0;32m   5667\u001b[0m \u001b[38;5;28;01mif\u001b[39;00m im\u001b[38;5;241m.\u001b[39mget_clip_path() \u001b[38;5;129;01mis\u001b[39;00m \u001b[38;5;28;01mNone\u001b[39;00m:\n\u001b[0;32m   5668\u001b[0m     \u001b[38;5;66;03m# image does not already have clipping set, clip to axes patch\u001b[39;00m\n",
      "File \u001b[1;32m~\\anaconda3\\Lib\\site-packages\\matplotlib\\image.py:710\u001b[0m, in \u001b[0;36m_ImageBase.set_data\u001b[1;34m(self, A)\u001b[0m\n\u001b[0;32m    706\u001b[0m     \u001b[38;5;28mself\u001b[39m\u001b[38;5;241m.\u001b[39m_A \u001b[38;5;241m=\u001b[39m \u001b[38;5;28mself\u001b[39m\u001b[38;5;241m.\u001b[39m_A[:, :, \u001b[38;5;241m0\u001b[39m]\n\u001b[0;32m    708\u001b[0m \u001b[38;5;28;01mif\u001b[39;00m \u001b[38;5;129;01mnot\u001b[39;00m (\u001b[38;5;28mself\u001b[39m\u001b[38;5;241m.\u001b[39m_A\u001b[38;5;241m.\u001b[39mndim \u001b[38;5;241m==\u001b[39m \u001b[38;5;241m2\u001b[39m\n\u001b[0;32m    709\u001b[0m         \u001b[38;5;129;01mor\u001b[39;00m \u001b[38;5;28mself\u001b[39m\u001b[38;5;241m.\u001b[39m_A\u001b[38;5;241m.\u001b[39mndim \u001b[38;5;241m==\u001b[39m \u001b[38;5;241m3\u001b[39m \u001b[38;5;129;01mand\u001b[39;00m \u001b[38;5;28mself\u001b[39m\u001b[38;5;241m.\u001b[39m_A\u001b[38;5;241m.\u001b[39mshape[\u001b[38;5;241m-\u001b[39m\u001b[38;5;241m1\u001b[39m] \u001b[38;5;129;01min\u001b[39;00m [\u001b[38;5;241m3\u001b[39m, \u001b[38;5;241m4\u001b[39m]):\n\u001b[1;32m--> 710\u001b[0m     \u001b[38;5;28;01mraise\u001b[39;00m \u001b[38;5;167;01mTypeError\u001b[39;00m(\u001b[38;5;124m\"\u001b[39m\u001b[38;5;124mInvalid shape \u001b[39m\u001b[38;5;132;01m{}\u001b[39;00m\u001b[38;5;124m for image data\u001b[39m\u001b[38;5;124m\"\u001b[39m\n\u001b[0;32m    711\u001b[0m                     \u001b[38;5;241m.\u001b[39mformat(\u001b[38;5;28mself\u001b[39m\u001b[38;5;241m.\u001b[39m_A\u001b[38;5;241m.\u001b[39mshape))\n\u001b[0;32m    713\u001b[0m \u001b[38;5;28;01mif\u001b[39;00m \u001b[38;5;28mself\u001b[39m\u001b[38;5;241m.\u001b[39m_A\u001b[38;5;241m.\u001b[39mndim \u001b[38;5;241m==\u001b[39m \u001b[38;5;241m3\u001b[39m:\n\u001b[0;32m    714\u001b[0m     \u001b[38;5;66;03m# If the input data has values outside the valid range (after\u001b[39;00m\n\u001b[0;32m    715\u001b[0m     \u001b[38;5;66;03m# normalisation), we issue a warning and then clip X to the bounds\u001b[39;00m\n\u001b[0;32m    716\u001b[0m     \u001b[38;5;66;03m# - otherwise casting wraps extreme values, hiding outliers and\u001b[39;00m\n\u001b[0;32m    717\u001b[0m     \u001b[38;5;66;03m# making reliable interpretation impossible.\u001b[39;00m\n\u001b[0;32m    718\u001b[0m     high \u001b[38;5;241m=\u001b[39m \u001b[38;5;241m255\u001b[39m \u001b[38;5;28;01mif\u001b[39;00m np\u001b[38;5;241m.\u001b[39missubdtype(\u001b[38;5;28mself\u001b[39m\u001b[38;5;241m.\u001b[39m_A\u001b[38;5;241m.\u001b[39mdtype, np\u001b[38;5;241m.\u001b[39minteger) \u001b[38;5;28;01melse\u001b[39;00m \u001b[38;5;241m1\u001b[39m\n",
      "\u001b[1;31mTypeError\u001b[0m: Invalid shape (5176,) for image data"
     ]
    },
    {
     "data": {
      "image/png": "[encoded data removed]",
      "text/plain": [
       "<Figure size 640x480 with 1 Axes>"
      ]
     },
     "metadata": {},
     "output_type": "display_data"
    }
   ],
   "source": [
    "from matplotlib import pyplot as plt\n",
    "plt.imshow(image_array[0], interpolation='nearest')\n",
    "plt.show()"
   ]
  },
  {
   "cell_type": "code",
   "execution_count": 93,
   "id": "4ef4d2f4",
   "metadata": {},
   "outputs": [
    {
     "ename": "error",
     "evalue": "OpenCV(4.9.0) :-1: error: (-5:Bad argument) in function 'resize'\n> Overload resolution failed:\n>  - src data type = object is not supported\n>  - Expected Ptr<cv::UMat> for argument 'src'\n",
     "output_type": "error",
     "traceback": [
      "\u001b[1;31m---------------------------------------------------------------------------\u001b[0m",
      "\u001b[1;31merror\u001b[0m                                     Traceback (most recent call last)",
      "Cell \u001b[1;32mIn[93], line 1\u001b[0m\n\u001b[1;32m----> 1\u001b[0m new_array \u001b[38;5;241m=\u001b[39m cv2\u001b[38;5;241m.\u001b[39mresize(image_array,(IMG_SIZE,IMG_SIZE) )\n",
      "\u001b[1;31merror\u001b[0m: OpenCV(4.9.0) :-1: error: (-5:Bad argument) in function 'resize'\n> Overload resolution failed:\n>  - src data type = object is not supported\n>  - Expected Ptr<cv::UMat> for argument 'src'\n"
     ]
    }
   ],
   "source": [
    "new_array = cv2.resize(image_array,(IMG_SIZE,IMG_SIZE) )"
   ]
  },
  {
   "cell_type": "markdown",
   "id": "995a9c11",
   "metadata": {},
   "source": [
    "Importing from Keras functionality necessary to implement CNN"
   ]
  },
  {
   "cell_type": "code",
   "execution_count": 14,
   "id": "a1c2b5d9",
   "metadata": {},
   "outputs": [],
   "source": [
    "from keras.models import Sequential\n",
    "from keras.layers import Dense, Dropout, Conv2D, MaxPool2D, Flatten\n",
    "from keras import utils\n",
    "from sklearn.metrics import accuracy_score"
   ]
  },
  {
   "cell_type": "markdown",
   "id": "3c4dc583",
   "metadata": {},
   "source": [
    "For Now there is only 20 photos per Category, the training size will be 28 and test 12, This is for testing. After this I'll get more images to improve the CNN"
   ]
  },
  {
   "cell_type": "code",
   "execution_count": 55,
   "id": "d4466c24",
   "metadata": {},
   "outputs": [],
   "source": [
    "X_train = pandasImagesDF.iloc[:-12,2].values\n",
    "y_train = pandasImagesDF.iloc[:-12,1].values\n",
    "X_test = pandasImagesDF.iloc[-12:,2].values\n",
    "y_test = pandasImagesDF.iloc[-12:,1].values\n"
   ]
  },
  {
   "cell_type": "code",
   "execution_count": 56,
   "id": "86e0e6b2",
   "metadata": {
    "scrolled": false
   },
   "outputs": [
    {
     "data": {
      "text/plain": [
       "array([array([255., 216., 255., ..., 159., 255., 217.], dtype=float32),\n",
       "       array([255., 216., 255., ...,  20., 255., 217.], dtype=float32),\n",
       "       array([255., 216., 255., ..., 168., 255., 217.], dtype=float32),\n",
       "       array([255., 216., 255., ...,  20., 255., 217.], dtype=float32),\n",
       "       array([255., 216., 255., ..., 165., 255., 217.], dtype=float32),\n",
       "       array([255., 216., 255., ..., 175., 255., 217.], dtype=float32),\n",
       "       array([255., 216., 255., ...,   3., 255., 217.], dtype=float32),\n",
       "       array([255., 216., 255., ..., 127., 255., 217.], dtype=float32),\n",
       "       array([255., 216., 255., ..., 144., 255., 217.], dtype=float32),\n",
       "       array([255., 216., 255., ...,  15., 255., 217.], dtype=float32),\n",
       "       array([255., 216., 255., ..., 234., 255., 217.], dtype=float32),\n",
       "       array([255., 216., 255., ...,  31., 255., 217.], dtype=float32),\n",
       "       array([255., 216., 255., ..., 167., 255., 217.], dtype=float32),\n",
       "       array([255., 216., 255., ...,  22., 255., 217.], dtype=float32),\n",
       "       array([255., 216., 255., ...,  16., 255., 217.], dtype=float32),\n",
       "       array([255., 216., 255., ..., 146., 255., 217.], dtype=float32),\n",
       "       array([255., 216., 255., ...,  31., 255., 217.], dtype=float32),\n",
       "       array([255., 216., 255., ..., 146., 255., 217.], dtype=float32),\n",
       "       array([255., 216., 255., ..., 163., 255., 217.], dtype=float32),\n",
       "       array([255., 216., 255., ..., 201., 255., 217.], dtype=float32),\n",
       "       array([255., 216., 255., ...,  28., 255., 217.], dtype=float32),\n",
       "       array([255., 216., 255., ...,   3., 255., 217.], dtype=float32),\n",
       "       array([255., 216., 255., ..., 127., 255., 217.], dtype=float32),\n",
       "       array([255., 216., 255., ..., 127., 255., 217.], dtype=float32),\n",
       "       array([255., 216., 255., ..., 164., 255., 217.], dtype=float32),\n",
       "       array([255., 216., 255., ..., 198., 255., 217.], dtype=float32),\n",
       "       array([255., 216., 255., ..., 138., 255., 217.], dtype=float32),\n",
       "       array([255., 216., 255., ..., 159., 255., 217.], dtype=float32)],\n",
       "      dtype=object)"
      ]
     },
     "execution_count": 56,
     "metadata": {},
     "output_type": "execute_result"
    }
   ],
   "source": [
    "X_train"
   ]
  },
  {
   "cell_type": "code",
   "execution_count": null,
   "id": "bb47a6a0",
   "metadata": {},
   "outputs": [],
   "source": []
  },
  {
   "cell_type": "code",
   "execution_count": 22,
   "id": "4ca11ced",
   "metadata": {},
   "outputs": [],
   "source": [
    "from sklearn.preprocessing import OneHotEncoder"
   ]
  },
  {
   "cell_type": "code",
   "execution_count": 57,
   "id": "42531cd0",
   "metadata": {},
   "outputs": [],
   "source": [
    "encoder = OneHotEncoder(sparse_output=False)\n",
    "y_train = np.array(y_train).reshape(-1, 1)\n",
    "y_train = encoder.fit_transform(y_train)\n",
    "\n",
    "y_test = np.array(y_test).reshape(-1,1)\n",
    "y_test = encoder.fit_transform(y_test)"
   ]
  },
  {
   "cell_type": "code",
   "execution_count": 58,
   "id": "5bccd4ab",
   "metadata": {},
   "outputs": [],
   "source": [
    "X_train = X_train.reshape(-1,1)\n",
    "X_test = X_test.reshape(-1,1)"
   ]
  },
  {
   "cell_type": "code",
   "execution_count": 59,
   "id": "4b24106d",
   "metadata": {
    "scrolled": false
   },
   "outputs": [
    {
     "data": {
      "text/plain": [
       "array([[array([255., 216., 255., ..., 159., 255., 217.], dtype=float32)],\n",
       "       [array([255., 216., 255., ...,  20., 255., 217.], dtype=float32)],\n",
       "       [array([255., 216., 255., ..., 168., 255., 217.], dtype=float32)],\n",
       "       [array([255., 216., 255., ...,  20., 255., 217.], dtype=float32)],\n",
       "       [array([255., 216., 255., ..., 165., 255., 217.], dtype=float32)],\n",
       "       [array([255., 216., 255., ..., 175., 255., 217.], dtype=float32)],\n",
       "       [array([255., 216., 255., ...,   3., 255., 217.], dtype=float32)],\n",
       "       [array([255., 216., 255., ..., 127., 255., 217.], dtype=float32)],\n",
       "       [array([255., 216., 255., ..., 144., 255., 217.], dtype=float32)],\n",
       "       [array([255., 216., 255., ...,  15., 255., 217.], dtype=float32)],\n",
       "       [array([255., 216., 255., ..., 234., 255., 217.], dtype=float32)],\n",
       "       [array([255., 216., 255., ...,  31., 255., 217.], dtype=float32)],\n",
       "       [array([255., 216., 255., ..., 167., 255., 217.], dtype=float32)],\n",
       "       [array([255., 216., 255., ...,  22., 255., 217.], dtype=float32)],\n",
       "       [array([255., 216., 255., ...,  16., 255., 217.], dtype=float32)],\n",
       "       [array([255., 216., 255., ..., 146., 255., 217.], dtype=float32)],\n",
       "       [array([255., 216., 255., ...,  31., 255., 217.], dtype=float32)],\n",
       "       [array([255., 216., 255., ..., 146., 255., 217.], dtype=float32)],\n",
       "       [array([255., 216., 255., ..., 163., 255., 217.], dtype=float32)],\n",
       "       [array([255., 216., 255., ..., 201., 255., 217.], dtype=float32)],\n",
       "       [array([255., 216., 255., ...,  28., 255., 217.], dtype=float32)],\n",
       "       [array([255., 216., 255., ...,   3., 255., 217.], dtype=float32)],\n",
       "       [array([255., 216., 255., ..., 127., 255., 217.], dtype=float32)],\n",
       "       [array([255., 216., 255., ..., 127., 255., 217.], dtype=float32)],\n",
       "       [array([255., 216., 255., ..., 164., 255., 217.], dtype=float32)],\n",
       "       [array([255., 216., 255., ..., 198., 255., 217.], dtype=float32)],\n",
       "       [array([255., 216., 255., ..., 138., 255., 217.], dtype=float32)],\n",
       "       [array([255., 216., 255., ..., 159., 255., 217.], dtype=float32)]],\n",
       "      dtype=object)"
      ]
     },
     "execution_count": 59,
     "metadata": {},
     "output_type": "execute_result"
    }
   ],
   "source": [
    "X_train"
   ]
  },
  {
   "cell_type": "code",
   "execution_count": 70,
   "id": "b91b31e9",
   "metadata": {},
   "outputs": [
    {
     "data": {
      "text/plain": [
       "6909"
      ]
     },
     "execution_count": 70,
     "metadata": {},
     "output_type": "execute_result"
    }
   ],
   "source": [
    "len(X_train[7][0])"
   ]
  },
  {
   "cell_type": "code",
   "execution_count": 60,
   "id": "824f45a5",
   "metadata": {
    "scrolled": false
   },
   "outputs": [
    {
     "ename": "ValueError",
     "evalue": "cannot reshape array of size 28 into shape (28,1080,1)",
     "output_type": "error",
     "traceback": [
      "\u001b[1;31m---------------------------------------------------------------------------\u001b[0m",
      "\u001b[1;31mValueError\u001b[0m                                Traceback (most recent call last)",
      "Cell \u001b[1;32mIn[60], line 1\u001b[0m\n\u001b[1;32m----> 1\u001b[0m X_train \u001b[38;5;241m=\u001b[39m np\u001b[38;5;241m.\u001b[39mreshape(X_train, (X_train\u001b[38;5;241m.\u001b[39mshape[\u001b[38;5;241m0\u001b[39m], \u001b[38;5;241m1080\u001b[39m,\u001b[38;5;241m1\u001b[39m))\n\u001b[0;32m      2\u001b[0m X_test \u001b[38;5;241m=\u001b[39m np\u001b[38;5;241m.\u001b[39mreshape(X_test,(X_test\u001b[38;5;241m.\u001b[39mshape[\u001b[38;5;241m0\u001b[39m],X_test\u001b[38;5;241m.\u001b[39mshape[\u001b[38;5;241m1\u001b[39m],\u001b[38;5;241m1\u001b[39m))\n\u001b[0;32m      3\u001b[0m y_train \u001b[38;5;241m=\u001b[39m np\u001b[38;5;241m.\u001b[39mreshape(y_train, (y_train\u001b[38;5;241m.\u001b[39mshape[\u001b[38;5;241m0\u001b[39m], \u001b[38;5;241m1080\u001b[39m,\u001b[38;5;241m1\u001b[39m))\n",
      "File \u001b[1;32m<__array_function__ internals>:200\u001b[0m, in \u001b[0;36mreshape\u001b[1;34m(*args, **kwargs)\u001b[0m\n",
      "File \u001b[1;32m~\\anaconda3\\Lib\\site-packages\\numpy\\core\\fromnumeric.py:298\u001b[0m, in \u001b[0;36mreshape\u001b[1;34m(a, newshape, order)\u001b[0m\n\u001b[0;32m    198\u001b[0m \u001b[38;5;129m@array_function_dispatch\u001b[39m(_reshape_dispatcher)\n\u001b[0;32m    199\u001b[0m \u001b[38;5;28;01mdef\u001b[39;00m \u001b[38;5;21mreshape\u001b[39m(a, newshape, order\u001b[38;5;241m=\u001b[39m\u001b[38;5;124m'\u001b[39m\u001b[38;5;124mC\u001b[39m\u001b[38;5;124m'\u001b[39m):\n\u001b[0;32m    200\u001b[0m \u001b[38;5;250m    \u001b[39m\u001b[38;5;124;03m\"\"\"\u001b[39;00m\n\u001b[0;32m    201\u001b[0m \u001b[38;5;124;03m    Gives a new shape to an array without changing its data.\u001b[39;00m\n\u001b[0;32m    202\u001b[0m \n\u001b[1;32m   (...)\u001b[0m\n\u001b[0;32m    296\u001b[0m \u001b[38;5;124;03m           [5, 6]])\u001b[39;00m\n\u001b[0;32m    297\u001b[0m \u001b[38;5;124;03m    \"\"\"\u001b[39;00m\n\u001b[1;32m--> 298\u001b[0m     \u001b[38;5;28;01mreturn\u001b[39;00m _wrapfunc(a, \u001b[38;5;124m'\u001b[39m\u001b[38;5;124mreshape\u001b[39m\u001b[38;5;124m'\u001b[39m, newshape, order\u001b[38;5;241m=\u001b[39morder)\n",
      "File \u001b[1;32m~\\anaconda3\\Lib\\site-packages\\numpy\\core\\fromnumeric.py:57\u001b[0m, in \u001b[0;36m_wrapfunc\u001b[1;34m(obj, method, *args, **kwds)\u001b[0m\n\u001b[0;32m     54\u001b[0m     \u001b[38;5;28;01mreturn\u001b[39;00m _wrapit(obj, method, \u001b[38;5;241m*\u001b[39margs, \u001b[38;5;241m*\u001b[39m\u001b[38;5;241m*\u001b[39mkwds)\n\u001b[0;32m     56\u001b[0m \u001b[38;5;28;01mtry\u001b[39;00m:\n\u001b[1;32m---> 57\u001b[0m     \u001b[38;5;28;01mreturn\u001b[39;00m bound(\u001b[38;5;241m*\u001b[39margs, \u001b[38;5;241m*\u001b[39m\u001b[38;5;241m*\u001b[39mkwds)\n\u001b[0;32m     58\u001b[0m \u001b[38;5;28;01mexcept\u001b[39;00m \u001b[38;5;167;01mTypeError\u001b[39;00m:\n\u001b[0;32m     59\u001b[0m     \u001b[38;5;66;03m# A TypeError occurs if the object does have such a method in its\u001b[39;00m\n\u001b[0;32m     60\u001b[0m     \u001b[38;5;66;03m# class, but its signature is not identical to that of NumPy's. This\u001b[39;00m\n\u001b[1;32m   (...)\u001b[0m\n\u001b[0;32m     64\u001b[0m     \u001b[38;5;66;03m# Call _wrapit from within the except clause to ensure a potential\u001b[39;00m\n\u001b[0;32m     65\u001b[0m     \u001b[38;5;66;03m# exception has a traceback chain.\u001b[39;00m\n\u001b[0;32m     66\u001b[0m     \u001b[38;5;28;01mreturn\u001b[39;00m _wrapit(obj, method, \u001b[38;5;241m*\u001b[39margs, \u001b[38;5;241m*\u001b[39m\u001b[38;5;241m*\u001b[39mkwds)\n",
      "\u001b[1;31mValueError\u001b[0m: cannot reshape array of size 28 into shape (28,1080,1)"
     ]
    }
   ],
   "source": [
    "X_train = np.reshape(X_train, (X_train.shape[0], 1080,1))\n",
    "X_test = np.reshape(X_test,(X_test.shape[0],X_test.shape[1],1))\n",
    "y_train = np.reshape(y_train, (y_train.shape[0], 1080,1))\n",
    "y_test = np.reshape(y_test, (y_test.shape[0], y_test.shape[1],1))"
   ]
  },
  {
   "cell_type": "code",
   "execution_count": 41,
   "id": "82fe97e4",
   "metadata": {},
   "outputs": [
    {
     "data": {
      "text/plain": [
       "(28, 1, 1)"
      ]
     },
     "execution_count": 41,
     "metadata": {},
     "output_type": "execute_result"
    }
   ],
   "source": [
    "X_train.shape"
   ]
  },
  {
   "cell_type": "markdown",
   "id": "61abda0c",
   "metadata": {},
   "source": [
    "Because the pixels are from 0 to 255, We have to normalize the pixels"
   ]
  },
  {
   "cell_type": "code",
   "execution_count": 28,
   "id": "7c7295f0",
   "metadata": {},
   "outputs": [],
   "source": [
    "X_train/=255\n",
    "X_test/=255"
   ]
  },
  {
   "cell_type": "code",
   "execution_count": 29,
   "id": "62e6bae6",
   "metadata": {},
   "outputs": [],
   "source": [
    "model = Sequential()\n",
    "model.add(Conv2D(25,kernel_size=(3,3),strides=(1,1),padding=\"valid\", activation=\"relu\", input_shape=(1080,1080,1)))\n",
    "model.add(MaxPool2D(pool_size=(1,1)))\n",
    "model.add(Flatten())\n",
    "\n",
    "model.add(Dense(100, activation=\"relu\"))\n",
    "model.add(Dense(10,activation=\"softmax\"))"
   ]
  },
  {
   "cell_type": "code",
   "execution_count": 30,
   "id": "e313dc62",
   "metadata": {},
   "outputs": [],
   "source": [
    "model.compile(loss=\"categorical_crossentropy\", metrics=[\"accuracy\"], optimizer=\"adam\")"
   ]
  },
  {
   "cell_type": "code",
   "execution_count": 31,
   "id": "00aef854",
   "metadata": {},
   "outputs": [
    {
     "data": {
      "text/plain": [
       "(28, 2, 1)"
      ]
     },
     "execution_count": 31,
     "metadata": {},
     "output_type": "execute_result"
    }
   ],
   "source": [
    "y_train.shape"
   ]
  },
  {
   "cell_type": "code",
   "execution_count": null,
   "id": "cb4f1223",
   "metadata": {},
   "outputs": [],
   "source": [
    "z =np.(X_train)"
   ]
  },
  {
   "cell_type": "code",
   "execution_count": 34,
   "id": "8e68b4da",
   "metadata": {},
   "outputs": [],
   "source": [
    "x_train = np.asarray(X_train)\n",
    "Y_train = np.asarray(y_train)\n",
    "x_test = np.asarray(X_test)\n",
    "Y_test = np.asarray(y_test)"
   ]
  },
  {
   "cell_type": "code",
   "execution_count": 36,
   "id": "5fd78b0d",
   "metadata": {},
   "outputs": [
    {
     "ename": "ValueError",
     "evalue": "Failed to convert a NumPy array to a Tensor (Unsupported object type numpy.ndarray).",
     "output_type": "error",
     "traceback": [
      "\u001b[1;31m---------------------------------------------------------------------------\u001b[0m",
      "\u001b[1;31mValueError\u001b[0m                                Traceback (most recent call last)",
      "Cell \u001b[1;32mIn[36], line 1\u001b[0m\n\u001b[1;32m----> 1\u001b[0m model\u001b[38;5;241m.\u001b[39mfit(x_train, Y_train, batch_size\u001b[38;5;241m=\u001b[39m\u001b[38;5;241m14\u001b[39m, epochs\u001b[38;5;241m=\u001b[39m\u001b[38;5;241m10\u001b[39m, validation_data\u001b[38;5;241m=\u001b[39m(x_test, Y_test))\n",
      "File \u001b[1;32m~\\anaconda3\\Lib\\site-packages\\keras\\src\\utils\\traceback_utils.py:70\u001b[0m, in \u001b[0;36mfilter_traceback.<locals>.error_handler\u001b[1;34m(*args, **kwargs)\u001b[0m\n\u001b[0;32m     67\u001b[0m     filtered_tb \u001b[38;5;241m=\u001b[39m _process_traceback_frames(e\u001b[38;5;241m.\u001b[39m__traceback__)\n\u001b[0;32m     68\u001b[0m     \u001b[38;5;66;03m# To get the full stack trace, call:\u001b[39;00m\n\u001b[0;32m     69\u001b[0m     \u001b[38;5;66;03m# `tf.debugging.disable_traceback_filtering()`\u001b[39;00m\n\u001b[1;32m---> 70\u001b[0m     \u001b[38;5;28;01mraise\u001b[39;00m e\u001b[38;5;241m.\u001b[39mwith_traceback(filtered_tb) \u001b[38;5;28;01mfrom\u001b[39;00m \u001b[38;5;28;01mNone\u001b[39;00m\n\u001b[0;32m     71\u001b[0m \u001b[38;5;28;01mfinally\u001b[39;00m:\n\u001b[0;32m     72\u001b[0m     \u001b[38;5;28;01mdel\u001b[39;00m filtered_tb\n",
      "File \u001b[1;32m~\\anaconda3\\Lib\\site-packages\\tensorflow\\python\\framework\\constant_op.py:102\u001b[0m, in \u001b[0;36mconvert_to_eager_tensor\u001b[1;34m(value, ctx, dtype)\u001b[0m\n\u001b[0;32m    100\u001b[0m     dtype \u001b[38;5;241m=\u001b[39m dtypes\u001b[38;5;241m.\u001b[39mas_dtype(dtype)\u001b[38;5;241m.\u001b[39mas_datatype_enum\n\u001b[0;32m    101\u001b[0m ctx\u001b[38;5;241m.\u001b[39mensure_initialized()\n\u001b[1;32m--> 102\u001b[0m \u001b[38;5;28;01mreturn\u001b[39;00m ops\u001b[38;5;241m.\u001b[39mEagerTensor(value, ctx\u001b[38;5;241m.\u001b[39mdevice_name, dtype)\n",
      "\u001b[1;31mValueError\u001b[0m: Failed to convert a NumPy array to a Tensor (Unsupported object type numpy.ndarray)."
     ]
    }
   ],
   "source": [
    "model.fit(x_train, Y_train, batch_size=14, epochs=10, validation_data=(x_test, Y_test))"
   ]
  },
  {
   "cell_type": "code",
   "execution_count": null,
   "id": "41d317c5",
   "metadata": {},
   "outputs": [],
   "source": []
  }
 ],
 "metadata": {
  "kernelspec": {
   "display_name": "Python 3 (ipykernel)",
   "language": "python",
   "name": "python3"
  },
  "language_info": {
   "codemirror_mode": {
    "name": "ipython",
    "version": 3
   },
   "file_extension": ".py",
   "mimetype": "text/x-python",
   "name": "python",
   "nbconvert_exporter": "python",
   "pygments_lexer": "ipython3",
   "version": "3.11.4"
  }
 },
 "nbformat": 4,
 "nbformat_minor": 5
}
