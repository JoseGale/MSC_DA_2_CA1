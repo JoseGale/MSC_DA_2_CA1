{
 "cells": [
  {
   "cell_type": "code",
   "execution_count": null,
   "id": "55ed2778",
   "metadata": {
    "scrolled": true
   },
   "outputs": [],
   "source": [
    "!pip install pyspark==3.4.2"
   ]
  },
  {
   "cell_type": "code",
   "execution_count": 1,
   "id": "d2b4ac60",
   "metadata": {},
   "outputs": [],
   "source": [
    "from pyspark.context import SparkContext, SparkConf\n",
    "from pyspark.sql import SparkSession"
   ]
  },
  {
   "cell_type": "code",
   "execution_count": null,
   "id": "709f8d22",
   "metadata": {},
   "outputs": [],
   "source": [
    "import findspark\n",
    "findspark.init()"
   ]
  },
  {
   "cell_type": "code",
   "execution_count": null,
   "id": "748197dd",
   "metadata": {},
   "outputs": [],
   "source": [
    "!pip install grpcio-status"
   ]
  },
  {
   "cell_type": "code",
   "execution_count": 2,
   "id": "41924e25",
   "metadata": {},
   "outputs": [],
   "source": [
    "spark = SparkSession.builder.appName(\"Images\").master(\"spark://spark-master:7077\").getOrCreate()"
   ]
  },
  {
   "cell_type": "code",
   "execution_count": null,
   "id": "9c3a3b15",
   "metadata": {},
   "outputs": [],
   "source": [
    "spark"
   ]
  },
  {
   "cell_type": "code",
   "execution_count": null,
   "id": "4672e7ed",
   "metadata": {},
   "outputs": [],
   "source": [
    "config = SparkConf().set(\"spark.shuffle.service.enabled\", \"false\").set(\"spark.dynamicAllocation.enabled\", \"false\")"
   ]
  },
  {
   "cell_type": "code",
   "execution_count": null,
   "id": "5de32e66",
   "metadata": {},
   "outputs": [],
   "source": [
    "sc = SparkContext(config)"
   ]
  },
  {
   "cell_type": "code",
   "execution_count": null,
   "id": "b9d7d5e7",
   "metadata": {},
   "outputs": [],
   "source": [
    "sc"
   ]
  },
  {
   "cell_type": "code",
   "execution_count": null,
   "id": "82c725f7",
   "metadata": {},
   "outputs": [],
   "source": [
    "import pandas as pd\n",
    "import numpy as np\n",
    "from PIL import Image\n",
    "from io import BytesIO\n",
    "import re\n",
    "# import tensorflow as tf\n",
    "import cv2"
   ]
  },
  {
   "cell_type": "markdown",
   "id": "1ac38df3",
   "metadata": {},
   "source": [
    "I will use the functionality of Image Datasource of spark to collect and process images in bytes, and then start processing the images for the neural network"
   ]
  },
  {
   "cell_type": "code",
   "execution_count": null,
   "id": "2678a34e",
   "metadata": {},
   "outputs": [],
   "source": [
    "images_folders = ['hdfs://jose-virtualbox:9000/CA1/Ireland/','hdfs://jose-virtualbox:9000/CA1/Honduran/']"
   ]
  },
  {
   "cell_type": "code",
   "execution_count": null,
   "id": "35e7c5c7",
   "metadata": {},
   "outputs": [],
   "source": []
  },
  {
   "cell_type": "code",
   "execution_count": null,
   "id": "66cf4c7a",
   "metadata": {},
   "outputs": [],
   "source": [
    "images_rdd = spark.sparkContext.binaryFiles(','.join(images_folders))"
   ]
  },
  {
   "cell_type": "code",
   "execution_count": null,
   "id": "d00ca11e",
   "metadata": {},
   "outputs": [],
   "source": [
    "images_rdd"
   ]
  },
  {
   "cell_type": "code",
   "execution_count": null,
   "id": "38c440f9",
   "metadata": {},
   "outputs": [],
   "source": [
    "def extract_data(data):\n",
    "    file_path, image_data = data\n",
    "#     image = Image.open(BytesIO(image_data))\n",
    "#     image_array = np.array(image)\n",
    "    \n",
    "    file_name = file_path.split('/')[-1]\n",
    "    file_name_without_ext = file_name.split(\".\")[0]\n",
    "    label,name = file_name_without_ext.split('_')[0], file_name_without_ext.split('_')[1]\n",
    "    \n",
    "    return name, label, image_data"
   ]
  },
  {
   "cell_type": "code",
   "execution_count": null,
   "id": "0a744255",
   "metadata": {},
   "outputs": [],
   "source": [
    "imageDf = images_rdd.map(lambda x: extract_data(x)).toDF([\"Name\",\"Label\",\"Data\"])"
   ]
  },
  {
   "cell_type": "code",
   "execution_count": null,
   "id": "62871235",
   "metadata": {},
   "outputs": [],
   "source": [
    "imageDf.show()"
   ]
  },
  {
   "cell_type": "code",
   "execution_count": null,
   "id": "234caf5c",
   "metadata": {},
   "outputs": [],
   "source": [
    "pandasImagesDF = imageDf.toPandas()"
   ]
  },
  {
   "cell_type": "code",
   "execution_count": null,
   "id": "1a5631f6",
   "metadata": {},
   "outputs": [],
   "source": [
    "def createNpArrayFromBytes(data):\n",
    "    imgbytes = BytesIO(data)\n",
    "    image = Image.open(imgbytes)\n",
    "    array = np.asarray(image)\n",
    "    return array"
   ]
  },
  {
   "cell_type": "code",
   "execution_count": null,
   "id": "debca1b4",
   "metadata": {},
   "outputs": [],
   "source": [
    "pandasImagesDF[\"Data\"] = pandasImagesDF[\"Data\"].apply(lambda x: createNpArrayFromBytes(x))"
   ]
  },
  {
   "cell_type": "code",
   "execution_count": null,
   "id": "f8d3369f",
   "metadata": {},
   "outputs": [],
   "source": [
    "pandasImagesDF"
   ]
  },
  {
   "cell_type": "markdown",
   "id": "1e57062c",
   "metadata": {},
   "source": [
    "Saving dataframe in a CSV, to not process the images each time I start the proyect"
   ]
  },
  {
   "cell_type": "code",
   "execution_count": null,
   "id": "688bd4b6",
   "metadata": {},
   "outputs": [],
   "source": [
    "pandasImagesDF.to_csv(\"./Dataset/images.csv\", index=False)"
   ]
  },
  {
   "cell_type": "markdown",
   "id": "f4feb36a",
   "metadata": {},
   "source": [
    "Read CSV saved in the project, to save time"
   ]
  },
  {
   "cell_type": "code",
   "execution_count": null,
   "id": "71650a04",
   "metadata": {},
   "outputs": [],
   "source": [
    "pandasImagesDF = pd.read_csv(\"./Dataset/images.csv\")"
   ]
  },
  {
   "cell_type": "code",
   "execution_count": null,
   "id": "18ac9420",
   "metadata": {},
   "outputs": [],
   "source": [
    "pandasImagesDF = pandasImagesDF.sort_values(by=[\"Name\"])"
   ]
  },
  {
   "cell_type": "code",
   "execution_count": null,
   "id": "8d51a004",
   "metadata": {},
   "outputs": [],
   "source": [
    "pandasImagesDF.info()"
   ]
  },
  {
   "cell_type": "code",
   "execution_count": null,
   "id": "8d5a3908",
   "metadata": {},
   "outputs": [],
   "source": [
    "def convert_string_to_np(string_repr):\n",
    "    # Extract hexadecimal values from the string representation\n",
    "    hex_values = re.findall(r'\\\\x([0-9a-fA-F]{2})', string_repr)\n",
    "    # Convert hexadecimal values to bytes\n",
    "    byte_data = bytes.fromhex(''.join(hex_values))\n",
    "    # Convert bytes to NumPy array\n",
    "    np_array = np.frombuffer(byte_data, dtype=np.uint8)\n",
    "    return np_array"
   ]
  },
  {
   "cell_type": "code",
   "execution_count": null,
   "id": "2bf3adf4",
   "metadata": {
    "scrolled": true
   },
   "outputs": [],
   "source": [
    "pandasImagesDF[\"Data\"] = pandasImagesDF[\"Data\"].apply(convert_string_to_np)"
   ]
  },
  {
   "cell_type": "code",
   "execution_count": null,
   "id": "06ca41b5",
   "metadata": {},
   "outputs": [],
   "source": [
    "pandasImagesDF[\"Data\"] = pandasImagesDF[\"Data\"].split(\"\\n\")."
   ]
  },
  {
   "cell_type": "code",
   "execution_count": null,
   "id": "8dd9878f",
   "metadata": {},
   "outputs": [],
   "source": [
    "pandasImagesDF"
   ]
  },
  {
   "cell_type": "code",
   "execution_count": null,
   "id": "397f5aa6",
   "metadata": {},
   "outputs": [],
   "source": [
    "pandasImagesDF[\"Data\"] = [float(str(i).replace(\",\", \"\")) for i in pandasImagesDF[\"Data\"]]"
   ]
  },
  {
   "cell_type": "code",
   "execution_count": null,
   "id": "cda56da0",
   "metadata": {},
   "outputs": [],
   "source": [
    "import matplotlib.pyplot as plt\n",
    "import matplotlib.image as mpimg\n",
    "import io"
   ]
  },
  {
   "cell_type": "code",
   "execution_count": null,
   "id": "9714ffc1",
   "metadata": {},
   "outputs": [],
   "source": [
    "np.array(pandasImagesDF[\"Data\"][9]).astype(\"float32\")"
   ]
  },
  {
   "cell_type": "code",
   "execution_count": null,
   "id": "45dff2d1",
   "metadata": {},
   "outputs": [],
   "source": [
    "# Determine the dimensions of the image\n",
    "width =  225\n",
    "height =  255\n",
    "\n",
    "# Convert the byte array to a numpy array of uint8 data type\n",
    "image_data = np.array(pandasImagesDF[\"Data\"][0], dtype=np.float32)\n",
    "\n",
    "# Reshape the array to match the dimensions of the image\n",
    "image_data = image_data.reshape((height, width))\n",
    "\n",
    "# Create an image from the byte array\n",
    "image = Image.fromarray(image_data)\n",
    "\n",
    "# Display the image\n",
    "image.show()"
   ]
  },
  {
   "cell_type": "code",
   "execution_count": null,
   "id": "2fd112c3",
   "metadata": {},
   "outputs": [],
   "source": []
  },
  {
   "cell_type": "code",
   "execution_count": null,
   "id": "b74ea8f9",
   "metadata": {},
   "outputs": [],
   "source": [
    "array"
   ]
  },
  {
   "cell_type": "code",
   "execution_count": null,
   "id": "e129ee57",
   "metadata": {},
   "outputs": [],
   "source": [
    "IMG_SIZE = 200"
   ]
  },
  {
   "cell_type": "code",
   "execution_count": null,
   "id": "98f26965",
   "metadata": {},
   "outputs": [],
   "source": [
    "image_array = pandasImagesDF[\"Data\"]"
   ]
  },
  {
   "cell_type": "code",
   "execution_count": null,
   "id": "2f548619",
   "metadata": {},
   "outputs": [],
   "source": [
    "image_array[0]"
   ]
  },
  {
   "cell_type": "code",
   "execution_count": null,
   "id": "8794b783",
   "metadata": {},
   "outputs": [],
   "source": [
    "from skimage.transform import resize"
   ]
  },
  {
   "cell_type": "code",
   "execution_count": null,
   "id": "04446d0e",
   "metadata": {},
   "outputs": [],
   "source": [
    "new_array = image_array.map(lambda x: resize(x, (IMG_SIZE, IMG_SIZE)))"
   ]
  },
  {
   "cell_type": "code",
   "execution_count": null,
   "id": "ee3ca769",
   "metadata": {},
   "outputs": [],
   "source": [
    "new_array"
   ]
  },
  {
   "cell_type": "code",
   "execution_count": null,
   "id": "96d91715",
   "metadata": {},
   "outputs": [],
   "source": [
    "from matplotlib import pyplot as plt\n",
    "plt.imshow(image_array[0], interpolation='nearest')\n",
    "plt.show()"
   ]
  },
  {
   "cell_type": "code",
   "execution_count": null,
   "id": "4ef4d2f4",
   "metadata": {},
   "outputs": [],
   "source": [
    "new_array = cv2.resize(image_array,(IMG_SIZE,IMG_SIZE) )"
   ]
  },
  {
   "cell_type": "markdown",
   "id": "995a9c11",
   "metadata": {},
   "source": [
    "Importing from Keras functionality necessary to implement CNN"
   ]
  },
  {
   "cell_type": "code",
   "execution_count": null,
   "id": "a1c2b5d9",
   "metadata": {},
   "outputs": [],
   "source": [
    "from keras.models import Sequential\n",
    "from keras.layers import Dense, Dropout, Conv2D, MaxPool2D, Flatten\n",
    "from keras import utils\n",
    "from sklearn.metrics import accuracy_score"
   ]
  },
  {
   "cell_type": "markdown",
   "id": "3c4dc583",
   "metadata": {},
   "source": [
    "For Now there is only 20 photos per Category, the training size will be 28 and test 12, This is for testing. After this I'll get more images to improve the CNN"
   ]
  },
  {
   "cell_type": "code",
   "execution_count": null,
   "id": "d4466c24",
   "metadata": {},
   "outputs": [],
   "source": [
    "X_train = pandasImagesDF.iloc[:-12,2].values\n",
    "y_train = pandasImagesDF.iloc[:-12,1].values\n",
    "X_test = pandasImagesDF.iloc[-12:,2].values\n",
    "y_test = pandasImagesDF.iloc[-12:,1].values\n"
   ]
  },
  {
   "cell_type": "code",
   "execution_count": null,
   "id": "86e0e6b2",
   "metadata": {},
   "outputs": [],
   "source": [
    "X_train"
   ]
  },
  {
   "cell_type": "code",
   "execution_count": null,
   "id": "bb47a6a0",
   "metadata": {},
   "outputs": [],
   "source": []
  },
  {
   "cell_type": "code",
   "execution_count": null,
   "id": "4ca11ced",
   "metadata": {},
   "outputs": [],
   "source": [
    "from sklearn.preprocessing import OneHotEncoder"
   ]
  },
  {
   "cell_type": "code",
   "execution_count": null,
   "id": "42531cd0",
   "metadata": {},
   "outputs": [],
   "source": [
    "encoder = OneHotEncoder(sparse_output=False)\n",
    "y_train = np.array(y_train).reshape(-1, 1)\n",
    "y_train = encoder.fit_transform(y_train)\n",
    "\n",
    "y_test = np.array(y_test).reshape(-1,1)\n",
    "y_test = encoder.fit_transform(y_test)"
   ]
  },
  {
   "cell_type": "code",
   "execution_count": null,
   "id": "5bccd4ab",
   "metadata": {},
   "outputs": [],
   "source": [
    "X_train = X_train.reshape(-1,1)\n",
    "X_test = X_test.reshape(-1,1)"
   ]
  },
  {
   "cell_type": "code",
   "execution_count": null,
   "id": "4b24106d",
   "metadata": {},
   "outputs": [],
   "source": [
    "X_train"
   ]
  },
  {
   "cell_type": "code",
   "execution_count": null,
   "id": "b91b31e9",
   "metadata": {},
   "outputs": [],
   "source": [
    "len(X_train[7][0])"
   ]
  },
  {
   "cell_type": "code",
   "execution_count": null,
   "id": "824f45a5",
   "metadata": {},
   "outputs": [],
   "source": [
    "X_train = np.reshape(X_train, (X_train.shape[0], 1080,1))\n",
    "X_test = np.reshape(X_test,(X_test.shape[0],X_test.shape[1],1))\n",
    "y_train = np.reshape(y_train, (y_train.shape[0], 1080,1))\n",
    "y_test = np.reshape(y_test, (y_test.shape[0], y_test.shape[1],1))"
   ]
  },
  {
   "cell_type": "code",
   "execution_count": null,
   "id": "82fe97e4",
   "metadata": {},
   "outputs": [],
   "source": [
    "X_train.shape"
   ]
  },
  {
   "cell_type": "markdown",
   "id": "61abda0c",
   "metadata": {},
   "source": [
    "Because the pixels are from 0 to 255, We have to normalize the pixels"
   ]
  },
  {
   "cell_type": "code",
   "execution_count": null,
   "id": "7c7295f0",
   "metadata": {},
   "outputs": [],
   "source": [
    "X_train/=255\n",
    "X_test/=255"
   ]
  },
  {
   "cell_type": "code",
   "execution_count": null,
   "id": "62e6bae6",
   "metadata": {},
   "outputs": [],
   "source": [
    "model = Sequential()\n",
    "model.add(Conv2D(25,kernel_size=(3,3),strides=(1,1),padding=\"valid\", activation=\"relu\", input_shape=(1080,1080,1)))\n",
    "model.add(MaxPool2D(pool_size=(1,1)))\n",
    "model.add(Flatten())\n",
    "\n",
    "model.add(Dense(100, activation=\"relu\"))\n",
    "model.add(Dense(10,activation=\"softmax\"))"
   ]
  },
  {
   "cell_type": "code",
   "execution_count": null,
   "id": "e313dc62",
   "metadata": {},
   "outputs": [],
   "source": [
    "model.compile(loss=\"categorical_crossentropy\", metrics=[\"accuracy\"], optimizer=\"adam\")"
   ]
  },
  {
   "cell_type": "code",
   "execution_count": null,
   "id": "00aef854",
   "metadata": {},
   "outputs": [],
   "source": [
    "y_train.shape"
   ]
  },
  {
   "cell_type": "code",
   "execution_count": null,
   "id": "cb4f1223",
   "metadata": {},
   "outputs": [],
   "source": [
    "z =np.(X_train)"
   ]
  },
  {
   "cell_type": "code",
   "execution_count": null,
   "id": "8e68b4da",
   "metadata": {},
   "outputs": [],
   "source": [
    "x_train = np.asarray(X_train)\n",
    "Y_train = np.asarray(y_train)\n",
    "x_test = np.asarray(X_test)\n",
    "Y_test = np.asarray(y_test)"
   ]
  },
  {
   "cell_type": "code",
   "execution_count": null,
   "id": "5fd78b0d",
   "metadata": {},
   "outputs": [],
   "source": [
    "model.fit(x_train, Y_train, batch_size=14, epochs=10, validation_data=(x_test, Y_test))"
   ]
  },
  {
   "cell_type": "code",
   "execution_count": null,
   "id": "41d317c5",
   "metadata": {},
   "outputs": [],
   "source": []
  }
 ],
 "metadata": {
  "kernelspec": {
   "display_name": "Python 3 (ipykernel)",
   "language": "python",
   "name": "python3"
  },
  "language_info": {
   "codemirror_mode": {
    "name": "ipython",
    "version": 3
   },
   "file_extension": ".py",
   "mimetype": "text/x-python",
   "name": "python",
   "nbconvert_exporter": "python",
   "pygments_lexer": "ipython3",
   "version": "3.11.8"
  }
 },
 "nbformat": 4,
 "nbformat_minor": 5
}
