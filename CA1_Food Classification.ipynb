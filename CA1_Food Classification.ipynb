{
 "cells": [
  {
   "cell_type": "code",
   "execution_count": 1,
   "metadata": {},
   "outputs": [
    {
     "data": {
      "text/html": [
       "\n",
       "            <div>\n",
       "                <p><b>SparkSession - hive</b></p>\n",
       "                \n",
       "        <div>\n",
       "            <p><b>SparkContext</b></p>\n",
       "\n",
       "            <p><a href=\"http://localhost:4041\">Spark UI</a></p>\n",
       "\n",
       "            <dl>\n",
       "              <dt>Version</dt>\n",
       "                <dd><code>v3.5.1</code></dd>\n",
       "              <dt>Master</dt>\n",
       "                <dd><code>local[*]</code></dd>\n",
       "              <dt>AppName</dt>\n",
       "                <dd><code>PySparkShell</code></dd>\n",
       "            </dl>\n",
       "        </div>\n",
       "        \n",
       "            </div>\n",
       "        "
      ],
      "text/plain": [
       "<pyspark.sql.session.SparkSession at 0x7f38bc92c3a0>"
      ]
     },
     "execution_count": 1,
     "metadata": {},
     "output_type": "execute_result"
    }
   ],
   "source": [
    "spark"
   ]
  },
  {
   "cell_type": "code",
   "execution_count": 2,
   "metadata": {},
   "outputs": [],
   "source": [
    "import pandas as pd\n",
    "import numpy as np\n",
    "from PIL import Image\n",
    "from io import BytesIO\n",
    "import re\n",
    "# import tensorflow as tf\n",
    "# import cv2"
   ]
  },
  {
   "cell_type": "markdown",
   "metadata": {},
   "source": [
    "I will use the functionality of Image Datasource of spark to collect and process images in bytes, and then start processing the images for the neural network"
   ]
  },
  {
   "cell_type": "code",
   "execution_count": 3,
   "metadata": {},
   "outputs": [],
   "source": [
    "images_folders = ['hdfs://172.24.144.178:9000/CA1/Images/Ireland/','hdfs://172.24.144.178:9000/CA1/Images/Honduran/']"
   ]
  },
  {
   "cell_type": "code",
   "execution_count": 4,
   "metadata": {},
   "outputs": [],
   "source": [
    "images_rdd = spark.sparkContext.binaryFiles(','.join(images_folders))\n",
    "# images_rdd = spark.sparkContext.binaryFiles('hdfs://172.24.144.178:9000/CA1/Images/Ireland/Ireland_001.jpeg')"
   ]
  },
  {
   "cell_type": "code",
   "execution_count": 5,
   "metadata": {},
   "outputs": [
    {
     "data": {
      "text/plain": [
       "org.apache.spark.api.java.JavaPairRDD@2e3d4f8b"
      ]
     },
     "execution_count": 5,
     "metadata": {},
     "output_type": "execute_result"
    }
   ],
   "source": [
    "images_rdd"
   ]
  },
  {
   "cell_type": "code",
   "execution_count": 6,
   "metadata": {},
   "outputs": [],
   "source": [
    "def extract_data(data):\n",
    "    file_path, image_data = data\n",
    "#     image = Image.open(BytesIO(image_data))\n",
    "#     image_array = np.array(image)\n",
    "    \n",
    "    file_name = file_path.split('/')[-1]\n",
    "    file_name_without_ext = file_name.split(\".\")[0]\n",
    "    label,name = file_name_without_ext.split('_')[0], file_name_without_ext.split('_')[1]\n",
    "    \n",
    "    return name, label, image_data"
   ]
  },
  {
   "cell_type": "code",
   "execution_count": 7,
   "metadata": {},
   "outputs": [
    {
     "name": "stderr",
     "output_type": "stream",
     "text": [
      "                                                                                \r"
     ]
    }
   ],
   "source": [
    "imageDf = images_rdd.map(lambda x: extract_data(x)).toDF([\"Name\",\"Label\",\"Data\"])"
   ]
  },
  {
   "cell_type": "code",
   "execution_count": 8,
   "metadata": {},
   "outputs": [
    {
     "name": "stderr",
     "output_type": "stream",
     "text": [
      "                                                                                \r"
     ]
    }
   ],
   "source": [
    "pandasImagesDF = imageDf.toPandas()"
   ]
  },
  {
   "cell_type": "code",
   "execution_count": 9,
   "metadata": {},
   "outputs": [],
   "source": [
    "def processImage(data, target_size=(225,225)):\n",
    "    imgbytes = BytesIO(data)\n",
    "    image = Image.open(imgbytes)\n",
    "    resized_img = image.resize(target_size, Image.ANTIALIAS)\n",
    "    with BytesIO() as output:\n",
    "        resized_img.save(output, format=\"PNG\")\n",
    "        new_image = Image.open(output)\n",
    "\n",
    "        array = np.asarray(image).astype(np.float32) / 255\n",
    "        return array"
   ]
  },
  {
   "cell_type": "code",
   "execution_count": 10,
   "metadata": {},
   "outputs": [],
   "source": [
    "pandasImagesDF[\"Data\"] = pandasImagesDF[\"Data\"].apply(lambda x: processImage(x))"
   ]
  },
  {
   "cell_type": "code",
   "execution_count": 11,
   "metadata": {},
   "outputs": [
    {
     "data": {
      "text/html": [
       "<div>\n",
       "<style scoped>\n",
       "    .dataframe tbody tr th:only-of-type {\n",
       "        vertical-align: middle;\n",
       "    }\n",
       "\n",
       "    .dataframe tbody tr th {\n",
       "        vertical-align: top;\n",
       "    }\n",
       "\n",
       "    .dataframe thead th {\n",
       "        text-align: right;\n",
       "    }\n",
       "</style>\n",
       "<table border=\"1\" class=\"dataframe\">\n",
       "  <thead>\n",
       "    <tr style=\"text-align: right;\">\n",
       "      <th></th>\n",
       "      <th>Name</th>\n",
       "      <th>Label</th>\n",
       "      <th>Data</th>\n",
       "    </tr>\n",
       "  </thead>\n",
       "  <tbody>\n",
       "    <tr>\n",
       "      <th>0</th>\n",
       "      <td>001</td>\n",
       "      <td>Ireland</td>\n",
       "      <td>[[[0.8, 0.67058825, 0.5019608], [0.7764706, 0....</td>\n",
       "    </tr>\n",
       "    <tr>\n",
       "      <th>1</th>\n",
       "      <td>002</td>\n",
       "      <td>Ireland</td>\n",
       "      <td>[[[0.3764706, 0.4862745, 0.57254905], [0.37647...</td>\n",
       "    </tr>\n",
       "    <tr>\n",
       "      <th>2</th>\n",
       "      <td>003</td>\n",
       "      <td>Ireland</td>\n",
       "      <td>[[[0.5137255, 0.5176471, 0.5372549], [0.513725...</td>\n",
       "    </tr>\n",
       "    <tr>\n",
       "      <th>3</th>\n",
       "      <td>004</td>\n",
       "      <td>Ireland</td>\n",
       "      <td>[[[0.29803923, 0.101960786, 0.011764706], [0.3...</td>\n",
       "    </tr>\n",
       "    <tr>\n",
       "      <th>4</th>\n",
       "      <td>005</td>\n",
       "      <td>Ireland</td>\n",
       "      <td>[[[0.5058824, 0.5568628, 0.5921569], [0.745098...</td>\n",
       "    </tr>\n",
       "    <tr>\n",
       "      <th>5</th>\n",
       "      <td>006</td>\n",
       "      <td>Ireland</td>\n",
       "      <td>[[[0.29803923, 0.24313726, 0.19215687], [0.298...</td>\n",
       "    </tr>\n",
       "    <tr>\n",
       "      <th>6</th>\n",
       "      <td>007</td>\n",
       "      <td>Ireland</td>\n",
       "      <td>[[[0.7529412, 0.8, 0.7921569], [0.74509805, 0....</td>\n",
       "    </tr>\n",
       "    <tr>\n",
       "      <th>7</th>\n",
       "      <td>008</td>\n",
       "      <td>Ireland</td>\n",
       "      <td>[[[0.7137255, 0.5254902, 0.22745098], [0.71372...</td>\n",
       "    </tr>\n",
       "    <tr>\n",
       "      <th>8</th>\n",
       "      <td>009</td>\n",
       "      <td>Ireland</td>\n",
       "      <td>[[[0.9529412, 0.9529412, 0.9529412], [0.952941...</td>\n",
       "    </tr>\n",
       "    <tr>\n",
       "      <th>9</th>\n",
       "      <td>010</td>\n",
       "      <td>Ireland</td>\n",
       "      <td>[[[0.6862745, 0.5803922, 0.5058824], [0.686274...</td>\n",
       "    </tr>\n",
       "    <tr>\n",
       "      <th>10</th>\n",
       "      <td>011</td>\n",
       "      <td>Ireland</td>\n",
       "      <td>[[[1.0, 1.0, 1.0], [1.0, 1.0, 1.0], [1.0, 1.0,...</td>\n",
       "    </tr>\n",
       "    <tr>\n",
       "      <th>11</th>\n",
       "      <td>012</td>\n",
       "      <td>Ireland</td>\n",
       "      <td>[[[0.3529412, 0.48235294, 0.6117647], [0.35294...</td>\n",
       "    </tr>\n",
       "    <tr>\n",
       "      <th>12</th>\n",
       "      <td>013</td>\n",
       "      <td>Ireland</td>\n",
       "      <td>[[[1.0, 1.0, 1.0], [1.0, 1.0, 1.0], [1.0, 1.0,...</td>\n",
       "    </tr>\n",
       "    <tr>\n",
       "      <th>13</th>\n",
       "      <td>014</td>\n",
       "      <td>Ireland</td>\n",
       "      <td>[[[0.8392157, 0.8627451, 0.9647059], [0.850980...</td>\n",
       "    </tr>\n",
       "    <tr>\n",
       "      <th>14</th>\n",
       "      <td>015</td>\n",
       "      <td>Ireland</td>\n",
       "      <td>[[[0.89411765, 0.8235294, 0.8235294], [0.89019...</td>\n",
       "    </tr>\n",
       "    <tr>\n",
       "      <th>15</th>\n",
       "      <td>016</td>\n",
       "      <td>Ireland</td>\n",
       "      <td>[[[0.7529412, 0.70980394, 0.7254902], [0.76078...</td>\n",
       "    </tr>\n",
       "    <tr>\n",
       "      <th>16</th>\n",
       "      <td>017</td>\n",
       "      <td>Ireland</td>\n",
       "      <td>[[[0.5803922, 0.40392157, 0.23921569], [0.5843...</td>\n",
       "    </tr>\n",
       "    <tr>\n",
       "      <th>17</th>\n",
       "      <td>018</td>\n",
       "      <td>Ireland</td>\n",
       "      <td>[[[0.6627451, 0.60784316, 0.5568628], [0.58039...</td>\n",
       "    </tr>\n",
       "    <tr>\n",
       "      <th>18</th>\n",
       "      <td>019</td>\n",
       "      <td>Ireland</td>\n",
       "      <td>[[[0.02745098, 0.03529412, 0.09411765], [0.043...</td>\n",
       "    </tr>\n",
       "    <tr>\n",
       "      <th>19</th>\n",
       "      <td>020</td>\n",
       "      <td>Ireland</td>\n",
       "      <td>[[[0.8509804, 0.7882353, 0.6862745], [0.827451...</td>\n",
       "    </tr>\n",
       "    <tr>\n",
       "      <th>20</th>\n",
       "      <td>001</td>\n",
       "      <td>Honduran</td>\n",
       "      <td>[[[0.14509805, 0.10980392, 0.07450981], [0.149...</td>\n",
       "    </tr>\n",
       "    <tr>\n",
       "      <th>21</th>\n",
       "      <td>002</td>\n",
       "      <td>Honduran</td>\n",
       "      <td>[[[0.14509805, 0.10980392, 0.07450981], [0.149...</td>\n",
       "    </tr>\n",
       "    <tr>\n",
       "      <th>22</th>\n",
       "      <td>003</td>\n",
       "      <td>Honduran</td>\n",
       "      <td>[[[0.92941177, 0.6862745, 0.44705883], [0.9058...</td>\n",
       "    </tr>\n",
       "    <tr>\n",
       "      <th>23</th>\n",
       "      <td>004</td>\n",
       "      <td>Honduran</td>\n",
       "      <td>[[[0.61960787, 0.6745098, 0.7254902], [0.61568...</td>\n",
       "    </tr>\n",
       "    <tr>\n",
       "      <th>24</th>\n",
       "      <td>005</td>\n",
       "      <td>Honduran</td>\n",
       "      <td>[[[0.6431373, 0.6666667, 0.7294118], [0.647058...</td>\n",
       "    </tr>\n",
       "    <tr>\n",
       "      <th>25</th>\n",
       "      <td>006</td>\n",
       "      <td>Honduran</td>\n",
       "      <td>[[[0.8235294, 0.28627452, 0.56078434], [0.7647...</td>\n",
       "    </tr>\n",
       "    <tr>\n",
       "      <th>26</th>\n",
       "      <td>007</td>\n",
       "      <td>Honduran</td>\n",
       "      <td>[[[0.38431373, 0.21568628, 0.14117648], [0.368...</td>\n",
       "    </tr>\n",
       "    <tr>\n",
       "      <th>27</th>\n",
       "      <td>008</td>\n",
       "      <td>Honduran</td>\n",
       "      <td>[[[0.9764706, 0.78039217, 0.7764706], [0.97647...</td>\n",
       "    </tr>\n",
       "    <tr>\n",
       "      <th>28</th>\n",
       "      <td>009</td>\n",
       "      <td>Honduran</td>\n",
       "      <td>[[[0.8509804, 0.74509805, 0.5686275], [0.61176...</td>\n",
       "    </tr>\n",
       "    <tr>\n",
       "      <th>29</th>\n",
       "      <td>010</td>\n",
       "      <td>Honduran</td>\n",
       "      <td>[[[0.34117648, 0.23529412, 0.050980393], [0.45...</td>\n",
       "    </tr>\n",
       "    <tr>\n",
       "      <th>30</th>\n",
       "      <td>011</td>\n",
       "      <td>Honduran</td>\n",
       "      <td>[[[0.78431374, 0.76862746, 0.73333335], [0.854...</td>\n",
       "    </tr>\n",
       "    <tr>\n",
       "      <th>31</th>\n",
       "      <td>012</td>\n",
       "      <td>Honduran</td>\n",
       "      <td>[[[0.18039216, 0.20392157, 0.2509804], [0.1803...</td>\n",
       "    </tr>\n",
       "    <tr>\n",
       "      <th>32</th>\n",
       "      <td>013</td>\n",
       "      <td>Honduran</td>\n",
       "      <td>[[[0.49411765, 0.11372549, 0.15686275], [0.509...</td>\n",
       "    </tr>\n",
       "    <tr>\n",
       "      <th>33</th>\n",
       "      <td>014</td>\n",
       "      <td>Honduran</td>\n",
       "      <td>[[[0.5411765, 0.6, 0.7294118], [0.5411765, 0.6...</td>\n",
       "    </tr>\n",
       "    <tr>\n",
       "      <th>34</th>\n",
       "      <td>015</td>\n",
       "      <td>Honduran</td>\n",
       "      <td>[[[0.85882354, 0.83137256, 0.7921569], [0.8509...</td>\n",
       "    </tr>\n",
       "    <tr>\n",
       "      <th>35</th>\n",
       "      <td>016</td>\n",
       "      <td>Honduran</td>\n",
       "      <td>[[[0.7176471, 0.7529412, 0.73333335], [0.71764...</td>\n",
       "    </tr>\n",
       "    <tr>\n",
       "      <th>36</th>\n",
       "      <td>017</td>\n",
       "      <td>Honduran</td>\n",
       "      <td>[[[0.1882353, 0.1254902, 0.06666667], [0.32549...</td>\n",
       "    </tr>\n",
       "    <tr>\n",
       "      <th>37</th>\n",
       "      <td>018</td>\n",
       "      <td>Honduran</td>\n",
       "      <td>[[[0.78431374, 0.8666667, 0.8392157], [0.78823...</td>\n",
       "    </tr>\n",
       "    <tr>\n",
       "      <th>38</th>\n",
       "      <td>019</td>\n",
       "      <td>Honduran</td>\n",
       "      <td>[[[0.27058825, 0.3254902, 0.42745098], [0.2705...</td>\n",
       "    </tr>\n",
       "    <tr>\n",
       "      <th>39</th>\n",
       "      <td>020</td>\n",
       "      <td>Honduran</td>\n",
       "      <td>[[[0.44705883, 0.23921569, 0.08235294], [0.447...</td>\n",
       "    </tr>\n",
       "  </tbody>\n",
       "</table>\n",
       "</div>"
      ],
      "text/plain": [
       "   Name     Label                                               Data\n",
       "0   001   Ireland  [[[0.8, 0.67058825, 0.5019608], [0.7764706, 0....\n",
       "1   002   Ireland  [[[0.3764706, 0.4862745, 0.57254905], [0.37647...\n",
       "2   003   Ireland  [[[0.5137255, 0.5176471, 0.5372549], [0.513725...\n",
       "3   004   Ireland  [[[0.29803923, 0.101960786, 0.011764706], [0.3...\n",
       "4   005   Ireland  [[[0.5058824, 0.5568628, 0.5921569], [0.745098...\n",
       "5   006   Ireland  [[[0.29803923, 0.24313726, 0.19215687], [0.298...\n",
       "6   007   Ireland  [[[0.7529412, 0.8, 0.7921569], [0.74509805, 0....\n",
       "7   008   Ireland  [[[0.7137255, 0.5254902, 0.22745098], [0.71372...\n",
       "8   009   Ireland  [[[0.9529412, 0.9529412, 0.9529412], [0.952941...\n",
       "9   010   Ireland  [[[0.6862745, 0.5803922, 0.5058824], [0.686274...\n",
       "10  011   Ireland  [[[1.0, 1.0, 1.0], [1.0, 1.0, 1.0], [1.0, 1.0,...\n",
       "11  012   Ireland  [[[0.3529412, 0.48235294, 0.6117647], [0.35294...\n",
       "12  013   Ireland  [[[1.0, 1.0, 1.0], [1.0, 1.0, 1.0], [1.0, 1.0,...\n",
       "13  014   Ireland  [[[0.8392157, 0.8627451, 0.9647059], [0.850980...\n",
       "14  015   Ireland  [[[0.89411765, 0.8235294, 0.8235294], [0.89019...\n",
       "15  016   Ireland  [[[0.7529412, 0.70980394, 0.7254902], [0.76078...\n",
       "16  017   Ireland  [[[0.5803922, 0.40392157, 0.23921569], [0.5843...\n",
       "17  018   Ireland  [[[0.6627451, 0.60784316, 0.5568628], [0.58039...\n",
       "18  019   Ireland  [[[0.02745098, 0.03529412, 0.09411765], [0.043...\n",
       "19  020   Ireland  [[[0.8509804, 0.7882353, 0.6862745], [0.827451...\n",
       "20  001  Honduran  [[[0.14509805, 0.10980392, 0.07450981], [0.149...\n",
       "21  002  Honduran  [[[0.14509805, 0.10980392, 0.07450981], [0.149...\n",
       "22  003  Honduran  [[[0.92941177, 0.6862745, 0.44705883], [0.9058...\n",
       "23  004  Honduran  [[[0.61960787, 0.6745098, 0.7254902], [0.61568...\n",
       "24  005  Honduran  [[[0.6431373, 0.6666667, 0.7294118], [0.647058...\n",
       "25  006  Honduran  [[[0.8235294, 0.28627452, 0.56078434], [0.7647...\n",
       "26  007  Honduran  [[[0.38431373, 0.21568628, 0.14117648], [0.368...\n",
       "27  008  Honduran  [[[0.9764706, 0.78039217, 0.7764706], [0.97647...\n",
       "28  009  Honduran  [[[0.8509804, 0.74509805, 0.5686275], [0.61176...\n",
       "29  010  Honduran  [[[0.34117648, 0.23529412, 0.050980393], [0.45...\n",
       "30  011  Honduran  [[[0.78431374, 0.76862746, 0.73333335], [0.854...\n",
       "31  012  Honduran  [[[0.18039216, 0.20392157, 0.2509804], [0.1803...\n",
       "32  013  Honduran  [[[0.49411765, 0.11372549, 0.15686275], [0.509...\n",
       "33  014  Honduran  [[[0.5411765, 0.6, 0.7294118], [0.5411765, 0.6...\n",
       "34  015  Honduran  [[[0.85882354, 0.83137256, 0.7921569], [0.8509...\n",
       "35  016  Honduran  [[[0.7176471, 0.7529412, 0.73333335], [0.71764...\n",
       "36  017  Honduran  [[[0.1882353, 0.1254902, 0.06666667], [0.32549...\n",
       "37  018  Honduran  [[[0.78431374, 0.8666667, 0.8392157], [0.78823...\n",
       "38  019  Honduran  [[[0.27058825, 0.3254902, 0.42745098], [0.2705...\n",
       "39  020  Honduran  [[[0.44705883, 0.23921569, 0.08235294], [0.447..."
      ]
     },
     "execution_count": 11,
     "metadata": {},
     "output_type": "execute_result"
    }
   ],
   "source": [
    "pandasImagesDF"
   ]
  },
  {
   "cell_type": "code",
   "execution_count": 12,
   "metadata": {},
   "outputs": [],
   "source": [
    "pandasImagesDF = pandasImagesDF.sort_values(by=[\"Name\"])"
   ]
  },
  {
   "cell_type": "code",
   "execution_count": 13,
   "metadata": {},
   "outputs": [
    {
     "name": "stdout",
     "output_type": "stream",
     "text": [
      "<class 'pandas.core.frame.DataFrame'>\n",
      "Int64Index: 40 entries, 0 to 39\n",
      "Data columns (total 3 columns):\n",
      " #   Column  Non-Null Count  Dtype \n",
      "---  ------  --------------  ----- \n",
      " 0   Name    40 non-null     object\n",
      " 1   Label   40 non-null     object\n",
      " 2   Data    40 non-null     object\n",
      "dtypes: object(3)\n",
      "memory usage: 1.2+ KB\n"
     ]
    }
   ],
   "source": [
    "pandasImagesDF.info()"
   ]
  },
  {
   "cell_type": "code",
   "execution_count": null,
   "metadata": {},
   "outputs": [],
   "source": [
    "pandasImagesDF"
   ]
  },
  {
   "cell_type": "code",
   "execution_count": 1,
   "metadata": {},
   "outputs": [
    {
     "name": "stdout",
     "output_type": "stream",
     "text": [
      "3.8.10\n"
     ]
    }
   ],
   "source": [
    "from platform import python_version\n",
    "\n",
    "print(python_version())"
   ]
  },
  {
   "cell_type": "code",
   "execution_count": 14,
   "metadata": {},
   "outputs": [
    {
     "name": "stdout",
     "output_type": "stream",
     "text": [
      "Unexpected exception formatting exception. Falling back to standard exception\n"
     ]
    },
    {
     "name": "stderr",
     "output_type": "stream",
     "text": [
      "Traceback (most recent call last):\n",
      "  File \"/home/jose/.local/lib/python3.8/site-packages/IPython/core/interactiveshell.py\", line 3508, in run_code\n",
      "    exec(code_obj, self.user_global_ns, self.user_ns)\n",
      "  File \"/tmp/ipykernel_43345/322768712.py\", line 1, in <module>\n",
      "    import matplotlib.pyplot as plt\n",
      "  File \"/home/jose/.local/lib/python3.8/site-packages/matplotlib/__init__.py\", line 227, in <module>\n",
      "    _check_versions()\n",
      "  File \"/home/jose/.local/lib/python3.8/site-packages/matplotlib/__init__.py\", line 223, in _check_versions\n",
      "    raise ImportError(f\"Matplotlib requires {modname}>={minver}; \"\n",
      "ImportError: Matplotlib requires numpy>=1.20; you have 1.19.5\n",
      "\n",
      "During handling of the above exception, another exception occurred:\n",
      "\n",
      "Traceback (most recent call last):\n",
      "  File \"/home/jose/.local/lib/python3.8/site-packages/IPython/core/interactiveshell.py\", line 2105, in showtraceback\n",
      "    stb = self.InteractiveTB.structured_traceback(\n",
      "  File \"/home/jose/.local/lib/python3.8/site-packages/IPython/core/ultratb.py\", line 1396, in structured_traceback\n",
      "    return FormattedTB.structured_traceback(\n",
      "  File \"/home/jose/.local/lib/python3.8/site-packages/IPython/core/ultratb.py\", line 1287, in structured_traceback\n",
      "    return VerboseTB.structured_traceback(\n",
      "  File \"/home/jose/.local/lib/python3.8/site-packages/IPython/core/ultratb.py\", line 1140, in structured_traceback\n",
      "    formatted_exception = self.format_exception_as_a_whole(etype, evalue, etb, number_of_lines_of_context,\n",
      "  File \"/home/jose/.local/lib/python3.8/site-packages/IPython/core/ultratb.py\", line 1030, in format_exception_as_a_whole\n",
      "    self.get_records(etb, number_of_lines_of_context, tb_offset) if etb else []\n",
      "  File \"/home/jose/.local/lib/python3.8/site-packages/IPython/core/ultratb.py\", line 1082, in get_records\n",
      "    style = stack_data.style_with_executing_node(style, self._tb_highlight)\n",
      "  File \"/home/jose/.local/lib/python3.8/site-packages/stack_data/core.py\", line 455, in style_with_executing_node\n",
      "    class NewStyle(style):\n",
      "  File \"/usr/lib/python3/dist-packages/pygments/style.py\", line 91, in __new__\n",
      "    ndef[4] = colorformat(styledef[3:])\n",
      "  File \"/usr/lib/python3/dist-packages/pygments/style.py\", line 58, in colorformat\n",
      "    assert False, \"wrong color format %r\" % text\n",
      "AssertionError: wrong color format 'ansiyellow'\n"
     ]
    }
   ],
   "source": [
    "import matplotlib.pyplot as plt"
   ]
  },
  {
   "cell_type": "code",
   "execution_count": null,
   "metadata": {},
   "outputs": [],
   "source": [
    "np.array(pandasImagesDF[\"Data\"][9]).astype(\"float32\").shape"
   ]
  },
  {
   "cell_type": "code",
   "execution_count": null,
   "metadata": {},
   "outputs": [],
   "source": [
    "# Determine the dimensions of the image\n",
    "width =  225\n",
    "height =  225\n",
    "\n",
    "# Convert the byte array to a numpy array of uint8 data type\n",
    "image_data = np.array(pandasImagesDF[\"Data\"][0], dtype=np.uint8)\n",
    "# image_data.reshape(-1,1)\n",
    "# Reshape the array to match the dimensions of the image\n",
    "# image_data = image_data.reshape((height, width))\n",
    "\n",
    "# Create an image from the byte array\n",
    "image = Image.fromarray(image_data)\n",
    "\n",
    "# Display the image\n",
    "image.show()"
   ]
  },
  {
   "cell_type": "markdown",
   "metadata": {},
   "source": [
    "Importing from Keras functionality necessary to implement CNN"
   ]
  },
  {
   "cell_type": "code",
   "execution_count": 12,
   "metadata": {},
   "outputs": [
    {
     "name": "stderr",
     "output_type": "stream",
     "text": [
      "2024-03-19 20:47:51.832382: W tensorflow/stream_executor/platform/default/dso_loader.cc:64] Could not load dynamic library 'libcudart.so.11.0'; dlerror: libcudart.so.11.0: cannot open shared object file: No such file or directory\n",
      "2024-03-19 20:47:51.832434: I tensorflow/stream_executor/cuda/cudart_stub.cc:29] Ignore above cudart dlerror if you do not have a GPU set up on your machine.\n"
     ]
    }
   ],
   "source": [
    "from tensorflow.keras.models import Sequential\n",
    "from tensorflow.keras.layers import Dense, Dropout, Conv2D, MaxPool2D, Flatten\n",
    "from tensorflow.keras import utils\n",
    "from sklearn.metrics import accuracy_score"
   ]
  },
  {
   "cell_type": "markdown",
   "metadata": {},
   "source": [
    "For Now there is only 20 photos per Category, the training size will be 28 and test 12, This is for testing. After this I'll get more images to improve the CNN"
   ]
  },
  {
   "cell_type": "code",
   "execution_count": 13,
   "metadata": {},
   "outputs": [],
   "source": [
    "X_train = pandasImagesDF.iloc[:-12,2].values\n",
    "y_train = pandasImagesDF.iloc[:-12,1].values\n",
    "X_test = pandasImagesDF.iloc[-12:,2].values\n",
    "y_test = pandasImagesDF.iloc[-12:,1].values\n"
   ]
  },
  {
   "cell_type": "code",
   "execution_count": 14,
   "metadata": {},
   "outputs": [],
   "source": [
    "from sklearn.preprocessing import OneHotEncoder"
   ]
  },
  {
   "cell_type": "code",
   "execution_count": 15,
   "metadata": {},
   "outputs": [],
   "source": [
    "encoder = OneHotEncoder(sparse_output=False)\n",
    "y_train = np.array(y_train).reshape(-1, 1)\n",
    "y_train = encoder.fit_transform(y_train)\n",
    "\n",
    "y_test = np.array(y_test).reshape(-1,1)\n",
    "y_test = encoder.fit_transform(y_test)"
   ]
  },
  {
   "cell_type": "code",
   "execution_count": 16,
   "metadata": {},
   "outputs": [],
   "source": [
    "X_train = X_train.reshape(-1,1)\n",
    "X_test = X_test.reshape(-1,1)"
   ]
  },
  {
   "cell_type": "code",
   "execution_count": 17,
   "metadata": {
    "scrolled": true
   },
   "outputs": [
    {
     "data": {
      "text/plain": [
       "(28, 1)"
      ]
     },
     "execution_count": 17,
     "metadata": {},
     "output_type": "execute_result"
    }
   ],
   "source": [
    "X_train.shape"
   ]
  },
  {
   "cell_type": "code",
   "execution_count": 52,
   "metadata": {},
   "outputs": [],
   "source": [
    "p = np.reshape(X_train[0][0], (225,225,3))"
   ]
  },
  {
   "cell_type": "code",
   "execution_count": 53,
   "metadata": {},
   "outputs": [
    {
     "data": {
      "text/plain": [
       "(225, 225, 3)"
      ]
     },
     "execution_count": 53,
     "metadata": {},
     "output_type": "execute_result"
    }
   ],
   "source": [
    "p.shape"
   ]
  },
  {
   "cell_type": "code",
   "execution_count": 18,
   "metadata": {},
   "outputs": [],
   "source": [
    "X_train_reshaped = []\n",
    "X_test_reshaped = []\n",
    "\n",
    "for x in X_train:\n",
    "#     x = x.reshape(-1,1)\n",
    "    X_train_reshaped.append(x)\n",
    "#     print(x[0])\n",
    "#     print(x[0].shape)\n",
    "\n",
    "for x in X_test:\n",
    "#     x = x.reshape(-1,1)\n",
    "    X_test_reshaped.append(x)\n",
    "    "
   ]
  },
  {
   "cell_type": "code",
   "execution_count": 19,
   "metadata": {},
   "outputs": [],
   "source": [
    "# X_train = np.reshape(X_train, (X_train.shape[0], 225,225,1))\n",
    "X_test = np.reshape(X_test,(X_test.shape[0],X_test.shape[1],1))\n",
    "# y_train = np.reshape(y_train, (y_train.shape[0], 225,225,1))\n",
    "y_test = np.reshape(y_test, (y_test.shape[0], y_test.shape[1],1))"
   ]
  },
  {
   "cell_type": "code",
   "execution_count": 20,
   "metadata": {},
   "outputs": [
    {
     "data": {
      "text/plain": [
       "(28, 1)"
      ]
     },
     "execution_count": 20,
     "metadata": {},
     "output_type": "execute_result"
    }
   ],
   "source": [
    "X_train.shape"
   ]
  },
  {
   "cell_type": "markdown",
   "metadata": {},
   "source": [
    "Because the pixels are from 0 to 255, We have to normalize the pixels"
   ]
  },
  {
   "cell_type": "code",
   "execution_count": 21,
   "metadata": {},
   "outputs": [],
   "source": [
    "# X_train_reshaped/=255\n",
    "# X_test_reshaped/=255"
   ]
  },
  {
   "cell_type": "code",
   "execution_count": 22,
   "metadata": {},
   "outputs": [
    {
     "name": "stdout",
     "output_type": "stream",
     "text": [
      "Unexpected exception formatting exception. Falling back to standard exception\n"
     ]
    },
    {
     "name": "stderr",
     "output_type": "stream",
     "text": [
      "2024-03-19 20:48:42.090845: I tensorflow/stream_executor/platform/default/dso_loader.cc:53] Successfully opened dynamic library libcuda.so.1\n",
      "2024-03-19 20:48:42.395319: I tensorflow/stream_executor/cuda/cuda_gpu_executor.cc:923] could not open file to read NUMA node: /sys/bus/pci/devices/0000:01:00.0/numa_node\n",
      "Your kernel may have been built without NUMA support.\n",
      "2024-03-19 20:48:42.395544: I tensorflow/core/common_runtime/gpu/gpu_device.cc:1733] Found device 0 with properties: \n",
      "pciBusID: 0000:01:00.0 name: NVIDIA GeForce RTX 2070 with Max-Q Design computeCapability: 7.5\n",
      "coreClock: 1.125GHz coreCount: 36 deviceMemorySize: 8.00GiB deviceMemoryBandwidth: 322.46GiB/s\n",
      "2024-03-19 20:48:42.395719: W tensorflow/stream_executor/platform/default/dso_loader.cc:64] Could not load dynamic library 'libcudart.so.11.0'; dlerror: libcudart.so.11.0: cannot open shared object file: No such file or directory\n",
      "2024-03-19 20:48:42.395808: W tensorflow/stream_executor/platform/default/dso_loader.cc:64] Could not load dynamic library 'libcublas.so.11'; dlerror: libcublas.so.11: cannot open shared object file: No such file or directory\n",
      "2024-03-19 20:48:42.395863: W tensorflow/stream_executor/platform/default/dso_loader.cc:64] Could not load dynamic library 'libcublasLt.so.11'; dlerror: libcublasLt.so.11: cannot open shared object file: No such file or directory\n",
      "2024-03-19 20:48:42.395918: W tensorflow/stream_executor/platform/default/dso_loader.cc:64] Could not load dynamic library 'libcufft.so.10'; dlerror: libcufft.so.10: cannot open shared object file: No such file or directory\n",
      "2024-03-19 20:48:42.396010: W tensorflow/stream_executor/platform/default/dso_loader.cc:64] Could not load dynamic library 'libcurand.so.10'; dlerror: libcurand.so.10: cannot open shared object file: No such file or directory\n",
      "2024-03-19 20:48:42.396067: W tensorflow/stream_executor/platform/default/dso_loader.cc:64] Could not load dynamic library 'libcusolver.so.11'; dlerror: libcusolver.so.11: cannot open shared object file: No such file or directory\n",
      "2024-03-19 20:48:42.396122: W tensorflow/stream_executor/platform/default/dso_loader.cc:64] Could not load dynamic library 'libcusparse.so.11'; dlerror: libcusparse.so.11: cannot open shared object file: No such file or directory\n",
      "2024-03-19 20:48:42.396176: W tensorflow/stream_executor/platform/default/dso_loader.cc:64] Could not load dynamic library 'libcudnn.so.8'; dlerror: libcudnn.so.8: cannot open shared object file: No such file or directory\n",
      "2024-03-19 20:48:42.396215: W tensorflow/core/common_runtime/gpu/gpu_device.cc:1766] Cannot dlopen some GPU libraries. Please make sure the missing libraries mentioned above are installed properly if you would like to use GPU. Follow the guide at https://www.tensorflow.org/install/gpu for how to download and setup the required libraries for your platform.\n",
      "Skipping registering GPU devices...\n",
      "2024-03-19 20:48:42.398154: I tensorflow/core/platform/cpu_feature_guard.cc:142] This TensorFlow binary is optimized with oneAPI Deep Neural Network Library (oneDNN) to use the following CPU instructions in performance-critical operations:  AVX2 FMA\n",
      "To enable them in other operations, rebuild TensorFlow with the appropriate compiler flags.\n",
      "2024-03-19 20:48:42.403381: I tensorflow/core/common_runtime/gpu/gpu_device.cc:1258] Device interconnect StreamExecutor with strength 1 edge matrix:\n",
      "2024-03-19 20:48:42.403404: I tensorflow/core/common_runtime/gpu/gpu_device.cc:1264]      \n",
      "2024-03-19 20:48:42.450131: W tensorflow/core/framework/cpu_allocator_impl.cc:80] Allocation of 11620840000 exceeds 10% of free system memory.\n",
      "2024-03-19 20:48:42.450851: W tensorflow/core/framework/op_kernel.cc:1767] OP_REQUIRES failed at random_op.cc:74 : Resource exhausted: OOM when allocating tensor with shape[29052100,100] and type float on /job:localhost/replica:0/task:0/device:CPU:0 by allocator cpu\n",
      "Traceback (most recent call last):\n",
      "  File \"/home/jose/.local/lib/python3.8/site-packages/IPython/core/interactiveshell.py\", line 3508, in run_code\n",
      "    exec(code_obj, self.user_global_ns, self.user_ns)\n",
      "  File \"/tmp/ipykernel_37263/839939591.py\", line 6, in <module>\n",
      "    model.add(Dense(100, activation=\"relu\"))\n",
      "  File \"/home/jose/.local/lib/python3.8/site-packages/tensorflow/python/training/tracking/base.py\", line 522, in _method_wrapper\n",
      "    result = method(self, *args, **kwargs)\n",
      "  File \"/home/jose/.local/lib/python3.8/site-packages/tensorflow/python/keras/engine/sequential.py\", line 228, in add\n",
      "    output_tensor = layer(self.outputs[0])\n",
      "  File \"/home/jose/.local/lib/python3.8/site-packages/tensorflow/python/keras/engine/base_layer.py\", line 969, in __call__\n",
      "    return self._functional_construction_call(inputs, args, kwargs,\n",
      "  File \"/home/jose/.local/lib/python3.8/site-packages/tensorflow/python/keras/engine/base_layer.py\", line 1107, in _functional_construction_call\n",
      "    outputs = self._keras_tensor_symbolic_call(\n",
      "  File \"/home/jose/.local/lib/python3.8/site-packages/tensorflow/python/keras/engine/base_layer.py\", line 840, in _keras_tensor_symbolic_call\n",
      "    return self._infer_output_signature(inputs, args, kwargs, input_masks)\n",
      "  File \"/home/jose/.local/lib/python3.8/site-packages/tensorflow/python/keras/engine/base_layer.py\", line 878, in _infer_output_signature\n",
      "    self._maybe_build(inputs)\n",
      "  File \"/home/jose/.local/lib/python3.8/site-packages/tensorflow/python/keras/engine/base_layer.py\", line 2625, in _maybe_build\n",
      "    self.build(input_shapes)  # pylint:disable=not-callable\n",
      "  File \"/home/jose/.local/lib/python3.8/site-packages/tensorflow/python/keras/layers/core.py\", line 1191, in build\n",
      "    self.kernel = self.add_weight(\n",
      "  File \"/home/jose/.local/lib/python3.8/site-packages/tensorflow/python/keras/engine/base_layer.py\", line 639, in add_weight\n",
      "    variable = self._add_variable_with_custom_getter(\n",
      "  File \"/home/jose/.local/lib/python3.8/site-packages/tensorflow/python/training/tracking/base.py\", line 810, in _add_variable_with_custom_getter\n",
      "    new_variable = getter(\n",
      "  File \"/home/jose/.local/lib/python3.8/site-packages/tensorflow/python/keras/engine/base_layer_utils.py\", line 127, in make_variable\n",
      "    return tf_variables.VariableV1(\n",
      "  File \"/home/jose/.local/lib/python3.8/site-packages/tensorflow/python/ops/variables.py\", line 260, in __call__\n",
      "    return cls._variable_v1_call(*args, **kwargs)\n",
      "  File \"/home/jose/.local/lib/python3.8/site-packages/tensorflow/python/ops/variables.py\", line 206, in _variable_v1_call\n",
      "    return previous_getter(\n",
      "  File \"/home/jose/.local/lib/python3.8/site-packages/tensorflow/python/ops/variables.py\", line 199, in <lambda>\n",
      "    previous_getter = lambda **kwargs: default_variable_creator(None, **kwargs)\n",
      "  File \"/home/jose/.local/lib/python3.8/site-packages/tensorflow/python/ops/variable_scope.py\", line 2612, in default_variable_creator\n",
      "    return resource_variable_ops.ResourceVariable(\n",
      "  File \"/home/jose/.local/lib/python3.8/site-packages/tensorflow/python/ops/variables.py\", line 264, in __call__\n",
      "    return super(VariableMetaclass, cls).__call__(*args, **kwargs)\n",
      "  File \"/home/jose/.local/lib/python3.8/site-packages/tensorflow/python/ops/resource_variable_ops.py\", line 1584, in __init__\n",
      "    self._init_from_args(\n",
      "  File \"/home/jose/.local/lib/python3.8/site-packages/tensorflow/python/ops/resource_variable_ops.py\", line 1722, in _init_from_args\n",
      "    initial_value = initial_value()\n",
      "  File \"/home/jose/.local/lib/python3.8/site-packages/tensorflow/python/keras/initializers/initializers_v2.py\", line 523, in __call__\n",
      "    return self._random_generator.random_uniform(shape, -limit, limit, dtype)\n",
      "  File \"/home/jose/.local/lib/python3.8/site-packages/tensorflow/python/keras/initializers/initializers_v2.py\", line 978, in random_uniform\n",
      "    return op(\n",
      "  File \"/home/jose/.local/lib/python3.8/site-packages/tensorflow/python/util/dispatch.py\", line 206, in wrapper\n",
      "    return target(*args, **kwargs)\n",
      "  File \"/home/jose/.local/lib/python3.8/site-packages/tensorflow/python/ops/random_ops.py\", line 309, in random_uniform\n",
      "    result = gen_random_ops.random_uniform(\n",
      "  File \"/home/jose/.local/lib/python3.8/site-packages/tensorflow/python/ops/gen_random_ops.py\", line 721, in random_uniform\n",
      "    _ops.raise_from_not_ok_status(e, name)\n",
      "  File \"/home/jose/.local/lib/python3.8/site-packages/tensorflow/python/framework/ops.py\", line 6897, in raise_from_not_ok_status\n",
      "    six.raise_from(core._status_to_exception(e.code, message), None)\n",
      "  File \"<string>\", line 3, in raise_from\n",
      "tensorflow.python.framework.errors_impl.ResourceExhaustedError: OOM when allocating tensor with shape[29052100,100] and type float on /job:localhost/replica:0/task:0/device:CPU:0 by allocator cpu [Op:RandomUniform]\n",
      "\n",
      "During handling of the above exception, another exception occurred:\n",
      "\n",
      "Traceback (most recent call last):\n",
      "  File \"/home/jose/.local/lib/python3.8/site-packages/IPython/core/interactiveshell.py\", line 2105, in showtraceback\n",
      "    stb = self.InteractiveTB.structured_traceback(\n",
      "  File \"/home/jose/.local/lib/python3.8/site-packages/IPython/core/ultratb.py\", line 1396, in structured_traceback\n",
      "    return FormattedTB.structured_traceback(\n",
      "  File \"/home/jose/.local/lib/python3.8/site-packages/IPython/core/ultratb.py\", line 1287, in structured_traceback\n",
      "    return VerboseTB.structured_traceback(\n",
      "  File \"/home/jose/.local/lib/python3.8/site-packages/IPython/core/ultratb.py\", line 1140, in structured_traceback\n",
      "    formatted_exception = self.format_exception_as_a_whole(etype, evalue, etb, number_of_lines_of_context,\n",
      "  File \"/home/jose/.local/lib/python3.8/site-packages/IPython/core/ultratb.py\", line 1030, in format_exception_as_a_whole\n",
      "    self.get_records(etb, number_of_lines_of_context, tb_offset) if etb else []\n",
      "  File \"/home/jose/.local/lib/python3.8/site-packages/IPython/core/ultratb.py\", line 1082, in get_records\n",
      "    style = stack_data.style_with_executing_node(style, self._tb_highlight)\n",
      "  File \"/home/jose/.local/lib/python3.8/site-packages/stack_data/core.py\", line 455, in style_with_executing_node\n",
      "    class NewStyle(style):\n",
      "  File \"/usr/lib/python3/dist-packages/pygments/style.py\", line 91, in __new__\n",
      "    ndef[4] = colorformat(styledef[3:])\n",
      "  File \"/usr/lib/python3/dist-packages/pygments/style.py\", line 58, in colorformat\n",
      "    assert False, \"wrong color format %r\" % text\n",
      "AssertionError: wrong color format 'ansiyellow'\n"
     ]
    }
   ],
   "source": [
    "model = Sequential()\n",
    "model.add(Conv2D(25,kernel_size=(3,3),strides=(1,1),padding=\"valid\", activation=\"relu\", input_shape=(1080,1080,1)))\n",
    "model.add(MaxPool2D(pool_size=(1,1)))\n",
    "model.add(Flatten())\n",
    "\n",
    "model.add(Dense(100, activation=\"relu\"))\n",
    "model.add(Dense(10,activation=\"softmax\"))"
   ]
  },
  {
   "cell_type": "code",
   "execution_count": null,
   "metadata": {},
   "outputs": [],
   "source": [
    "model.compile(loss=\"categorical_crossentropy\", metrics=[\"accuracy\"], optimizer=\"adam\")"
   ]
  },
  {
   "cell_type": "code",
   "execution_count": null,
   "metadata": {},
   "outputs": [],
   "source": [
    "y_train.shape"
   ]
  },
  {
   "cell_type": "code",
   "execution_count": null,
   "metadata": {},
   "outputs": [],
   "source": [
    "z =np.(X_train)"
   ]
  },
  {
   "cell_type": "code",
   "execution_count": null,
   "metadata": {},
   "outputs": [],
   "source": [
    "x_train = np.asarray(X_train)\n",
    "Y_train = np.asarray(y_train)\n",
    "x_test = np.asarray(X_test)\n",
    "Y_test = np.asarray(y_test)"
   ]
  },
  {
   "cell_type": "code",
   "execution_count": null,
   "metadata": {},
   "outputs": [],
   "source": [
    "model.fit(x_train, Y_train, batch_size=14, epochs=10, validation_data=(x_test, Y_test))"
   ]
  },
  {
   "cell_type": "code",
   "execution_count": null,
   "metadata": {},
   "outputs": [],
   "source": []
  }
 ],
 "metadata": {
  "kernelspec": {
   "display_name": "Python 3 (ipykernel)",
   "language": "python",
   "name": "python3"
  },
  "language_info": {
   "codemirror_mode": {
    "name": "ipython",
    "version": 3
   },
   "file_extension": ".py",
   "mimetype": "text/x-python",
   "name": "python",
   "nbconvert_exporter": "python",
   "pygments_lexer": "ipython3",
   "version": "3.8.10"
  }
 },
 "nbformat": 4,
 "nbformat_minor": 5
}
