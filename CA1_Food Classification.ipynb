{
 "cells": [
  {
   "cell_type": "code",
   "execution_count": 1,
   "id": "b9d7d5e7",
   "metadata": {},
   "outputs": [
    {
     "data": {
      "text/html": [
       "\n",
       "        <div>\n",
       "            <p><b>SparkContext</b></p>\n",
       "\n",
       "            <p><a href=\"http://jose-VirtualBox.station:4040\">Spark UI</a></p>\n",
       "\n",
       "            <dl>\n",
       "              <dt>Version</dt>\n",
       "                <dd><code>v3.4.2</code></dd>\n",
       "              <dt>Master</dt>\n",
       "                <dd><code>local[*]</code></dd>\n",
       "              <dt>AppName</dt>\n",
       "                <dd><code>PySparkShell</code></dd>\n",
       "            </dl>\n",
       "        </div>\n",
       "        "
      ],
      "text/plain": [
       "<SparkContext master=local[*] appName=PySparkShell>"
      ]
     },
     "execution_count": 1,
     "metadata": {},
     "output_type": "execute_result"
    }
   ],
   "source": [
    "sc"
   ]
  },
  {
   "cell_type": "code",
   "execution_count": 2,
   "id": "82c725f7",
   "metadata": {},
   "outputs": [],
   "source": [
    "import pandas as pd\n",
    "import numpy as np\n",
    "from PIL import Image\n",
    "from io import BytesIO\n",
    "import re\n",
    "# import tensorflow as tf\n",
    "import cv2"
   ]
  },
  {
   "cell_type": "markdown",
   "id": "1ac38df3",
   "metadata": {},
   "source": [
    "I will use the functionality of Image Datasource of spark to collect and process images in bytes, and then start processing the images for the neural network"
   ]
  },
  {
   "cell_type": "code",
   "execution_count": 3,
   "id": "2678a34e",
   "metadata": {},
   "outputs": [],
   "source": [
    "images_folders = ['/CA1/Ireland','/CA1/Honduran']"
   ]
  },
  {
   "cell_type": "code",
   "execution_count": 4,
   "id": "66cf4c7a",
   "metadata": {},
   "outputs": [],
   "source": [
    "images_rdd = sc.binaryFiles(','.join(images_folders))"
   ]
  },
  {
   "cell_type": "code",
   "execution_count": 10,
   "id": "38c440f9",
   "metadata": {},
   "outputs": [],
   "source": [
    "def extract_data(data):\n",
    "    file_path, image_data = data\n",
    "#     image = Image.open(BytesIO(image_data))\n",
    "#     image_array = np.array(image)\n",
    "    \n",
    "    file_name = file_path.split('/')[-1]\n",
    "    file_name_without_ext = file_name.split(\".\")[0]\n",
    "    label,name = file_name_without_ext.split('_')[0], file_name_without_ext.split('_')[1]\n",
    "    \n",
    "    return name, label, image_data"
   ]
  },
  {
   "cell_type": "code",
   "execution_count": 11,
   "id": "0a744255",
   "metadata": {},
   "outputs": [],
   "source": [
    "imageDf = images_rdd.map(lambda x: extract_data(x)).toDF([\"Name\",\"Label\",\"Data\"])"
   ]
  },
  {
   "cell_type": "code",
   "execution_count": 13,
   "id": "62871235",
   "metadata": {},
   "outputs": [
    {
     "name": "stderr",
     "output_type": "stream",
     "text": [
      "Traceback (most recent call last):\n",
      "  File \"/usr/local/spark/python/lib/pyspark.zip/pyspark/daemon.py\", line 193, in manager\n",
      "  File \"/usr/local/spark/python/lib/pyspark.zip/pyspark/daemon.py\", line 74, in worker\n",
      "  File \"/usr/local/spark/python/lib/pyspark.zip/pyspark/worker.py\", line 874, in main\n",
      "    if read_int(infile) == SpecialLengths.END_OF_STREAM:\n",
      "  File \"/usr/local/spark/python/lib/pyspark.zip/pyspark/serializers.py\", line 596, in read_int\n",
      "    raise EOFError\n",
      "EOFError\n"
     ]
    },
    {
     "name": "stdout",
     "output_type": "stream",
     "text": [
      "+----+-------+--------------------+\n",
      "|Name|  Label|                Data|\n",
      "+----+-------+--------------------+\n",
      "| 001|Ireland|[FF D8 FF E0 00 1...|\n",
      "| 002|Ireland|[FF D8 FF E0 00 1...|\n",
      "| 003|Ireland|[FF D8 FF E0 00 1...|\n",
      "| 004|Ireland|[FF D8 FF E0 00 1...|\n",
      "| 005|Ireland|[FF D8 FF E0 00 1...|\n",
      "| 006|Ireland|[FF D8 FF E0 00 1...|\n",
      "| 007|Ireland|[FF D8 FF E0 00 1...|\n",
      "| 008|Ireland|[FF D8 FF E0 00 1...|\n",
      "| 009|Ireland|[FF D8 FF E0 00 1...|\n",
      "| 010|Ireland|[FF D8 FF E0 00 1...|\n",
      "| 011|Ireland|[FF D8 FF E0 00 1...|\n",
      "| 012|Ireland|[FF D8 FF E0 00 1...|\n",
      "| 013|Ireland|[FF D8 FF E0 00 1...|\n",
      "| 014|Ireland|[FF D8 FF E0 00 1...|\n",
      "| 015|Ireland|[FF D8 FF E0 00 1...|\n",
      "| 016|Ireland|[FF D8 FF E0 00 1...|\n",
      "| 017|Ireland|[FF D8 FF E0 00 1...|\n",
      "| 018|Ireland|[FF D8 FF E0 00 1...|\n",
      "| 019|Ireland|[FF D8 FF E0 00 1...|\n",
      "| 020|Ireland|[FF D8 FF E0 00 1...|\n",
      "+----+-------+--------------------+\n",
      "only showing top 20 rows\n",
      "\n"
     ]
    }
   ],
   "source": [
    "imageDf.show()"
   ]
  },
  {
   "cell_type": "code",
   "execution_count": 14,
   "id": "234caf5c",
   "metadata": {},
   "outputs": [
    {
     "name": "stderr",
     "output_type": "stream",
     "text": [
      "\r",
      "[Stage 6:>                                                          (0 + 1) / 1]\r",
      "\r",
      "                                                                                \r"
     ]
    }
   ],
   "source": [
    "pandasImagesDF = imageDf.toPandas()"
   ]
  },
  {
   "cell_type": "code",
   "execution_count": 28,
   "id": "1a5631f6",
   "metadata": {},
   "outputs": [],
   "source": [
    "def createNpArrayFromBytes(data):\n",
    "    imgbytes = BytesIO(data)\n",
    "    image = Image.open(imgbytes)\n",
    "    array = np.asarray(image)\n",
    "    return array"
   ]
  },
  {
   "cell_type": "code",
   "execution_count": 29,
   "id": "debca1b4",
   "metadata": {},
   "outputs": [],
   "source": [
    "pandasImagesDF[\"Data\"] = pandasImagesDF[\"Data\"].apply(lambda x: createNpArrayFromBytes(x))"
   ]
  },
  {
   "cell_type": "code",
   "execution_count": 30,
   "id": "f8d3369f",
   "metadata": {},
   "outputs": [
    {
     "data": {
      "text/html": [
       "<div>\n",
       "<style scoped>\n",
       "    .dataframe tbody tr th:only-of-type {\n",
       "        vertical-align: middle;\n",
       "    }\n",
       "\n",
       "    .dataframe tbody tr th {\n",
       "        vertical-align: top;\n",
       "    }\n",
       "\n",
       "    .dataframe thead th {\n",
       "        text-align: right;\n",
       "    }\n",
       "</style>\n",
       "<table border=\"1\" class=\"dataframe\">\n",
       "  <thead>\n",
       "    <tr style=\"text-align: right;\">\n",
       "      <th></th>\n",
       "      <th>Name</th>\n",
       "      <th>Label</th>\n",
       "      <th>Data</th>\n",
       "    </tr>\n",
       "  </thead>\n",
       "  <tbody>\n",
       "    <tr>\n",
       "      <th>0</th>\n",
       "      <td>001</td>\n",
       "      <td>Ireland</td>\n",
       "      <td>[[[204, 171, 128], [198, 165, 122], [192, 159,...</td>\n",
       "    </tr>\n",
       "    <tr>\n",
       "      <th>1</th>\n",
       "      <td>002</td>\n",
       "      <td>Ireland</td>\n",
       "      <td>[[[96, 124, 146], [96, 124, 146], [97, 125, 14...</td>\n",
       "    </tr>\n",
       "    <tr>\n",
       "      <th>2</th>\n",
       "      <td>003</td>\n",
       "      <td>Ireland</td>\n",
       "      <td>[[[131, 132, 137], [131, 132, 137], [131, 132,...</td>\n",
       "    </tr>\n",
       "    <tr>\n",
       "      <th>3</th>\n",
       "      <td>004</td>\n",
       "      <td>Ireland</td>\n",
       "      <td>[[[73, 27, 3], [81, 41, 16], [81, 54, 27], [68...</td>\n",
       "    </tr>\n",
       "    <tr>\n",
       "      <th>4</th>\n",
       "      <td>005</td>\n",
       "      <td>Ireland</td>\n",
       "      <td>[[[131, 141, 150], [191, 200, 205], [214, 219,...</td>\n",
       "    </tr>\n",
       "    <tr>\n",
       "      <th>5</th>\n",
       "      <td>006</td>\n",
       "      <td>Ireland</td>\n",
       "      <td>[[[76, 62, 49], [76, 62, 49], [78, 62, 49], [7...</td>\n",
       "    </tr>\n",
       "    <tr>\n",
       "      <th>6</th>\n",
       "      <td>007</td>\n",
       "      <td>Ireland</td>\n",
       "      <td>[[[193, 203, 202], [190, 200, 199], [200, 209,...</td>\n",
       "    </tr>\n",
       "    <tr>\n",
       "      <th>7</th>\n",
       "      <td>008</td>\n",
       "      <td>Ireland</td>\n",
       "      <td>[[[182, 134, 60], [182, 134, 60], [180, 132, 5...</td>\n",
       "    </tr>\n",
       "    <tr>\n",
       "      <th>8</th>\n",
       "      <td>009</td>\n",
       "      <td>Ireland</td>\n",
       "      <td>[[[243, 243, 243], [243, 243, 243], [243, 243,...</td>\n",
       "    </tr>\n",
       "    <tr>\n",
       "      <th>9</th>\n",
       "      <td>010</td>\n",
       "      <td>Ireland</td>\n",
       "      <td>[[[175, 148, 127], [175, 148, 127], [175, 150,...</td>\n",
       "    </tr>\n",
       "    <tr>\n",
       "      <th>10</th>\n",
       "      <td>011</td>\n",
       "      <td>Ireland</td>\n",
       "      <td>[[[255, 255, 255], [255, 255, 255], [255, 255,...</td>\n",
       "    </tr>\n",
       "    <tr>\n",
       "      <th>11</th>\n",
       "      <td>012</td>\n",
       "      <td>Ireland</td>\n",
       "      <td>[[[90, 123, 156], [90, 123, 156], [91, 122, 15...</td>\n",
       "    </tr>\n",
       "    <tr>\n",
       "      <th>12</th>\n",
       "      <td>013</td>\n",
       "      <td>Ireland</td>\n",
       "      <td>[[[255, 255, 255], [255, 255, 255], [255, 255,...</td>\n",
       "    </tr>\n",
       "    <tr>\n",
       "      <th>13</th>\n",
       "      <td>014</td>\n",
       "      <td>Ireland</td>\n",
       "      <td>[[[214, 220, 246], [217, 223, 249], [221, 227,...</td>\n",
       "    </tr>\n",
       "    <tr>\n",
       "      <th>14</th>\n",
       "      <td>015</td>\n",
       "      <td>Ireland</td>\n",
       "      <td>[[[228, 210, 206], [227, 210, 200], [223, 209,...</td>\n",
       "    </tr>\n",
       "    <tr>\n",
       "      <th>15</th>\n",
       "      <td>016</td>\n",
       "      <td>Ireland</td>\n",
       "      <td>[[[192, 181, 185], [194, 183, 187], [196, 185,...</td>\n",
       "    </tr>\n",
       "    <tr>\n",
       "      <th>16</th>\n",
       "      <td>017</td>\n",
       "      <td>Ireland</td>\n",
       "      <td>[[[150, 103, 61], [151, 104, 62], [152, 105, 6...</td>\n",
       "    </tr>\n",
       "    <tr>\n",
       "      <th>17</th>\n",
       "      <td>018</td>\n",
       "      <td>Ireland</td>\n",
       "      <td>[[[169, 155, 142], [148, 134, 121], [130, 116,...</td>\n",
       "    </tr>\n",
       "    <tr>\n",
       "      <th>18</th>\n",
       "      <td>019</td>\n",
       "      <td>Ireland</td>\n",
       "      <td>[[[7, 9, 22], [11, 13, 25], [8, 13, 19], [3, 8...</td>\n",
       "    </tr>\n",
       "    <tr>\n",
       "      <th>19</th>\n",
       "      <td>020</td>\n",
       "      <td>Ireland</td>\n",
       "      <td>[[[218, 201, 175], [212, 195, 169], [206, 189,...</td>\n",
       "    </tr>\n",
       "    <tr>\n",
       "      <th>20</th>\n",
       "      <td>001</td>\n",
       "      <td>Honduran</td>\n",
       "      <td>[[[37, 29, 16], [38, 29, 22], [38, 29, 34], [4...</td>\n",
       "    </tr>\n",
       "    <tr>\n",
       "      <th>21</th>\n",
       "      <td>002</td>\n",
       "      <td>Honduran</td>\n",
       "      <td>[[[37, 29, 16], [38, 29, 22], [38, 29, 34], [4...</td>\n",
       "    </tr>\n",
       "    <tr>\n",
       "      <th>22</th>\n",
       "      <td>003</td>\n",
       "      <td>Honduran</td>\n",
       "      <td>[[[239, 175, 113], [230, 166, 102], [224, 161,...</td>\n",
       "    </tr>\n",
       "    <tr>\n",
       "      <th>23</th>\n",
       "      <td>004</td>\n",
       "      <td>Honduran</td>\n",
       "      <td>[[[158, 172, 185], [157, 171, 184], [156, 170,...</td>\n",
       "    </tr>\n",
       "    <tr>\n",
       "      <th>24</th>\n",
       "      <td>005</td>\n",
       "      <td>Honduran</td>\n",
       "      <td>[[[164, 170, 186], [165, 171, 187], [166, 172,...</td>\n",
       "    </tr>\n",
       "    <tr>\n",
       "      <th>25</th>\n",
       "      <td>006</td>\n",
       "      <td>Honduran</td>\n",
       "      <td>[[[210, 73, 141], [195, 58, 126], [232, 93, 16...</td>\n",
       "    </tr>\n",
       "    <tr>\n",
       "      <th>26</th>\n",
       "      <td>007</td>\n",
       "      <td>Honduran</td>\n",
       "      <td>[[[98, 56, 34], [92, 50, 28], [105, 58, 38], [...</td>\n",
       "    </tr>\n",
       "    <tr>\n",
       "      <th>27</th>\n",
       "      <td>008</td>\n",
       "      <td>Honduran</td>\n",
       "      <td>[[[249, 199, 198], [249, 199, 198], [249, 199,...</td>\n",
       "    </tr>\n",
       "    <tr>\n",
       "      <th>28</th>\n",
       "      <td>009</td>\n",
       "      <td>Honduran</td>\n",
       "      <td>[[[217, 190, 145], [156, 129, 84], [108, 84, 3...</td>\n",
       "    </tr>\n",
       "    <tr>\n",
       "      <th>29</th>\n",
       "      <td>010</td>\n",
       "      <td>Honduran</td>\n",
       "      <td>[[[87, 60, 13], [115, 88, 41], [104, 77, 30], ...</td>\n",
       "    </tr>\n",
       "    <tr>\n",
       "      <th>30</th>\n",
       "      <td>011</td>\n",
       "      <td>Honduran</td>\n",
       "      <td>[[[200, 196, 187], [218, 214, 205], [235, 231,...</td>\n",
       "    </tr>\n",
       "    <tr>\n",
       "      <th>31</th>\n",
       "      <td>012</td>\n",
       "      <td>Honduran</td>\n",
       "      <td>[[[46, 52, 64], [46, 52, 64], [46, 52, 64], [4...</td>\n",
       "    </tr>\n",
       "    <tr>\n",
       "      <th>32</th>\n",
       "      <td>013</td>\n",
       "      <td>Honduran</td>\n",
       "      <td>[[[128, 28, 40], [132, 27, 41], [136, 25, 41],...</td>\n",
       "    </tr>\n",
       "    <tr>\n",
       "      <th>33</th>\n",
       "      <td>014</td>\n",
       "      <td>Honduran</td>\n",
       "      <td>[[[138, 153, 186], [138, 153, 186], [138, 153,...</td>\n",
       "    </tr>\n",
       "    <tr>\n",
       "      <th>34</th>\n",
       "      <td>015</td>\n",
       "      <td>Honduran</td>\n",
       "      <td>[[[219, 212, 202], [217, 210, 200], [214, 207,...</td>\n",
       "    </tr>\n",
       "    <tr>\n",
       "      <th>35</th>\n",
       "      <td>016</td>\n",
       "      <td>Honduran</td>\n",
       "      <td>[[[183, 192, 187], [183, 192, 187], [183, 192,...</td>\n",
       "    </tr>\n",
       "    <tr>\n",
       "      <th>36</th>\n",
       "      <td>017</td>\n",
       "      <td>Honduran</td>\n",
       "      <td>[[[49, 31, 17], [84, 66, 52], [106, 88, 74], [...</td>\n",
       "    </tr>\n",
       "    <tr>\n",
       "      <th>37</th>\n",
       "      <td>018</td>\n",
       "      <td>Honduran</td>\n",
       "      <td>[[[201, 220, 216], [201, 220, 218], [204, 218,...</td>\n",
       "    </tr>\n",
       "    <tr>\n",
       "      <th>38</th>\n",
       "      <td>019</td>\n",
       "      <td>Honduran</td>\n",
       "      <td>[[[69, 83, 109], [69, 83, 109], [68, 82, 108],...</td>\n",
       "    </tr>\n",
       "    <tr>\n",
       "      <th>39</th>\n",
       "      <td>020</td>\n",
       "      <td>Honduran</td>\n",
       "      <td>[[[114, 61, 21], [114, 61, 21], [116, 62, 24],...</td>\n",
       "    </tr>\n",
       "  </tbody>\n",
       "</table>\n",
       "</div>"
      ],
      "text/plain": [
       "   Name     Label                                               Data\n",
       "0   001   Ireland  [[[204, 171, 128], [198, 165, 122], [192, 159,...\n",
       "1   002   Ireland  [[[96, 124, 146], [96, 124, 146], [97, 125, 14...\n",
       "2   003   Ireland  [[[131, 132, 137], [131, 132, 137], [131, 132,...\n",
       "3   004   Ireland  [[[73, 27, 3], [81, 41, 16], [81, 54, 27], [68...\n",
       "4   005   Ireland  [[[131, 141, 150], [191, 200, 205], [214, 219,...\n",
       "5   006   Ireland  [[[76, 62, 49], [76, 62, 49], [78, 62, 49], [7...\n",
       "6   007   Ireland  [[[193, 203, 202], [190, 200, 199], [200, 209,...\n",
       "7   008   Ireland  [[[182, 134, 60], [182, 134, 60], [180, 132, 5...\n",
       "8   009   Ireland  [[[243, 243, 243], [243, 243, 243], [243, 243,...\n",
       "9   010   Ireland  [[[175, 148, 127], [175, 148, 127], [175, 150,...\n",
       "10  011   Ireland  [[[255, 255, 255], [255, 255, 255], [255, 255,...\n",
       "11  012   Ireland  [[[90, 123, 156], [90, 123, 156], [91, 122, 15...\n",
       "12  013   Ireland  [[[255, 255, 255], [255, 255, 255], [255, 255,...\n",
       "13  014   Ireland  [[[214, 220, 246], [217, 223, 249], [221, 227,...\n",
       "14  015   Ireland  [[[228, 210, 206], [227, 210, 200], [223, 209,...\n",
       "15  016   Ireland  [[[192, 181, 185], [194, 183, 187], [196, 185,...\n",
       "16  017   Ireland  [[[150, 103, 61], [151, 104, 62], [152, 105, 6...\n",
       "17  018   Ireland  [[[169, 155, 142], [148, 134, 121], [130, 116,...\n",
       "18  019   Ireland  [[[7, 9, 22], [11, 13, 25], [8, 13, 19], [3, 8...\n",
       "19  020   Ireland  [[[218, 201, 175], [212, 195, 169], [206, 189,...\n",
       "20  001  Honduran  [[[37, 29, 16], [38, 29, 22], [38, 29, 34], [4...\n",
       "21  002  Honduran  [[[37, 29, 16], [38, 29, 22], [38, 29, 34], [4...\n",
       "22  003  Honduran  [[[239, 175, 113], [230, 166, 102], [224, 161,...\n",
       "23  004  Honduran  [[[158, 172, 185], [157, 171, 184], [156, 170,...\n",
       "24  005  Honduran  [[[164, 170, 186], [165, 171, 187], [166, 172,...\n",
       "25  006  Honduran  [[[210, 73, 141], [195, 58, 126], [232, 93, 16...\n",
       "26  007  Honduran  [[[98, 56, 34], [92, 50, 28], [105, 58, 38], [...\n",
       "27  008  Honduran  [[[249, 199, 198], [249, 199, 198], [249, 199,...\n",
       "28  009  Honduran  [[[217, 190, 145], [156, 129, 84], [108, 84, 3...\n",
       "29  010  Honduran  [[[87, 60, 13], [115, 88, 41], [104, 77, 30], ...\n",
       "30  011  Honduran  [[[200, 196, 187], [218, 214, 205], [235, 231,...\n",
       "31  012  Honduran  [[[46, 52, 64], [46, 52, 64], [46, 52, 64], [4...\n",
       "32  013  Honduran  [[[128, 28, 40], [132, 27, 41], [136, 25, 41],...\n",
       "33  014  Honduran  [[[138, 153, 186], [138, 153, 186], [138, 153,...\n",
       "34  015  Honduran  [[[219, 212, 202], [217, 210, 200], [214, 207,...\n",
       "35  016  Honduran  [[[183, 192, 187], [183, 192, 187], [183, 192,...\n",
       "36  017  Honduran  [[[49, 31, 17], [84, 66, 52], [106, 88, 74], [...\n",
       "37  018  Honduran  [[[201, 220, 216], [201, 220, 218], [204, 218,...\n",
       "38  019  Honduran  [[[69, 83, 109], [69, 83, 109], [68, 82, 108],...\n",
       "39  020  Honduran  [[[114, 61, 21], [114, 61, 21], [116, 62, 24],..."
      ]
     },
     "execution_count": 30,
     "metadata": {},
     "output_type": "execute_result"
    }
   ],
   "source": [
    "pandasImagesDF"
   ]
  },
  {
   "cell_type": "markdown",
   "id": "1e57062c",
   "metadata": {},
   "source": [
    "Saving dataframe in a CSV, to not process the images each time I start the proyect"
   ]
  },
  {
   "cell_type": "code",
   "execution_count": null,
   "id": "688bd4b6",
   "metadata": {},
   "outputs": [],
   "source": [
    "pandasImagesDF.to_csv(\"./Dataset/images.csv\", index=False)"
   ]
  },
  {
   "cell_type": "markdown",
   "id": "f4feb36a",
   "metadata": {},
   "source": [
    "Read CSV saved in the project, to save time"
   ]
  },
  {
   "cell_type": "code",
   "execution_count": 123,
   "id": "71650a04",
   "metadata": {},
   "outputs": [],
   "source": [
    "pandasImagesDF = pd.read_csv(\"./Dataset/images.csv\")"
   ]
  },
  {
   "cell_type": "code",
   "execution_count": 124,
   "id": "18ac9420",
   "metadata": {},
   "outputs": [],
   "source": [
    "pandasImagesDF = pandasImagesDF.sort_values(by=[\"Name\"])"
   ]
  },
  {
   "cell_type": "code",
   "execution_count": 15,
   "id": "8d51a004",
   "metadata": {
    "scrolled": false
   },
   "outputs": [
    {
     "data": {
      "text/html": [
       "<div>\n",
       "<style scoped>\n",
       "    .dataframe tbody tr th:only-of-type {\n",
       "        vertical-align: middle;\n",
       "    }\n",
       "\n",
       "    .dataframe tbody tr th {\n",
       "        vertical-align: top;\n",
       "    }\n",
       "\n",
       "    .dataframe thead th {\n",
       "        text-align: right;\n",
       "    }\n",
       "</style>\n",
       "<table border=\"1\" class=\"dataframe\">\n",
       "  <thead>\n",
       "    <tr style=\"text-align: right;\">\n",
       "      <th></th>\n",
       "      <th>Name</th>\n",
       "      <th>Label</th>\n",
       "      <th>Data</th>\n",
       "    </tr>\n",
       "  </thead>\n",
       "  <tbody>\n",
       "    <tr>\n",
       "      <th>0</th>\n",
       "      <td>001</td>\n",
       "      <td>Ireland</td>\n",
       "      <td>[255, 216, 255, 224, 0, 16, 74, 70, 73, 70, 0,...</td>\n",
       "    </tr>\n",
       "    <tr>\n",
       "      <th>1</th>\n",
       "      <td>002</td>\n",
       "      <td>Ireland</td>\n",
       "      <td>[255, 216, 255, 224, 0, 16, 74, 70, 73, 70, 0,...</td>\n",
       "    </tr>\n",
       "    <tr>\n",
       "      <th>2</th>\n",
       "      <td>003</td>\n",
       "      <td>Ireland</td>\n",
       "      <td>[255, 216, 255, 224, 0, 16, 74, 70, 73, 70, 0,...</td>\n",
       "    </tr>\n",
       "    <tr>\n",
       "      <th>3</th>\n",
       "      <td>004</td>\n",
       "      <td>Ireland</td>\n",
       "      <td>[255, 216, 255, 224, 0, 16, 74, 70, 73, 70, 0,...</td>\n",
       "    </tr>\n",
       "    <tr>\n",
       "      <th>4</th>\n",
       "      <td>005</td>\n",
       "      <td>Ireland</td>\n",
       "      <td>[255, 216, 255, 224, 0, 16, 74, 70, 73, 70, 0,...</td>\n",
       "    </tr>\n",
       "    <tr>\n",
       "      <th>5</th>\n",
       "      <td>006</td>\n",
       "      <td>Ireland</td>\n",
       "      <td>[255, 216, 255, 224, 0, 16, 74, 70, 73, 70, 0,...</td>\n",
       "    </tr>\n",
       "    <tr>\n",
       "      <th>6</th>\n",
       "      <td>007</td>\n",
       "      <td>Ireland</td>\n",
       "      <td>[255, 216, 255, 224, 0, 16, 74, 70, 73, 70, 0,...</td>\n",
       "    </tr>\n",
       "    <tr>\n",
       "      <th>7</th>\n",
       "      <td>008</td>\n",
       "      <td>Ireland</td>\n",
       "      <td>[255, 216, 255, 224, 0, 16, 74, 70, 73, 70, 0,...</td>\n",
       "    </tr>\n",
       "    <tr>\n",
       "      <th>8</th>\n",
       "      <td>009</td>\n",
       "      <td>Ireland</td>\n",
       "      <td>[255, 216, 255, 224, 0, 16, 74, 70, 73, 70, 0,...</td>\n",
       "    </tr>\n",
       "    <tr>\n",
       "      <th>9</th>\n",
       "      <td>010</td>\n",
       "      <td>Ireland</td>\n",
       "      <td>[255, 216, 255, 224, 0, 16, 74, 70, 73, 70, 0,...</td>\n",
       "    </tr>\n",
       "    <tr>\n",
       "      <th>10</th>\n",
       "      <td>011</td>\n",
       "      <td>Ireland</td>\n",
       "      <td>[255, 216, 255, 224, 0, 16, 74, 70, 73, 70, 0,...</td>\n",
       "    </tr>\n",
       "    <tr>\n",
       "      <th>11</th>\n",
       "      <td>012</td>\n",
       "      <td>Ireland</td>\n",
       "      <td>[255, 216, 255, 224, 0, 16, 74, 70, 73, 70, 0,...</td>\n",
       "    </tr>\n",
       "    <tr>\n",
       "      <th>12</th>\n",
       "      <td>013</td>\n",
       "      <td>Ireland</td>\n",
       "      <td>[255, 216, 255, 224, 0, 16, 74, 70, 73, 70, 0,...</td>\n",
       "    </tr>\n",
       "    <tr>\n",
       "      <th>13</th>\n",
       "      <td>014</td>\n",
       "      <td>Ireland</td>\n",
       "      <td>[255, 216, 255, 224, 0, 16, 74, 70, 73, 70, 0,...</td>\n",
       "    </tr>\n",
       "    <tr>\n",
       "      <th>14</th>\n",
       "      <td>015</td>\n",
       "      <td>Ireland</td>\n",
       "      <td>[255, 216, 255, 224, 0, 16, 74, 70, 73, 70, 0,...</td>\n",
       "    </tr>\n",
       "    <tr>\n",
       "      <th>15</th>\n",
       "      <td>016</td>\n",
       "      <td>Ireland</td>\n",
       "      <td>[255, 216, 255, 224, 0, 16, 74, 70, 73, 70, 0,...</td>\n",
       "    </tr>\n",
       "    <tr>\n",
       "      <th>16</th>\n",
       "      <td>017</td>\n",
       "      <td>Ireland</td>\n",
       "      <td>[255, 216, 255, 224, 0, 16, 74, 70, 73, 70, 0,...</td>\n",
       "    </tr>\n",
       "    <tr>\n",
       "      <th>17</th>\n",
       "      <td>018</td>\n",
       "      <td>Ireland</td>\n",
       "      <td>[255, 216, 255, 224, 0, 16, 74, 70, 73, 70, 0,...</td>\n",
       "    </tr>\n",
       "    <tr>\n",
       "      <th>18</th>\n",
       "      <td>019</td>\n",
       "      <td>Ireland</td>\n",
       "      <td>[255, 216, 255, 224, 0, 16, 74, 70, 73, 70, 0,...</td>\n",
       "    </tr>\n",
       "    <tr>\n",
       "      <th>19</th>\n",
       "      <td>020</td>\n",
       "      <td>Ireland</td>\n",
       "      <td>[255, 216, 255, 224, 0, 16, 74, 70, 73, 70, 0,...</td>\n",
       "    </tr>\n",
       "    <tr>\n",
       "      <th>20</th>\n",
       "      <td>001</td>\n",
       "      <td>Honduran</td>\n",
       "      <td>[255, 216, 255, 224, 0, 16, 74, 70, 73, 70, 0,...</td>\n",
       "    </tr>\n",
       "    <tr>\n",
       "      <th>21</th>\n",
       "      <td>002</td>\n",
       "      <td>Honduran</td>\n",
       "      <td>[255, 216, 255, 224, 0, 16, 74, 70, 73, 70, 0,...</td>\n",
       "    </tr>\n",
       "    <tr>\n",
       "      <th>22</th>\n",
       "      <td>003</td>\n",
       "      <td>Honduran</td>\n",
       "      <td>[255, 216, 255, 224, 0, 16, 74, 70, 73, 70, 0,...</td>\n",
       "    </tr>\n",
       "    <tr>\n",
       "      <th>23</th>\n",
       "      <td>004</td>\n",
       "      <td>Honduran</td>\n",
       "      <td>[255, 216, 255, 224, 0, 16, 74, 70, 73, 70, 0,...</td>\n",
       "    </tr>\n",
       "    <tr>\n",
       "      <th>24</th>\n",
       "      <td>005</td>\n",
       "      <td>Honduran</td>\n",
       "      <td>[255, 216, 255, 224, 0, 16, 74, 70, 73, 70, 0,...</td>\n",
       "    </tr>\n",
       "    <tr>\n",
       "      <th>25</th>\n",
       "      <td>006</td>\n",
       "      <td>Honduran</td>\n",
       "      <td>[255, 216, 255, 224, 0, 16, 74, 70, 73, 70, 0,...</td>\n",
       "    </tr>\n",
       "    <tr>\n",
       "      <th>26</th>\n",
       "      <td>007</td>\n",
       "      <td>Honduran</td>\n",
       "      <td>[255, 216, 255, 224, 0, 16, 74, 70, 73, 70, 0,...</td>\n",
       "    </tr>\n",
       "    <tr>\n",
       "      <th>27</th>\n",
       "      <td>008</td>\n",
       "      <td>Honduran</td>\n",
       "      <td>[255, 216, 255, 224, 0, 16, 74, 70, 73, 70, 0,...</td>\n",
       "    </tr>\n",
       "    <tr>\n",
       "      <th>28</th>\n",
       "      <td>009</td>\n",
       "      <td>Honduran</td>\n",
       "      <td>[255, 216, 255, 224, 0, 16, 74, 70, 73, 70, 0,...</td>\n",
       "    </tr>\n",
       "    <tr>\n",
       "      <th>29</th>\n",
       "      <td>010</td>\n",
       "      <td>Honduran</td>\n",
       "      <td>[255, 216, 255, 224, 0, 16, 74, 70, 73, 70, 0,...</td>\n",
       "    </tr>\n",
       "    <tr>\n",
       "      <th>30</th>\n",
       "      <td>011</td>\n",
       "      <td>Honduran</td>\n",
       "      <td>[255, 216, 255, 224, 0, 16, 74, 70, 73, 70, 0,...</td>\n",
       "    </tr>\n",
       "    <tr>\n",
       "      <th>31</th>\n",
       "      <td>012</td>\n",
       "      <td>Honduran</td>\n",
       "      <td>[255, 216, 255, 224, 0, 16, 74, 70, 73, 70, 0,...</td>\n",
       "    </tr>\n",
       "    <tr>\n",
       "      <th>32</th>\n",
       "      <td>013</td>\n",
       "      <td>Honduran</td>\n",
       "      <td>[255, 216, 255, 224, 0, 16, 74, 70, 73, 70, 0,...</td>\n",
       "    </tr>\n",
       "    <tr>\n",
       "      <th>33</th>\n",
       "      <td>014</td>\n",
       "      <td>Honduran</td>\n",
       "      <td>[255, 216, 255, 224, 0, 16, 74, 70, 73, 70, 0,...</td>\n",
       "    </tr>\n",
       "    <tr>\n",
       "      <th>34</th>\n",
       "      <td>015</td>\n",
       "      <td>Honduran</td>\n",
       "      <td>[255, 216, 255, 224, 0, 16, 74, 70, 73, 70, 0,...</td>\n",
       "    </tr>\n",
       "    <tr>\n",
       "      <th>35</th>\n",
       "      <td>016</td>\n",
       "      <td>Honduran</td>\n",
       "      <td>[255, 216, 255, 224, 0, 16, 74, 70, 73, 70, 0,...</td>\n",
       "    </tr>\n",
       "    <tr>\n",
       "      <th>36</th>\n",
       "      <td>017</td>\n",
       "      <td>Honduran</td>\n",
       "      <td>[255, 216, 255, 224, 0, 16, 74, 70, 73, 70, 0,...</td>\n",
       "    </tr>\n",
       "    <tr>\n",
       "      <th>37</th>\n",
       "      <td>018</td>\n",
       "      <td>Honduran</td>\n",
       "      <td>[255, 216, 255, 224, 0, 16, 74, 70, 73, 70, 0,...</td>\n",
       "    </tr>\n",
       "    <tr>\n",
       "      <th>38</th>\n",
       "      <td>019</td>\n",
       "      <td>Honduran</td>\n",
       "      <td>[255, 216, 255, 224, 0, 16, 74, 70, 73, 70, 0,...</td>\n",
       "    </tr>\n",
       "    <tr>\n",
       "      <th>39</th>\n",
       "      <td>020</td>\n",
       "      <td>Honduran</td>\n",
       "      <td>[255, 216, 255, 224, 0, 16, 74, 70, 73, 70, 0,...</td>\n",
       "    </tr>\n",
       "  </tbody>\n",
       "</table>\n",
       "</div>"
      ],
      "text/plain": [
       "   Name     Label                                               Data\n",
       "0   001   Ireland  [255, 216, 255, 224, 0, 16, 74, 70, 73, 70, 0,...\n",
       "1   002   Ireland  [255, 216, 255, 224, 0, 16, 74, 70, 73, 70, 0,...\n",
       "2   003   Ireland  [255, 216, 255, 224, 0, 16, 74, 70, 73, 70, 0,...\n",
       "3   004   Ireland  [255, 216, 255, 224, 0, 16, 74, 70, 73, 70, 0,...\n",
       "4   005   Ireland  [255, 216, 255, 224, 0, 16, 74, 70, 73, 70, 0,...\n",
       "5   006   Ireland  [255, 216, 255, 224, 0, 16, 74, 70, 73, 70, 0,...\n",
       "6   007   Ireland  [255, 216, 255, 224, 0, 16, 74, 70, 73, 70, 0,...\n",
       "7   008   Ireland  [255, 216, 255, 224, 0, 16, 74, 70, 73, 70, 0,...\n",
       "8   009   Ireland  [255, 216, 255, 224, 0, 16, 74, 70, 73, 70, 0,...\n",
       "9   010   Ireland  [255, 216, 255, 224, 0, 16, 74, 70, 73, 70, 0,...\n",
       "10  011   Ireland  [255, 216, 255, 224, 0, 16, 74, 70, 73, 70, 0,...\n",
       "11  012   Ireland  [255, 216, 255, 224, 0, 16, 74, 70, 73, 70, 0,...\n",
       "12  013   Ireland  [255, 216, 255, 224, 0, 16, 74, 70, 73, 70, 0,...\n",
       "13  014   Ireland  [255, 216, 255, 224, 0, 16, 74, 70, 73, 70, 0,...\n",
       "14  015   Ireland  [255, 216, 255, 224, 0, 16, 74, 70, 73, 70, 0,...\n",
       "15  016   Ireland  [255, 216, 255, 224, 0, 16, 74, 70, 73, 70, 0,...\n",
       "16  017   Ireland  [255, 216, 255, 224, 0, 16, 74, 70, 73, 70, 0,...\n",
       "17  018   Ireland  [255, 216, 255, 224, 0, 16, 74, 70, 73, 70, 0,...\n",
       "18  019   Ireland  [255, 216, 255, 224, 0, 16, 74, 70, 73, 70, 0,...\n",
       "19  020   Ireland  [255, 216, 255, 224, 0, 16, 74, 70, 73, 70, 0,...\n",
       "20  001  Honduran  [255, 216, 255, 224, 0, 16, 74, 70, 73, 70, 0,...\n",
       "21  002  Honduran  [255, 216, 255, 224, 0, 16, 74, 70, 73, 70, 0,...\n",
       "22  003  Honduran  [255, 216, 255, 224, 0, 16, 74, 70, 73, 70, 0,...\n",
       "23  004  Honduran  [255, 216, 255, 224, 0, 16, 74, 70, 73, 70, 0,...\n",
       "24  005  Honduran  [255, 216, 255, 224, 0, 16, 74, 70, 73, 70, 0,...\n",
       "25  006  Honduran  [255, 216, 255, 224, 0, 16, 74, 70, 73, 70, 0,...\n",
       "26  007  Honduran  [255, 216, 255, 224, 0, 16, 74, 70, 73, 70, 0,...\n",
       "27  008  Honduran  [255, 216, 255, 224, 0, 16, 74, 70, 73, 70, 0,...\n",
       "28  009  Honduran  [255, 216, 255, 224, 0, 16, 74, 70, 73, 70, 0,...\n",
       "29  010  Honduran  [255, 216, 255, 224, 0, 16, 74, 70, 73, 70, 0,...\n",
       "30  011  Honduran  [255, 216, 255, 224, 0, 16, 74, 70, 73, 70, 0,...\n",
       "31  012  Honduran  [255, 216, 255, 224, 0, 16, 74, 70, 73, 70, 0,...\n",
       "32  013  Honduran  [255, 216, 255, 224, 0, 16, 74, 70, 73, 70, 0,...\n",
       "33  014  Honduran  [255, 216, 255, 224, 0, 16, 74, 70, 73, 70, 0,...\n",
       "34  015  Honduran  [255, 216, 255, 224, 0, 16, 74, 70, 73, 70, 0,...\n",
       "35  016  Honduran  [255, 216, 255, 224, 0, 16, 74, 70, 73, 70, 0,...\n",
       "36  017  Honduran  [255, 216, 255, 224, 0, 16, 74, 70, 73, 70, 0,...\n",
       "37  018  Honduran  [255, 216, 255, 224, 0, 16, 74, 70, 73, 70, 0,...\n",
       "38  019  Honduran  [255, 216, 255, 224, 0, 16, 74, 70, 73, 70, 0,...\n",
       "39  020  Honduran  [255, 216, 255, 224, 0, 16, 74, 70, 73, 70, 0,..."
      ]
     },
     "execution_count": 15,
     "metadata": {},
     "output_type": "execute_result"
    }
   ],
   "source": [
    "pandasImagesDF"
   ]
  },
  {
   "cell_type": "code",
   "execution_count": 128,
   "id": "8d5a3908",
   "metadata": {},
   "outputs": [],
   "source": [
    "def convert_string_to_np(string_repr):\n",
    "    # Extract hexadecimal values from the string representation\n",
    "    hex_values = re.findall(r'\\\\x([0-9a-fA-F]{2})', string_repr)\n",
    "    # Convert hexadecimal values to bytes\n",
    "    byte_data = bytes.fromhex(''.join(hex_values))\n",
    "    # Convert bytes to NumPy array\n",
    "    np_array = np.frombuffer(byte_data, dtype=np.uint8)\n",
    "    return np_array"
   ]
  },
  {
   "cell_type": "code",
   "execution_count": 129,
   "id": "2bf3adf4",
   "metadata": {
    "scrolled": true
   },
   "outputs": [],
   "source": [
    "pandasImagesDF[\"Data\"] = pandasImagesDF[\"Data\"].apply(convert_string_to_np)"
   ]
  },
  {
   "cell_type": "code",
   "execution_count": 130,
   "id": "06ca41b5",
   "metadata": {},
   "outputs": [],
   "source": [
    "pandasImagesDF[\"Data\"] = pandasImagesDF[\"Data\"].map(lambda x: x.astype(\"float32\")) "
   ]
  },
  {
   "cell_type": "code",
   "execution_count": 132,
   "id": "cda56da0",
   "metadata": {},
   "outputs": [],
   "source": [
    "import matplotlib.pyplot as plt\n",
    "import matplotlib.image as mpimg\n",
    "import io"
   ]
  },
  {
   "cell_type": "code",
   "execution_count": 17,
   "id": "9714ffc1",
   "metadata": {},
   "outputs": [
    {
     "data": {
      "text/plain": [
       "7256"
      ]
     },
     "execution_count": 17,
     "metadata": {},
     "output_type": "execute_result"
    }
   ],
   "source": [
    "len(pandasImagesDF[\"Data\"][19])"
   ]
  },
  {
   "cell_type": "code",
   "execution_count": 18,
   "id": "45dff2d1",
   "metadata": {},
   "outputs": [
    {
     "ename": "ValueError",
     "evalue": "cannot reshape array of size 8385 into shape (255,225)",
     "output_type": "error",
     "traceback": [
      "\u001b[0;31m---------------------------------------------------------------------------\u001b[0m",
      "\u001b[0;31mValueError\u001b[0m                                Traceback (most recent call last)",
      "\u001b[0;32m/tmp/ipykernel_7041/1843304656.py\u001b[0m in \u001b[0;36m<module>\u001b[0;34m\u001b[0m\n\u001b[1;32m      7\u001b[0m \u001b[0;34m\u001b[0m\u001b[0m\n\u001b[1;32m      8\u001b[0m \u001b[0;31m# Reshape the array to match the dimensions of the image\u001b[0m\u001b[0;34m\u001b[0m\u001b[0;34m\u001b[0m\u001b[0m\n\u001b[0;32m----> 9\u001b[0;31m \u001b[0mimage_data\u001b[0m \u001b[0;34m=\u001b[0m \u001b[0mimage_data\u001b[0m\u001b[0;34m.\u001b[0m\u001b[0mreshape\u001b[0m\u001b[0;34m(\u001b[0m\u001b[0;34m(\u001b[0m\u001b[0mheight\u001b[0m\u001b[0;34m,\u001b[0m \u001b[0mwidth\u001b[0m\u001b[0;34m)\u001b[0m\u001b[0;34m)\u001b[0m\u001b[0;34m\u001b[0m\u001b[0;34m\u001b[0m\u001b[0m\n\u001b[0m\u001b[1;32m     10\u001b[0m \u001b[0;34m\u001b[0m\u001b[0m\n\u001b[1;32m     11\u001b[0m \u001b[0;31m# Create an image from the byte array\u001b[0m\u001b[0;34m\u001b[0m\u001b[0;34m\u001b[0m\u001b[0m\n",
      "\u001b[0;31mValueError\u001b[0m: cannot reshape array of size 8385 into shape (255,225)"
     ]
    }
   ],
   "source": [
    "# Determine the dimensions of the image\n",
    "width =  225\n",
    "height =  255\n",
    "\n",
    "# Convert the byte array to a numpy array of uint8 data type\n",
    "image_data = np.array(pandasImagesDF[\"Data\"][0], dtype=np.float32)\n",
    "\n",
    "# Reshape the array to match the dimensions of the image\n",
    "image_data = image_data.reshape((height, width))\n",
    "\n",
    "# Create an image from the byte array\n",
    "image = Image.fromarray(image_data)\n",
    "\n",
    "# Display the image\n",
    "image.show()"
   ]
  },
  {
   "cell_type": "code",
   "execution_count": 26,
   "id": "2fd112c3",
   "metadata": {},
   "outputs": [],
   "source": []
  },
  {
   "cell_type": "code",
   "execution_count": 27,
   "id": "b74ea8f9",
   "metadata": {},
   "outputs": [
    {
     "data": {
      "text/plain": [
       "array([[[131, 141, 150],\n",
       "        [191, 200, 205],\n",
       "        [214, 219, 222],\n",
       "        ...,\n",
       "        [163, 167, 170],\n",
       "        [167, 171, 174],\n",
       "        [170, 176, 176]],\n",
       "\n",
       "       [[129, 139, 148],\n",
       "        [187, 196, 201],\n",
       "        [211, 216, 219],\n",
       "        ...,\n",
       "        [188, 192, 195],\n",
       "        [190, 194, 197],\n",
       "        [201, 207, 207]],\n",
       "\n",
       "       [[124, 134, 143],\n",
       "        [181, 190, 195],\n",
       "        [206, 211, 214],\n",
       "        ...,\n",
       "        [204, 209, 212],\n",
       "        [206, 211, 214],\n",
       "        [203, 209, 209]],\n",
       "\n",
       "       ...,\n",
       "\n",
       "       [[ 55,  62,  68],\n",
       "        [ 54,  61,  67],\n",
       "        [ 52,  59,  65],\n",
       "        ...,\n",
       "        [219, 223, 224],\n",
       "        [206, 211, 207],\n",
       "        [212, 219, 212]],\n",
       "\n",
       "       [[ 45,  52,  60],\n",
       "        [ 44,  51,  59],\n",
       "        [ 44,  51,  59],\n",
       "        ...,\n",
       "        [217, 221, 220],\n",
       "        [207, 212, 208],\n",
       "        [207, 213, 209]],\n",
       "\n",
       "       [[ 49,  56,  66],\n",
       "        [ 49,  56,  66],\n",
       "        [ 48,  55,  65],\n",
       "        ...,\n",
       "        [207, 213, 209],\n",
       "        [216, 221, 217],\n",
       "        [210, 216, 212]]], dtype=uint8)"
      ]
     },
     "execution_count": 27,
     "metadata": {},
     "output_type": "execute_result"
    }
   ],
   "source": [
    "array"
   ]
  },
  {
   "cell_type": "code",
   "execution_count": 83,
   "id": "e129ee57",
   "metadata": {},
   "outputs": [],
   "source": [
    "IMG_SIZE = 200"
   ]
  },
  {
   "cell_type": "code",
   "execution_count": 103,
   "id": "98f26965",
   "metadata": {},
   "outputs": [],
   "source": [
    "image_array = pandasImagesDF[\"Data\"]"
   ]
  },
  {
   "cell_type": "code",
   "execution_count": 99,
   "id": "2f548619",
   "metadata": {},
   "outputs": [
    {
     "data": {
      "text/plain": [
       "array([255., 216., 255., ..., 159., 255., 217.], dtype=float32)"
      ]
     },
     "execution_count": 99,
     "metadata": {},
     "output_type": "execute_result"
    }
   ],
   "source": [
    "image_array[0]"
   ]
  },
  {
   "cell_type": "code",
   "execution_count": 96,
   "id": "8794b783",
   "metadata": {},
   "outputs": [
    {
     "name": "stderr",
     "output_type": "stream",
     "text": [
      "C:\\Users\\josed\\anaconda3\\Lib\\site-packages\\paramiko\\transport.py:219: CryptographyDeprecationWarning: Blowfish has been deprecated\n",
      "  \"class\": algorithms.Blowfish,\n"
     ]
    }
   ],
   "source": [
    "from skimage.transform import resize"
   ]
  },
  {
   "cell_type": "code",
   "execution_count": 100,
   "id": "04446d0e",
   "metadata": {},
   "outputs": [],
   "source": [
    "new_array = image_array.map(lambda x: resize(x, (IMG_SIZE, IMG_SIZE)))"
   ]
  },
  {
   "cell_type": "code",
   "execution_count": 101,
   "id": "ee3ca769",
   "metadata": {
    "scrolled": false
   },
   "outputs": [
    {
     "data": {
      "text/plain": [
       "0     [[57.46317, 57.46317, 57.46317, 57.46317, 57.4...\n",
       "20    [[57.43858, 57.43858, 57.43858, 57.43858, 57.4...\n",
       "1     [[48.849857, 48.849857, 48.849857, 48.849857, ...\n",
       "21    [[57.43858, 57.43858, 57.43858, 57.43858, 57.4...\n",
       "2     [[50.83171, 50.83171, 50.83171, 50.83171, 50.8...\n",
       "22    [[53.8938, 53.8938, 53.8938, 53.8938, 53.8938,...\n",
       "3     [[58.973255, 58.973255, 58.973255, 58.973255, ...\n",
       "23    [[50.05408, 50.05408, 50.05408, 50.05408, 50.0...\n",
       "4     [[53.44515, 53.44515, 53.44515, 53.44515, 53.4...\n",
       "24    [[51.762096, 51.762096, 51.762096, 51.762096, ...\n",
       "25    [[47.84168, 47.84168, 47.84168, 47.84168, 47.8...\n",
       "5     [[59.15576, 59.15576, 59.15576, 59.15576, 59.1...\n",
       "26    [[46.880054, 46.880054, 46.880054, 46.880054, ...\n",
       "6     [[64.717834, 64.717834, 64.717834, 64.717834, ...\n",
       "27    [[49.20877, 49.20877, 49.20877, 49.20877, 49.2...\n",
       "7     [[60.828278, 60.828278, 60.828278, 60.828278, ...\n",
       "28    [[47.30466, 47.30466, 47.30466, 47.30466, 47.3...\n",
       "8     [[52.79342, 52.79342, 52.79342, 52.79342, 52.7...\n",
       "9     [[49.888065, 49.888065, 49.888065, 49.888065, ...\n",
       "29    [[50.737907, 50.737907, 50.737907, 50.737907, ...\n",
       "30    [[48.849045, 48.849045, 48.849045, 48.849045, ...\n",
       "10    [[49.393105, 49.393105, 49.393105, 49.393105, ...\n",
       "11    [[56.339993, 56.339993, 56.339993, 56.339993, ...\n",
       "31    [[54.307484, 54.307484, 54.307484, 54.307484, ...\n",
       "32    [[54.23032, 54.23032, 54.23032, 54.23032, 54.2...\n",
       "12    [[56.065205, 56.065205, 56.065205, 56.065205, ...\n",
       "33    [[56.918114, 56.918114, 56.918114, 56.918114, ...\n",
       "13    [[53.616287, 53.616287, 53.616287, 53.616287, ...\n",
       "14    [[58.747784, 58.747784, 58.747784, 58.747784, ...\n",
       "34    [[52.569695, 52.569695, 52.569695, 52.569695, ...\n",
       "35    [[51.749615, 51.749615, 51.749615, 51.749615, ...\n",
       "15    [[52.27554, 52.27554, 52.27554, 52.27554, 52.2...\n",
       "36    [[50.092094, 50.092094, 50.092094, 50.092094, ...\n",
       "16    [[48.32537, 48.32537, 48.32537, 48.32537, 48.3...\n",
       "37    [[52.551857, 52.551857, 52.551857, 52.551857, ...\n",
       "17    [[51.236942, 51.236942, 51.236942, 51.236942, ...\n",
       "38    [[59.751133, 59.751133, 59.751133, 59.751133, ...\n",
       "18    [[63.9847, 63.9847, 63.9847, 63.9847, 63.9847,...\n",
       "19    [[61.094154, 61.094154, 61.094154, 61.094154, ...\n",
       "39    [[46.165474, 46.165474, 46.165474, 46.165474, ...\n",
       "Name: Data, dtype: object"
      ]
     },
     "execution_count": 101,
     "metadata": {},
     "output_type": "execute_result"
    }
   ],
   "source": [
    "new_array"
   ]
  },
  {
   "cell_type": "code",
   "execution_count": 104,
   "id": "96d91715",
   "metadata": {},
   "outputs": [
    {
     "ename": "TypeError",
     "evalue": "Invalid shape (5176,) for image data",
     "output_type": "error",
     "traceback": [
      "\u001b[1;31m---------------------------------------------------------------------------\u001b[0m",
      "\u001b[1;31mTypeError\u001b[0m                                 Traceback (most recent call last)",
      "Cell \u001b[1;32mIn[104], line 2\u001b[0m\n\u001b[0;32m      1\u001b[0m \u001b[38;5;28;01mfrom\u001b[39;00m \u001b[38;5;21;01mmatplotlib\u001b[39;00m \u001b[38;5;28;01mimport\u001b[39;00m pyplot \u001b[38;5;28;01mas\u001b[39;00m plt\n\u001b[1;32m----> 2\u001b[0m plt\u001b[38;5;241m.\u001b[39mimshow(image_array[\u001b[38;5;241m0\u001b[39m], interpolation\u001b[38;5;241m=\u001b[39m\u001b[38;5;124m'\u001b[39m\u001b[38;5;124mnearest\u001b[39m\u001b[38;5;124m'\u001b[39m)\n\u001b[0;32m      3\u001b[0m plt\u001b[38;5;241m.\u001b[39mshow()\n",
      "File \u001b[1;32m~\\anaconda3\\Lib\\site-packages\\matplotlib\\pyplot.py:2695\u001b[0m, in \u001b[0;36mimshow\u001b[1;34m(X, cmap, norm, aspect, interpolation, alpha, vmin, vmax, origin, extent, interpolation_stage, filternorm, filterrad, resample, url, data, **kwargs)\u001b[0m\n\u001b[0;32m   2689\u001b[0m \u001b[38;5;129m@_copy_docstring_and_deprecators\u001b[39m(Axes\u001b[38;5;241m.\u001b[39mimshow)\n\u001b[0;32m   2690\u001b[0m \u001b[38;5;28;01mdef\u001b[39;00m \u001b[38;5;21mimshow\u001b[39m(\n\u001b[0;32m   2691\u001b[0m         X, cmap\u001b[38;5;241m=\u001b[39m\u001b[38;5;28;01mNone\u001b[39;00m, norm\u001b[38;5;241m=\u001b[39m\u001b[38;5;28;01mNone\u001b[39;00m, \u001b[38;5;241m*\u001b[39m, aspect\u001b[38;5;241m=\u001b[39m\u001b[38;5;28;01mNone\u001b[39;00m, interpolation\u001b[38;5;241m=\u001b[39m\u001b[38;5;28;01mNone\u001b[39;00m,\n\u001b[0;32m   2692\u001b[0m         alpha\u001b[38;5;241m=\u001b[39m\u001b[38;5;28;01mNone\u001b[39;00m, vmin\u001b[38;5;241m=\u001b[39m\u001b[38;5;28;01mNone\u001b[39;00m, vmax\u001b[38;5;241m=\u001b[39m\u001b[38;5;28;01mNone\u001b[39;00m, origin\u001b[38;5;241m=\u001b[39m\u001b[38;5;28;01mNone\u001b[39;00m, extent\u001b[38;5;241m=\u001b[39m\u001b[38;5;28;01mNone\u001b[39;00m,\n\u001b[0;32m   2693\u001b[0m         interpolation_stage\u001b[38;5;241m=\u001b[39m\u001b[38;5;28;01mNone\u001b[39;00m, filternorm\u001b[38;5;241m=\u001b[39m\u001b[38;5;28;01mTrue\u001b[39;00m, filterrad\u001b[38;5;241m=\u001b[39m\u001b[38;5;241m4.0\u001b[39m,\n\u001b[0;32m   2694\u001b[0m         resample\u001b[38;5;241m=\u001b[39m\u001b[38;5;28;01mNone\u001b[39;00m, url\u001b[38;5;241m=\u001b[39m\u001b[38;5;28;01mNone\u001b[39;00m, data\u001b[38;5;241m=\u001b[39m\u001b[38;5;28;01mNone\u001b[39;00m, \u001b[38;5;241m*\u001b[39m\u001b[38;5;241m*\u001b[39mkwargs):\n\u001b[1;32m-> 2695\u001b[0m     __ret \u001b[38;5;241m=\u001b[39m gca()\u001b[38;5;241m.\u001b[39mimshow(\n\u001b[0;32m   2696\u001b[0m         X, cmap\u001b[38;5;241m=\u001b[39mcmap, norm\u001b[38;5;241m=\u001b[39mnorm, aspect\u001b[38;5;241m=\u001b[39maspect,\n\u001b[0;32m   2697\u001b[0m         interpolation\u001b[38;5;241m=\u001b[39minterpolation, alpha\u001b[38;5;241m=\u001b[39malpha, vmin\u001b[38;5;241m=\u001b[39mvmin,\n\u001b[0;32m   2698\u001b[0m         vmax\u001b[38;5;241m=\u001b[39mvmax, origin\u001b[38;5;241m=\u001b[39morigin, extent\u001b[38;5;241m=\u001b[39mextent,\n\u001b[0;32m   2699\u001b[0m         interpolation_stage\u001b[38;5;241m=\u001b[39minterpolation_stage,\n\u001b[0;32m   2700\u001b[0m         filternorm\u001b[38;5;241m=\u001b[39mfilternorm, filterrad\u001b[38;5;241m=\u001b[39mfilterrad, resample\u001b[38;5;241m=\u001b[39mresample,\n\u001b[0;32m   2701\u001b[0m         url\u001b[38;5;241m=\u001b[39murl, \u001b[38;5;241m*\u001b[39m\u001b[38;5;241m*\u001b[39m({\u001b[38;5;124m\"\u001b[39m\u001b[38;5;124mdata\u001b[39m\u001b[38;5;124m\"\u001b[39m: data} \u001b[38;5;28;01mif\u001b[39;00m data \u001b[38;5;129;01mis\u001b[39;00m \u001b[38;5;129;01mnot\u001b[39;00m \u001b[38;5;28;01mNone\u001b[39;00m \u001b[38;5;28;01melse\u001b[39;00m {}),\n\u001b[0;32m   2702\u001b[0m         \u001b[38;5;241m*\u001b[39m\u001b[38;5;241m*\u001b[39mkwargs)\n\u001b[0;32m   2703\u001b[0m     sci(__ret)\n\u001b[0;32m   2704\u001b[0m     \u001b[38;5;28;01mreturn\u001b[39;00m __ret\n",
      "File \u001b[1;32m~\\anaconda3\\Lib\\site-packages\\matplotlib\\__init__.py:1442\u001b[0m, in \u001b[0;36m_preprocess_data.<locals>.inner\u001b[1;34m(ax, data, *args, **kwargs)\u001b[0m\n\u001b[0;32m   1439\u001b[0m \u001b[38;5;129m@functools\u001b[39m\u001b[38;5;241m.\u001b[39mwraps(func)\n\u001b[0;32m   1440\u001b[0m \u001b[38;5;28;01mdef\u001b[39;00m \u001b[38;5;21minner\u001b[39m(ax, \u001b[38;5;241m*\u001b[39margs, data\u001b[38;5;241m=\u001b[39m\u001b[38;5;28;01mNone\u001b[39;00m, \u001b[38;5;241m*\u001b[39m\u001b[38;5;241m*\u001b[39mkwargs):\n\u001b[0;32m   1441\u001b[0m     \u001b[38;5;28;01mif\u001b[39;00m data \u001b[38;5;129;01mis\u001b[39;00m \u001b[38;5;28;01mNone\u001b[39;00m:\n\u001b[1;32m-> 1442\u001b[0m         \u001b[38;5;28;01mreturn\u001b[39;00m func(ax, \u001b[38;5;241m*\u001b[39m\u001b[38;5;28mmap\u001b[39m(sanitize_sequence, args), \u001b[38;5;241m*\u001b[39m\u001b[38;5;241m*\u001b[39mkwargs)\n\u001b[0;32m   1444\u001b[0m     bound \u001b[38;5;241m=\u001b[39m new_sig\u001b[38;5;241m.\u001b[39mbind(ax, \u001b[38;5;241m*\u001b[39margs, \u001b[38;5;241m*\u001b[39m\u001b[38;5;241m*\u001b[39mkwargs)\n\u001b[0;32m   1445\u001b[0m     auto_label \u001b[38;5;241m=\u001b[39m (bound\u001b[38;5;241m.\u001b[39marguments\u001b[38;5;241m.\u001b[39mget(label_namer)\n\u001b[0;32m   1446\u001b[0m                   \u001b[38;5;129;01mor\u001b[39;00m bound\u001b[38;5;241m.\u001b[39mkwargs\u001b[38;5;241m.\u001b[39mget(label_namer))\n",
      "File \u001b[1;32m~\\anaconda3\\Lib\\site-packages\\matplotlib\\axes\\_axes.py:5665\u001b[0m, in \u001b[0;36mAxes.imshow\u001b[1;34m(self, X, cmap, norm, aspect, interpolation, alpha, vmin, vmax, origin, extent, interpolation_stage, filternorm, filterrad, resample, url, **kwargs)\u001b[0m\n\u001b[0;32m   5657\u001b[0m \u001b[38;5;28mself\u001b[39m\u001b[38;5;241m.\u001b[39mset_aspect(aspect)\n\u001b[0;32m   5658\u001b[0m im \u001b[38;5;241m=\u001b[39m mimage\u001b[38;5;241m.\u001b[39mAxesImage(\u001b[38;5;28mself\u001b[39m, cmap\u001b[38;5;241m=\u001b[39mcmap, norm\u001b[38;5;241m=\u001b[39mnorm,\n\u001b[0;32m   5659\u001b[0m                       interpolation\u001b[38;5;241m=\u001b[39minterpolation, origin\u001b[38;5;241m=\u001b[39morigin,\n\u001b[0;32m   5660\u001b[0m                       extent\u001b[38;5;241m=\u001b[39mextent, filternorm\u001b[38;5;241m=\u001b[39mfilternorm,\n\u001b[0;32m   5661\u001b[0m                       filterrad\u001b[38;5;241m=\u001b[39mfilterrad, resample\u001b[38;5;241m=\u001b[39mresample,\n\u001b[0;32m   5662\u001b[0m                       interpolation_stage\u001b[38;5;241m=\u001b[39minterpolation_stage,\n\u001b[0;32m   5663\u001b[0m                       \u001b[38;5;241m*\u001b[39m\u001b[38;5;241m*\u001b[39mkwargs)\n\u001b[1;32m-> 5665\u001b[0m im\u001b[38;5;241m.\u001b[39mset_data(X)\n\u001b[0;32m   5666\u001b[0m im\u001b[38;5;241m.\u001b[39mset_alpha(alpha)\n\u001b[0;32m   5667\u001b[0m \u001b[38;5;28;01mif\u001b[39;00m im\u001b[38;5;241m.\u001b[39mget_clip_path() \u001b[38;5;129;01mis\u001b[39;00m \u001b[38;5;28;01mNone\u001b[39;00m:\n\u001b[0;32m   5668\u001b[0m     \u001b[38;5;66;03m# image does not already have clipping set, clip to axes patch\u001b[39;00m\n",
      "File \u001b[1;32m~\\anaconda3\\Lib\\site-packages\\matplotlib\\image.py:710\u001b[0m, in \u001b[0;36m_ImageBase.set_data\u001b[1;34m(self, A)\u001b[0m\n\u001b[0;32m    706\u001b[0m     \u001b[38;5;28mself\u001b[39m\u001b[38;5;241m.\u001b[39m_A \u001b[38;5;241m=\u001b[39m \u001b[38;5;28mself\u001b[39m\u001b[38;5;241m.\u001b[39m_A[:, :, \u001b[38;5;241m0\u001b[39m]\n\u001b[0;32m    708\u001b[0m \u001b[38;5;28;01mif\u001b[39;00m \u001b[38;5;129;01mnot\u001b[39;00m (\u001b[38;5;28mself\u001b[39m\u001b[38;5;241m.\u001b[39m_A\u001b[38;5;241m.\u001b[39mndim \u001b[38;5;241m==\u001b[39m \u001b[38;5;241m2\u001b[39m\n\u001b[0;32m    709\u001b[0m         \u001b[38;5;129;01mor\u001b[39;00m \u001b[38;5;28mself\u001b[39m\u001b[38;5;241m.\u001b[39m_A\u001b[38;5;241m.\u001b[39mndim \u001b[38;5;241m==\u001b[39m \u001b[38;5;241m3\u001b[39m \u001b[38;5;129;01mand\u001b[39;00m \u001b[38;5;28mself\u001b[39m\u001b[38;5;241m.\u001b[39m_A\u001b[38;5;241m.\u001b[39mshape[\u001b[38;5;241m-\u001b[39m\u001b[38;5;241m1\u001b[39m] \u001b[38;5;129;01min\u001b[39;00m [\u001b[38;5;241m3\u001b[39m, \u001b[38;5;241m4\u001b[39m]):\n\u001b[1;32m--> 710\u001b[0m     \u001b[38;5;28;01mraise\u001b[39;00m \u001b[38;5;167;01mTypeError\u001b[39;00m(\u001b[38;5;124m\"\u001b[39m\u001b[38;5;124mInvalid shape \u001b[39m\u001b[38;5;132;01m{}\u001b[39;00m\u001b[38;5;124m for image data\u001b[39m\u001b[38;5;124m\"\u001b[39m\n\u001b[0;32m    711\u001b[0m                     \u001b[38;5;241m.\u001b[39mformat(\u001b[38;5;28mself\u001b[39m\u001b[38;5;241m.\u001b[39m_A\u001b[38;5;241m.\u001b[39mshape))\n\u001b[0;32m    713\u001b[0m \u001b[38;5;28;01mif\u001b[39;00m \u001b[38;5;28mself\u001b[39m\u001b[38;5;241m.\u001b[39m_A\u001b[38;5;241m.\u001b[39mndim \u001b[38;5;241m==\u001b[39m \u001b[38;5;241m3\u001b[39m:\n\u001b[0;32m    714\u001b[0m     \u001b[38;5;66;03m# If the input data has values outside the valid range (after\u001b[39;00m\n\u001b[0;32m    715\u001b[0m     \u001b[38;5;66;03m# normalisation), we issue a warning and then clip X to the bounds\u001b[39;00m\n\u001b[0;32m    716\u001b[0m     \u001b[38;5;66;03m# - otherwise casting wraps extreme values, hiding outliers and\u001b[39;00m\n\u001b[0;32m    717\u001b[0m     \u001b[38;5;66;03m# making reliable interpretation impossible.\u001b[39;00m\n\u001b[0;32m    718\u001b[0m     high \u001b[38;5;241m=\u001b[39m \u001b[38;5;241m255\u001b[39m \u001b[38;5;28;01mif\u001b[39;00m np\u001b[38;5;241m.\u001b[39missubdtype(\u001b[38;5;28mself\u001b[39m\u001b[38;5;241m.\u001b[39m_A\u001b[38;5;241m.\u001b[39mdtype, np\u001b[38;5;241m.\u001b[39minteger) \u001b[38;5;28;01melse\u001b[39;00m \u001b[38;5;241m1\u001b[39m\n",
      "\u001b[1;31mTypeError\u001b[0m: Invalid shape (5176,) for image data"
     ]
    },
    {
     "data": {
      "image/png": "[encoded data removed]",
      "text/plain": [
       "<Figure size 640x480 with 1 Axes>"
      ]
     },
     "metadata": {},
     "output_type": "display_data"
    }
   ],
   "source": [
    "from matplotlib import pyplot as plt\n",
    "plt.imshow(image_array[0], interpolation='nearest')\n",
    "plt.show()"
   ]
  },
  {
   "cell_type": "code",
   "execution_count": 93,
   "id": "4ef4d2f4",
   "metadata": {},
   "outputs": [
    {
     "ename": "error",
     "evalue": "OpenCV(4.9.0) :-1: error: (-5:Bad argument) in function 'resize'\n> Overload resolution failed:\n>  - src data type = object is not supported\n>  - Expected Ptr<cv::UMat> for argument 'src'\n",
     "output_type": "error",
     "traceback": [
      "\u001b[1;31m---------------------------------------------------------------------------\u001b[0m",
      "\u001b[1;31merror\u001b[0m                                     Traceback (most recent call last)",
      "Cell \u001b[1;32mIn[93], line 1\u001b[0m\n\u001b[1;32m----> 1\u001b[0m new_array \u001b[38;5;241m=\u001b[39m cv2\u001b[38;5;241m.\u001b[39mresize(image_array,(IMG_SIZE,IMG_SIZE) )\n",
      "\u001b[1;31merror\u001b[0m: OpenCV(4.9.0) :-1: error: (-5:Bad argument) in function 'resize'\n> Overload resolution failed:\n>  - src data type = object is not supported\n>  - Expected Ptr<cv::UMat> for argument 'src'\n"
     ]
    }
   ],
   "source": [
    "new_array = cv2.resize(image_array,(IMG_SIZE,IMG_SIZE) )"
   ]
  },
  {
   "cell_type": "markdown",
   "id": "995a9c11",
   "metadata": {},
   "source": [
    "Importing from Keras functionality necessary to implement CNN"
   ]
  },
  {
   "cell_type": "code",
   "execution_count": 14,
   "id": "a1c2b5d9",
   "metadata": {},
   "outputs": [],
   "source": [
    "from keras.models import Sequential\n",
    "from keras.layers import Dense, Dropout, Conv2D, MaxPool2D, Flatten\n",
    "from keras import utils\n",
    "from sklearn.metrics import accuracy_score"
   ]
  },
  {
   "cell_type": "markdown",
   "id": "3c4dc583",
   "metadata": {},
   "source": [
    "For Now there is only 20 photos per Category, the training size will be 28 and test 12, This is for testing. After this I'll get more images to improve the CNN"
   ]
  },
  {
   "cell_type": "code",
   "execution_count": 55,
   "id": "d4466c24",
   "metadata": {},
   "outputs": [],
   "source": [
    "X_train = pandasImagesDF.iloc[:-12,2].values\n",
    "y_train = pandasImagesDF.iloc[:-12,1].values\n",
    "X_test = pandasImagesDF.iloc[-12:,2].values\n",
    "y_test = pandasImagesDF.iloc[-12:,1].values\n"
   ]
  },
  {
   "cell_type": "code",
   "execution_count": 56,
   "id": "86e0e6b2",
   "metadata": {
    "scrolled": false
   },
   "outputs": [
    {
     "data": {
      "text/plain": [
       "array([array([255., 216., 255., ..., 159., 255., 217.], dtype=float32),\n",
       "       array([255., 216., 255., ...,  20., 255., 217.], dtype=float32),\n",
       "       array([255., 216., 255., ..., 168., 255., 217.], dtype=float32),\n",
       "       array([255., 216., 255., ...,  20., 255., 217.], dtype=float32),\n",
       "       array([255., 216., 255., ..., 165., 255., 217.], dtype=float32),\n",
       "       array([255., 216., 255., ..., 175., 255., 217.], dtype=float32),\n",
       "       array([255., 216., 255., ...,   3., 255., 217.], dtype=float32),\n",
       "       array([255., 216., 255., ..., 127., 255., 217.], dtype=float32),\n",
       "       array([255., 216., 255., ..., 144., 255., 217.], dtype=float32),\n",
       "       array([255., 216., 255., ...,  15., 255., 217.], dtype=float32),\n",
       "       array([255., 216., 255., ..., 234., 255., 217.], dtype=float32),\n",
       "       array([255., 216., 255., ...,  31., 255., 217.], dtype=float32),\n",
       "       array([255., 216., 255., ..., 167., 255., 217.], dtype=float32),\n",
       "       array([255., 216., 255., ...,  22., 255., 217.], dtype=float32),\n",
       "       array([255., 216., 255., ...,  16., 255., 217.], dtype=float32),\n",
       "       array([255., 216., 255., ..., 146., 255., 217.], dtype=float32),\n",
       "       array([255., 216., 255., ...,  31., 255., 217.], dtype=float32),\n",
       "       array([255., 216., 255., ..., 146., 255., 217.], dtype=float32),\n",
       "       array([255., 216., 255., ..., 163., 255., 217.], dtype=float32),\n",
       "       array([255., 216., 255., ..., 201., 255., 217.], dtype=float32),\n",
       "       array([255., 216., 255., ...,  28., 255., 217.], dtype=float32),\n",
       "       array([255., 216., 255., ...,   3., 255., 217.], dtype=float32),\n",
       "       array([255., 216., 255., ..., 127., 255., 217.], dtype=float32),\n",
       "       array([255., 216., 255., ..., 127., 255., 217.], dtype=float32),\n",
       "       array([255., 216., 255., ..., 164., 255., 217.], dtype=float32),\n",
       "       array([255., 216., 255., ..., 198., 255., 217.], dtype=float32),\n",
       "       array([255., 216., 255., ..., 138., 255., 217.], dtype=float32),\n",
       "       array([255., 216., 255., ..., 159., 255., 217.], dtype=float32)],\n",
       "      dtype=object)"
      ]
     },
     "execution_count": 56,
     "metadata": {},
     "output_type": "execute_result"
    }
   ],
   "source": [
    "X_train"
   ]
  },
  {
   "cell_type": "code",
   "execution_count": null,
   "id": "bb47a6a0",
   "metadata": {},
   "outputs": [],
   "source": []
  },
  {
   "cell_type": "code",
   "execution_count": 22,
   "id": "4ca11ced",
   "metadata": {},
   "outputs": [],
   "source": [
    "from sklearn.preprocessing import OneHotEncoder"
   ]
  },
  {
   "cell_type": "code",
   "execution_count": 57,
   "id": "42531cd0",
   "metadata": {},
   "outputs": [],
   "source": [
    "encoder = OneHotEncoder(sparse_output=False)\n",
    "y_train = np.array(y_train).reshape(-1, 1)\n",
    "y_train = encoder.fit_transform(y_train)\n",
    "\n",
    "y_test = np.array(y_test).reshape(-1,1)\n",
    "y_test = encoder.fit_transform(y_test)"
   ]
  },
  {
   "cell_type": "code",
   "execution_count": 58,
   "id": "5bccd4ab",
   "metadata": {},
   "outputs": [],
   "source": [
    "X_train = X_train.reshape(-1,1)\n",
    "X_test = X_test.reshape(-1,1)"
   ]
  },
  {
   "cell_type": "code",
   "execution_count": 59,
   "id": "4b24106d",
   "metadata": {
    "scrolled": false
   },
   "outputs": [
    {
     "data": {
      "text/plain": [
       "array([[array([255., 216., 255., ..., 159., 255., 217.], dtype=float32)],\n",
       "       [array([255., 216., 255., ...,  20., 255., 217.], dtype=float32)],\n",
       "       [array([255., 216., 255., ..., 168., 255., 217.], dtype=float32)],\n",
       "       [array([255., 216., 255., ...,  20., 255., 217.], dtype=float32)],\n",
       "       [array([255., 216., 255., ..., 165., 255., 217.], dtype=float32)],\n",
       "       [array([255., 216., 255., ..., 175., 255., 217.], dtype=float32)],\n",
       "       [array([255., 216., 255., ...,   3., 255., 217.], dtype=float32)],\n",
       "       [array([255., 216., 255., ..., 127., 255., 217.], dtype=float32)],\n",
       "       [array([255., 216., 255., ..., 144., 255., 217.], dtype=float32)],\n",
       "       [array([255., 216., 255., ...,  15., 255., 217.], dtype=float32)],\n",
       "       [array([255., 216., 255., ..., 234., 255., 217.], dtype=float32)],\n",
       "       [array([255., 216., 255., ...,  31., 255., 217.], dtype=float32)],\n",
       "       [array([255., 216., 255., ..., 167., 255., 217.], dtype=float32)],\n",
       "       [array([255., 216., 255., ...,  22., 255., 217.], dtype=float32)],\n",
       "       [array([255., 216., 255., ...,  16., 255., 217.], dtype=float32)],\n",
       "       [array([255., 216., 255., ..., 146., 255., 217.], dtype=float32)],\n",
       "       [array([255., 216., 255., ...,  31., 255., 217.], dtype=float32)],\n",
       "       [array([255., 216., 255., ..., 146., 255., 217.], dtype=float32)],\n",
       "       [array([255., 216., 255., ..., 163., 255., 217.], dtype=float32)],\n",
       "       [array([255., 216., 255., ..., 201., 255., 217.], dtype=float32)],\n",
       "       [array([255., 216., 255., ...,  28., 255., 217.], dtype=float32)],\n",
       "       [array([255., 216., 255., ...,   3., 255., 217.], dtype=float32)],\n",
       "       [array([255., 216., 255., ..., 127., 255., 217.], dtype=float32)],\n",
       "       [array([255., 216., 255., ..., 127., 255., 217.], dtype=float32)],\n",
       "       [array([255., 216., 255., ..., 164., 255., 217.], dtype=float32)],\n",
       "       [array([255., 216., 255., ..., 198., 255., 217.], dtype=float32)],\n",
       "       [array([255., 216., 255., ..., 138., 255., 217.], dtype=float32)],\n",
       "       [array([255., 216., 255., ..., 159., 255., 217.], dtype=float32)]],\n",
       "      dtype=object)"
      ]
     },
     "execution_count": 59,
     "metadata": {},
     "output_type": "execute_result"
    }
   ],
   "source": [
    "X_train"
   ]
  },
  {
   "cell_type": "code",
   "execution_count": 70,
   "id": "b91b31e9",
   "metadata": {},
   "outputs": [
    {
     "data": {
      "text/plain": [
       "6909"
      ]
     },
     "execution_count": 70,
     "metadata": {},
     "output_type": "execute_result"
    }
   ],
   "source": [
    "len(X_train[7][0])"
   ]
  },
  {
   "cell_type": "code",
   "execution_count": 60,
   "id": "824f45a5",
   "metadata": {
    "scrolled": false
   },
   "outputs": [
    {
     "ename": "ValueError",
     "evalue": "cannot reshape array of size 28 into shape (28,1080,1)",
     "output_type": "error",
     "traceback": [
      "\u001b[1;31m---------------------------------------------------------------------------\u001b[0m",
      "\u001b[1;31mValueError\u001b[0m                                Traceback (most recent call last)",
      "Cell \u001b[1;32mIn[60], line 1\u001b[0m\n\u001b[1;32m----> 1\u001b[0m X_train \u001b[38;5;241m=\u001b[39m np\u001b[38;5;241m.\u001b[39mreshape(X_train, (X_train\u001b[38;5;241m.\u001b[39mshape[\u001b[38;5;241m0\u001b[39m], \u001b[38;5;241m1080\u001b[39m,\u001b[38;5;241m1\u001b[39m))\n\u001b[0;32m      2\u001b[0m X_test \u001b[38;5;241m=\u001b[39m np\u001b[38;5;241m.\u001b[39mreshape(X_test,(X_test\u001b[38;5;241m.\u001b[39mshape[\u001b[38;5;241m0\u001b[39m],X_test\u001b[38;5;241m.\u001b[39mshape[\u001b[38;5;241m1\u001b[39m],\u001b[38;5;241m1\u001b[39m))\n\u001b[0;32m      3\u001b[0m y_train \u001b[38;5;241m=\u001b[39m np\u001b[38;5;241m.\u001b[39mreshape(y_train, (y_train\u001b[38;5;241m.\u001b[39mshape[\u001b[38;5;241m0\u001b[39m], \u001b[38;5;241m1080\u001b[39m,\u001b[38;5;241m1\u001b[39m))\n",
      "File \u001b[1;32m<__array_function__ internals>:200\u001b[0m, in \u001b[0;36mreshape\u001b[1;34m(*args, **kwargs)\u001b[0m\n",
      "File \u001b[1;32m~\\anaconda3\\Lib\\site-packages\\numpy\\core\\fromnumeric.py:298\u001b[0m, in \u001b[0;36mreshape\u001b[1;34m(a, newshape, order)\u001b[0m\n\u001b[0;32m    198\u001b[0m \u001b[38;5;129m@array_function_dispatch\u001b[39m(_reshape_dispatcher)\n\u001b[0;32m    199\u001b[0m \u001b[38;5;28;01mdef\u001b[39;00m \u001b[38;5;21mreshape\u001b[39m(a, newshape, order\u001b[38;5;241m=\u001b[39m\u001b[38;5;124m'\u001b[39m\u001b[38;5;124mC\u001b[39m\u001b[38;5;124m'\u001b[39m):\n\u001b[0;32m    200\u001b[0m \u001b[38;5;250m    \u001b[39m\u001b[38;5;124;03m\"\"\"\u001b[39;00m\n\u001b[0;32m    201\u001b[0m \u001b[38;5;124;03m    Gives a new shape to an array without changing its data.\u001b[39;00m\n\u001b[0;32m    202\u001b[0m \n\u001b[1;32m   (...)\u001b[0m\n\u001b[0;32m    296\u001b[0m \u001b[38;5;124;03m           [5, 6]])\u001b[39;00m\n\u001b[0;32m    297\u001b[0m \u001b[38;5;124;03m    \"\"\"\u001b[39;00m\n\u001b[1;32m--> 298\u001b[0m     \u001b[38;5;28;01mreturn\u001b[39;00m _wrapfunc(a, \u001b[38;5;124m'\u001b[39m\u001b[38;5;124mreshape\u001b[39m\u001b[38;5;124m'\u001b[39m, newshape, order\u001b[38;5;241m=\u001b[39morder)\n",
      "File \u001b[1;32m~\\anaconda3\\Lib\\site-packages\\numpy\\core\\fromnumeric.py:57\u001b[0m, in \u001b[0;36m_wrapfunc\u001b[1;34m(obj, method, *args, **kwds)\u001b[0m\n\u001b[0;32m     54\u001b[0m     \u001b[38;5;28;01mreturn\u001b[39;00m _wrapit(obj, method, \u001b[38;5;241m*\u001b[39margs, \u001b[38;5;241m*\u001b[39m\u001b[38;5;241m*\u001b[39mkwds)\n\u001b[0;32m     56\u001b[0m \u001b[38;5;28;01mtry\u001b[39;00m:\n\u001b[1;32m---> 57\u001b[0m     \u001b[38;5;28;01mreturn\u001b[39;00m bound(\u001b[38;5;241m*\u001b[39margs, \u001b[38;5;241m*\u001b[39m\u001b[38;5;241m*\u001b[39mkwds)\n\u001b[0;32m     58\u001b[0m \u001b[38;5;28;01mexcept\u001b[39;00m \u001b[38;5;167;01mTypeError\u001b[39;00m:\n\u001b[0;32m     59\u001b[0m     \u001b[38;5;66;03m# A TypeError occurs if the object does have such a method in its\u001b[39;00m\n\u001b[0;32m     60\u001b[0m     \u001b[38;5;66;03m# class, but its signature is not identical to that of NumPy's. This\u001b[39;00m\n\u001b[1;32m   (...)\u001b[0m\n\u001b[0;32m     64\u001b[0m     \u001b[38;5;66;03m# Call _wrapit from within the except clause to ensure a potential\u001b[39;00m\n\u001b[0;32m     65\u001b[0m     \u001b[38;5;66;03m# exception has a traceback chain.\u001b[39;00m\n\u001b[0;32m     66\u001b[0m     \u001b[38;5;28;01mreturn\u001b[39;00m _wrapit(obj, method, \u001b[38;5;241m*\u001b[39margs, \u001b[38;5;241m*\u001b[39m\u001b[38;5;241m*\u001b[39mkwds)\n",
      "\u001b[1;31mValueError\u001b[0m: cannot reshape array of size 28 into shape (28,1080,1)"
     ]
    }
   ],
   "source": [
    "X_train = np.reshape(X_train, (X_train.shape[0], 1080,1))\n",
    "X_test = np.reshape(X_test,(X_test.shape[0],X_test.shape[1],1))\n",
    "y_train = np.reshape(y_train, (y_train.shape[0], 1080,1))\n",
    "y_test = np.reshape(y_test, (y_test.shape[0], y_test.shape[1],1))"
   ]
  },
  {
   "cell_type": "code",
   "execution_count": 41,
   "id": "82fe97e4",
   "metadata": {},
   "outputs": [
    {
     "data": {
      "text/plain": [
       "(28, 1, 1)"
      ]
     },
     "execution_count": 41,
     "metadata": {},
     "output_type": "execute_result"
    }
   ],
   "source": [
    "X_train.shape"
   ]
  },
  {
   "cell_type": "markdown",
   "id": "61abda0c",
   "metadata": {},
   "source": [
    "Because the pixels are from 0 to 255, We have to normalize the pixels"
   ]
  },
  {
   "cell_type": "code",
   "execution_count": 28,
   "id": "7c7295f0",
   "metadata": {},
   "outputs": [],
   "source": [
    "X_train/=255\n",
    "X_test/=255"
   ]
  },
  {
   "cell_type": "code",
   "execution_count": 29,
   "id": "62e6bae6",
   "metadata": {},
   "outputs": [],
   "source": [
    "model = Sequential()\n",
    "model.add(Conv2D(25,kernel_size=(3,3),strides=(1,1),padding=\"valid\", activation=\"relu\", input_shape=(1080,1080,1)))\n",
    "model.add(MaxPool2D(pool_size=(1,1)))\n",
    "model.add(Flatten())\n",
    "\n",
    "model.add(Dense(100, activation=\"relu\"))\n",
    "model.add(Dense(10,activation=\"softmax\"))"
   ]
  },
  {
   "cell_type": "code",
   "execution_count": 30,
   "id": "e313dc62",
   "metadata": {},
   "outputs": [],
   "source": [
    "model.compile(loss=\"categorical_crossentropy\", metrics=[\"accuracy\"], optimizer=\"adam\")"
   ]
  },
  {
   "cell_type": "code",
   "execution_count": 31,
   "id": "00aef854",
   "metadata": {},
   "outputs": [
    {
     "data": {
      "text/plain": [
       "(28, 2, 1)"
      ]
     },
     "execution_count": 31,
     "metadata": {},
     "output_type": "execute_result"
    }
   ],
   "source": [
    "y_train.shape"
   ]
  },
  {
   "cell_type": "code",
   "execution_count": null,
   "id": "cb4f1223",
   "metadata": {},
   "outputs": [],
   "source": [
    "z =np.(X_train)"
   ]
  },
  {
   "cell_type": "code",
   "execution_count": 34,
   "id": "8e68b4da",
   "metadata": {},
   "outputs": [],
   "source": [
    "x_train = np.asarray(X_train)\n",
    "Y_train = np.asarray(y_train)\n",
    "x_test = np.asarray(X_test)\n",
    "Y_test = np.asarray(y_test)"
   ]
  },
  {
   "cell_type": "code",
   "execution_count": 36,
   "id": "5fd78b0d",
   "metadata": {},
   "outputs": [
    {
     "ename": "ValueError",
     "evalue": "Failed to convert a NumPy array to a Tensor (Unsupported object type numpy.ndarray).",
     "output_type": "error",
     "traceback": [
      "\u001b[1;31m---------------------------------------------------------------------------\u001b[0m",
      "\u001b[1;31mValueError\u001b[0m                                Traceback (most recent call last)",
      "Cell \u001b[1;32mIn[36], line 1\u001b[0m\n\u001b[1;32m----> 1\u001b[0m model\u001b[38;5;241m.\u001b[39mfit(x_train, Y_train, batch_size\u001b[38;5;241m=\u001b[39m\u001b[38;5;241m14\u001b[39m, epochs\u001b[38;5;241m=\u001b[39m\u001b[38;5;241m10\u001b[39m, validation_data\u001b[38;5;241m=\u001b[39m(x_test, Y_test))\n",
      "File \u001b[1;32m~\\anaconda3\\Lib\\site-packages\\keras\\src\\utils\\traceback_utils.py:70\u001b[0m, in \u001b[0;36mfilter_traceback.<locals>.error_handler\u001b[1;34m(*args, **kwargs)\u001b[0m\n\u001b[0;32m     67\u001b[0m     filtered_tb \u001b[38;5;241m=\u001b[39m _process_traceback_frames(e\u001b[38;5;241m.\u001b[39m__traceback__)\n\u001b[0;32m     68\u001b[0m     \u001b[38;5;66;03m# To get the full stack trace, call:\u001b[39;00m\n\u001b[0;32m     69\u001b[0m     \u001b[38;5;66;03m# `tf.debugging.disable_traceback_filtering()`\u001b[39;00m\n\u001b[1;32m---> 70\u001b[0m     \u001b[38;5;28;01mraise\u001b[39;00m e\u001b[38;5;241m.\u001b[39mwith_traceback(filtered_tb) \u001b[38;5;28;01mfrom\u001b[39;00m \u001b[38;5;28;01mNone\u001b[39;00m\n\u001b[0;32m     71\u001b[0m \u001b[38;5;28;01mfinally\u001b[39;00m:\n\u001b[0;32m     72\u001b[0m     \u001b[38;5;28;01mdel\u001b[39;00m filtered_tb\n",
      "File \u001b[1;32m~\\anaconda3\\Lib\\site-packages\\tensorflow\\python\\framework\\constant_op.py:102\u001b[0m, in \u001b[0;36mconvert_to_eager_tensor\u001b[1;34m(value, ctx, dtype)\u001b[0m\n\u001b[0;32m    100\u001b[0m     dtype \u001b[38;5;241m=\u001b[39m dtypes\u001b[38;5;241m.\u001b[39mas_dtype(dtype)\u001b[38;5;241m.\u001b[39mas_datatype_enum\n\u001b[0;32m    101\u001b[0m ctx\u001b[38;5;241m.\u001b[39mensure_initialized()\n\u001b[1;32m--> 102\u001b[0m \u001b[38;5;28;01mreturn\u001b[39;00m ops\u001b[38;5;241m.\u001b[39mEagerTensor(value, ctx\u001b[38;5;241m.\u001b[39mdevice_name, dtype)\n",
      "\u001b[1;31mValueError\u001b[0m: Failed to convert a NumPy array to a Tensor (Unsupported object type numpy.ndarray)."
     ]
    }
   ],
   "source": [
    "model.fit(x_train, Y_train, batch_size=14, epochs=10, validation_data=(x_test, Y_test))"
   ]
  },
  {
   "cell_type": "code",
   "execution_count": null,
   "id": "41d317c5",
   "metadata": {},
   "outputs": [],
   "source": []
  }
 ],
 "metadata": {
  "kernelspec": {
   "display_name": "Python 3 (ipykernel)",
   "language": "python",
   "name": "python3"
  },
  "language_info": {
   "codemirror_mode": {
    "name": "ipython",
    "version": 3
   },
   "file_extension": ".py",
   "mimetype": "text/x-python",
   "name": "python",
   "nbconvert_exporter": "python",
   "pygments_lexer": "ipython3",
   "version": "3.10.12"
  }
 },
 "nbformat": 4,
 "nbformat_minor": 5
}
