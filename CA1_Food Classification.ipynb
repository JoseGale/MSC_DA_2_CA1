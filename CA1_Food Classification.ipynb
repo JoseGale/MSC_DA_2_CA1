{
 "cells": [
  {
   "cell_type": "code",
   "execution_count": null,
   "id": "57512784",
   "metadata": {
    "scrolled": true
   },
   "outputs": [],
   "source": [
    "spark"
   ]
  },
  {
   "cell_type": "code",
   "execution_count": null,
   "id": "f5c78d11",
   "metadata": {},
   "outputs": [],
   "source": [
    "import pandas as pd\n",
    "import numpy as np\n",
    "from PIL import Image\n",
    "from io import BytesIO\n",
    "import re\n",
    "# import tensorflow as tf\n",
    "# import cv2"
   ]
  },
  {
   "cell_type": "markdown",
   "id": "ae28c65e",
   "metadata": {},
   "source": [
    "I will use the functionality of Image Datasource of spark to collect and process images in bytes, and then start processing the images for the neural network"
   ]
  },
  {
   "cell_type": "code",
   "execution_count": null,
   "id": "443e6125",
   "metadata": {},
   "outputs": [],
   "source": [
    "images_folders = ['/CA1/Images/Ireland/','/CA1/Images/Honduran/']"
   ]
  },
  {
   "cell_type": "code",
   "execution_count": null,
   "id": "e0e4e8a2",
   "metadata": {},
   "outputs": [],
   "source": [
    "images_rdd = spark.sparkContext.binaryFiles(','.join(images_folders))\n",
    "# images_rdd = spark.sparkContext.binaryFiles('hdfs://172.24.144.178:9000/CA1/Images/Ireland/Ireland_001.jpeg')"
   ]
  },
  {
   "cell_type": "code",
   "execution_count": null,
   "id": "8d83df95",
   "metadata": {},
   "outputs": [],
   "source": [
    "images_rdd"
   ]
  },
  {
   "cell_type": "code",
   "execution_count": null,
   "id": "22b73c2f",
   "metadata": {},
   "outputs": [],
   "source": [
    "def extract_data(data):\n",
    "    file_path, image_data = data\n",
    "#     image = Image.open(BytesIO(image_data))\n",
    "#     image_array = np.array(image)\n",
    "    \n",
    "    file_name = file_path.split('/')[-1]\n",
    "    file_name_without_ext = file_name.split(\".\")[0]\n",
    "    label,name = file_name_without_ext.split('_')[0], file_name_without_ext.split('_')[1]\n",
    "    \n",
    "    return name, label, image_data"
   ]
  },
  {
   "cell_type": "code",
   "execution_count": null,
   "id": "ec485489",
   "metadata": {},
   "outputs": [],
   "source": [
    "imageDf = images_rdd.map(lambda x: extract_data(x)).toDF([\"Name\",\"Label\",\"Data\"])"
   ]
  },
  {
   "cell_type": "code",
   "execution_count": null,
   "id": "59f29712",
   "metadata": {},
   "outputs": [],
   "source": [
    "pandasImagesDF = imageDf.toPandas()"
   ]
  },
  {
   "cell_type": "code",
   "execution_count": null,
   "id": "c621265c",
   "metadata": {},
   "outputs": [],
   "source": [
    "def processImage(data, target_size=(225,225)):\n",
    "    imgbytes = BytesIO(data)\n",
    "    image = Image.open(imgbytes)\n",
    "    resized_img = image.resize(target_size, Image.ANTIALIAS)\n",
    "    with BytesIO() as output:\n",
    "        resized_img.save(output, format=\"PNG\")\n",
    "        new_image = Image.open(output)\n",
    "\n",
    "        array = np.asarray(new_image).reshape([target_size[0],target_size[1],3])\n",
    "        return array"
   ]
  },
  {
   "cell_type": "code",
   "execution_count": null,
   "id": "494c89b7",
   "metadata": {},
   "outputs": [],
   "source": [
    "pandasImagesDF[\"Data\"] = pandasImagesDF[\"Data\"].apply(lambda x: processImage(x))"
   ]
  },
  {
   "cell_type": "code",
   "execution_count": null,
   "id": "af147bfa",
   "metadata": {},
   "outputs": [],
   "source": [
    "# pandasImagesDF"
   ]
  },
  {
   "cell_type": "code",
   "execution_count": null,
   "id": "eba5be8a",
   "metadata": {},
   "outputs": [],
   "source": [
    "pandasImagesDF = pandasImagesDF.sort_values(by=[\"Name\"])"
   ]
  },
  {
   "cell_type": "code",
   "execution_count": null,
   "id": "e2a8bf11",
   "metadata": {},
   "outputs": [],
   "source": [
    "pandasImagesDF.info()"
   ]
  },
  {
   "cell_type": "code",
   "execution_count": null,
   "id": "6d57c545",
   "metadata": {},
   "outputs": [],
   "source": [
    "#import matplotlib.pyplot as plt"
   ]
  },
  {
   "cell_type": "code",
   "execution_count": null,
   "id": "3d2a34d5",
   "metadata": {},
   "outputs": [],
   "source": [
    "#np.array(pandasImagesDF[\"Data\"][9]).astype(\"float32\").shape"
   ]
  },
  {
   "cell_type": "code",
   "execution_count": null,
   "id": "631a184d",
   "metadata": {},
   "outputs": [],
   "source": [
    "# # Determine the dimensions of the image\n",
    "# width =  225\n",
    "# height =  225\n",
    "\n",
    "# # Convert the byte array to a numpy array of uint8 data type\n",
    "# image_data = np.array(pandasImagesDF[\"Data\"][0], dtype=np.uint8)\n",
    "# # image_data.reshape(-1,1)\n",
    "# # Reshape the array to match the dimensions of the image\n",
    "# # image_data = image_data.reshape((height, width))\n",
    "\n",
    "# # Create an image from the byte array\n",
    "# image = Image.fromarray(image_data)\n",
    "\n",
    "# # Display the image\n",
    "# image.show()"
   ]
  },
  {
   "cell_type": "markdown",
   "id": "7bf80bf8",
   "metadata": {},
   "source": [
    "Importing from Keras functionality necessary to implement CNN"
   ]
  },
  {
   "cell_type": "code",
   "execution_count": null,
   "id": "eeff7618",
   "metadata": {},
   "outputs": [],
   "source": [
    "from tensorflow.keras.models import Sequential\n",
    "from tensorflow.keras.layers import Dense, Dropout, Conv2D, MaxPool2D, Flatten\n",
    "from tensorflow.keras import utils\n",
    "from sklearn.metrics import accuracy_score"
   ]
  },
  {
   "cell_type": "markdown",
   "id": "e9c44bdc",
   "metadata": {},
   "source": [
    "For Now there is only 20 photos per Category, the training size will be 28 and test 12, This is for testing. After this I'll get more images to improve the CNN"
   ]
  },
  {
   "cell_type": "code",
   "execution_count": null,
   "id": "caabbe21",
   "metadata": {},
   "outputs": [],
   "source": [
    "X_train = pandasImagesDF.iloc[:-12,2].values\n",
    "y_train = pandasImagesDF.iloc[:-12,1].values\n",
    "X_test = pandasImagesDF.iloc[-12:,2].values\n",
    "y_test = pandasImagesDF.iloc[-12:,1].values\n"
   ]
  },
  {
   "cell_type": "code",
   "execution_count": null,
   "id": "512cf5bc",
   "metadata": {},
   "outputs": [],
   "source": [
    "from sklearn.preprocessing import OneHotEncoder"
   ]
  },
  {
   "cell_type": "code",
   "execution_count": null,
   "id": "00be1125",
   "metadata": {},
   "outputs": [],
   "source": [
    "encoder = OneHotEncoder(sparse_output=False)\n",
    "y_train = np.array(y_train).reshape(-1, 1)\n",
    "y_train = encoder.fit_transform(y_train)\n",
    "\n",
    "y_test = np.array(y_test).reshape(-1,1)\n",
    "y_test = encoder.fit_transform(y_test)"
   ]
  },
  {
   "cell_type": "code",
   "execution_count": null,
   "id": "3d7277b3",
   "metadata": {},
   "outputs": [],
   "source": [
    "X_train = X_train.reshape(-1,1)\n",
    "X_test = X_test.reshape(-1,1)"
   ]
  },
  {
   "cell_type": "code",
   "execution_count": null,
   "id": "b36f6358",
   "metadata": {},
   "outputs": [],
   "source": [
    "X_train_reshaped = []\n",
    "X_test_reshaped = []\n",
    "\n",
    "for x in X_train:\n",
    "    X_train_reshaped.append(np.array(x)[0])\n",
    "\n",
    "for x in X_test:\n",
    "    X_test_reshaped.append(np.array(x)[0])\n",
    "    "
   ]
  },
  {
   "cell_type": "code",
   "execution_count": null,
   "id": "e7642ba9",
   "metadata": {},
   "outputs": [],
   "source": [
    "\n",
    "# X_test = np.reshape(X_test,(X_test.shape[0],X_test.shape[1],1))\n",
    "# y_test = np.reshape(y_test, (y_test.shape[0], y_test.shape[1],1))"
   ]
  },
  {
   "cell_type": "markdown",
   "id": "7f1040f4",
   "metadata": {},
   "source": [
    "Because the pixels are from 0 to 255, We have to normalize the pixels"
   ]
  },
  {
   "cell_type": "code",
   "execution_count": null,
   "id": "7788f641",
   "metadata": {},
   "outputs": [],
   "source": [
    "X_train_reshaped = np.array(X_train_reshaped)/255\n",
    "X_test_reshaped= np.array(X_test_reshaped)/255"
   ]
  },
  {
   "cell_type": "code",
   "execution_count": null,
   "id": "ad75f3cc",
   "metadata": {},
   "outputs": [],
   "source": [
    "X_train_reshaped.shape,X_test_reshaped.shape"
   ]
  },
  {
   "cell_type": "code",
   "execution_count": null,
   "id": "433c17ae",
   "metadata": {},
   "outputs": [],
   "source": [
    "y_train.shape, y_test.shape"
   ]
  },
  {
   "cell_type": "code",
   "execution_count": null,
   "id": "c36fcb77",
   "metadata": {},
   "outputs": [],
   "source": [
    "model = Sequential()\n",
    "model.add(Conv2D(32,kernel_size=(3,3),strides=(1,1),padding=\"valid\", activation=\"relu\", input_shape=(225,225,3)))\n",
    "model.add(MaxPool2D(pool_size=(2,2)))\n",
    "model.add(Conv2D(64, (3,3), activation=\"relu\"))\n",
    "\n",
    "model.add(MaxPool2D(pool_size=(2,2)))\n",
    "model.add(Flatten())\n",
    "\n",
    "model.add(Dense(128, activation=\"relu\"))\n",
    "model.add(Dense(2,activation=\"softmax\"))"
   ]
  },
  {
   "cell_type": "code",
   "execution_count": null,
   "id": "68a9c367",
   "metadata": {},
   "outputs": [],
   "source": [
    "model.compile(loss=\"categorical_crossentropy\", metrics=[\"accuracy\"], optimizer=\"adam\")"
   ]
  },
  {
   "cell_type": "code",
   "execution_count": null,
   "id": "ca0fc309",
   "metadata": {},
   "outputs": [],
   "source": [
    "model.fit(X_train_reshaped, y_train, batch_size=14, epochs=20, verbose=1, validation_data=(X_test_reshaped, y_test))"
   ]
  },
  {
   "cell_type": "code",
   "execution_count": null,
   "id": "e6ea5eb8",
   "metadata": {
    "scrolled": false
   },
   "outputs": [],
   "source": [
    "model.summary()"
   ]
  },
  {
   "cell_type": "code",
   "execution_count": null,
   "id": "51ff8f17",
   "metadata": {},
   "outputs": [],
   "source": [
    "pred = model.predict(X_test_reshaped[:10])"
   ]
  },
  {
   "cell_type": "code",
   "execution_count": null,
   "id": "3d0ec05b",
   "metadata": {},
   "outputs": [],
   "source": [
    "np.argmax(pred, axis=1)"
   ]
  },
  {
   "cell_type": "code",
   "execution_count": null,
   "id": "0152768d",
   "metadata": {},
   "outputs": [],
   "source": [
    "np.argmax(y_test[:10], axis=1)"
   ]
  },
  {
   "cell_type": "code",
   "execution_count": null,
   "id": "355fcc84",
   "metadata": {},
   "outputs": [],
   "source": []
  }
 ],
 "metadata": {
  "kernelspec": {
   "display_name": "Python 3 (ipykernel)",
   "language": "python",
   "name": "python3"
  },
  "language_info": {
   "codemirror_mode": {
    "name": "ipython",
    "version": 3
   },
   "file_extension": ".py",
   "mimetype": "text/x-python",
   "name": "python",
   "nbconvert_exporter": "python",
   "pygments_lexer": "ipython3",
   "version": "3.10.12"
  }
 },
 "nbformat": 4,
 "nbformat_minor": 5
}
