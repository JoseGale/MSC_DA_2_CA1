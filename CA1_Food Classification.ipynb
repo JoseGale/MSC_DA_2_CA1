{
 "cells": [
  {
   "cell_type": "code",
   "execution_count": 1,
   "id": "57512784",
   "metadata": {
    "scrolled": true
   },
   "outputs": [
    {
     "data": {
      "text/html": [
       "\n",
       "            <div>\n",
       "                <p><b>SparkSession - hive</b></p>\n",
       "                \n",
       "        <div>\n",
       "            <p><b>SparkContext</b></p>\n",
       "\n",
       "            <p><a href=\"http://localhost:4040\">Spark UI</a></p>\n",
       "\n",
       "            <dl>\n",
       "              <dt>Version</dt>\n",
       "                <dd><code>v3.5.1</code></dd>\n",
       "              <dt>Master</dt>\n",
       "                <dd><code>local[*]</code></dd>\n",
       "              <dt>AppName</dt>\n",
       "                <dd><code>PySparkShell</code></dd>\n",
       "            </dl>\n",
       "        </div>\n",
       "        \n",
       "            </div>\n",
       "        "
      ],
      "text/plain": [
       "<pyspark.sql.session.SparkSession at 0x7f3d457f3850>"
      ]
     },
     "execution_count": 1,
     "metadata": {},
     "output_type": "execute_result"
    }
   ],
   "source": [
    "spark"
   ]
  },
  {
   "cell_type": "code",
   "execution_count": 1,
   "id": "f5c78d11",
   "metadata": {},
   "outputs": [],
   "source": [
    "import pandas as pd\n",
    "import numpy as np\n",
    "from PIL import Image\n",
    "from io import BytesIO\n",
    "import re\n",
    "# import tensorflow as tf\n",
    "# import cv2"
   ]
  },
  {
   "cell_type": "markdown",
   "id": "ae28c65e",
   "metadata": {},
   "source": [
    "I will use the functionality of Image Datasource of spark to collect and process images in bytes, and then start processing the images for the neural network"
   ]
  },
  {
   "cell_type": "code",
   "execution_count": 2,
   "id": "443e6125",
   "metadata": {},
   "outputs": [],
   "source": [
    "images_folders = ['/CA1/Images/Ireland/','/CA1/Images/Honduran/']"
   ]
  },
  {
   "cell_type": "code",
   "execution_count": 3,
   "id": "e0e4e8a2",
   "metadata": {},
   "outputs": [],
   "source": [
    "images_rdd = spark.sparkContext.binaryFiles(','.join(images_folders))\n",
    "# images_rdd = spark.sparkContext.binaryFiles('hdfs://172.24.144.178:9000/CA1/Images/Ireland/Ireland_001.jpeg')"
   ]
  },
  {
   "cell_type": "code",
   "execution_count": 4,
   "id": "8d83df95",
   "metadata": {},
   "outputs": [
    {
     "data": {
      "text/plain": [
       "org.apache.spark.api.java.JavaPairRDD@3bc5f783"
      ]
     },
     "execution_count": 4,
     "metadata": {},
     "output_type": "execute_result"
    }
   ],
   "source": [
    "images_rdd"
   ]
  },
  {
   "cell_type": "code",
   "execution_count": 5,
   "id": "22b73c2f",
   "metadata": {},
   "outputs": [],
   "source": [
    "def extract_data(data):\n",
    "    file_path, image_data = data\n",
    "#     image = Image.open(BytesIO(image_data))\n",
    "#     image_array = np.array(image)\n",
    "    \n",
    "    file_name = file_path.split('/')[-1]\n",
    "    file_name_without_ext = file_name.split(\".\")[0]\n",
    "    label,name = file_name_without_ext.split('_')[0], file_name_without_ext.split('_')[1]\n",
    "    \n",
    "    return name, label, image_data"
   ]
  },
  {
   "cell_type": "code",
   "execution_count": 6,
   "id": "ec485489",
   "metadata": {},
   "outputs": [
    {
     "name": "stderr",
     "output_type": "stream",
     "text": [
      "                                                                                \r"
     ]
    }
   ],
   "source": [
    "imageDf = images_rdd.map(lambda x: extract_data(x)).toDF([\"Name\",\"Label\",\"Data\"])"
   ]
  },
  {
   "cell_type": "code",
   "execution_count": 7,
   "id": "59f29712",
   "metadata": {},
   "outputs": [
    {
     "name": "stderr",
     "output_type": "stream",
     "text": [
      "\r",
      "[Stage 1:>                                                          (0 + 1) / 1]\r",
      "\r",
      "                                                                                \r"
     ]
    }
   ],
   "source": [
    "pandasImagesDF = imageDf.toPandas()"
   ]
  },
  {
   "cell_type": "code",
   "execution_count": 8,
   "id": "c621265c",
   "metadata": {},
   "outputs": [],
   "source": [
    "def processImage(data, target_size=(225,225)):\n",
    "    imgbytes = BytesIO(data)\n",
    "    image = Image.open(imgbytes)\n",
    "    resized_img = image.resize(target_size, Image.ANTIALIAS)\n",
    "    with BytesIO() as output:\n",
    "        resized_img.save(output, format=\"PNG\")\n",
    "        new_image = Image.open(output)\n",
    "\n",
    "        array = np.asarray(image).astype(np.float32) / 255\n",
    "        return array"
   ]
  },
  {
   "cell_type": "code",
   "execution_count": 9,
   "id": "494c89b7",
   "metadata": {},
   "outputs": [],
   "source": [
    "pandasImagesDF[\"Data\"] = pandasImagesDF[\"Data\"].apply(lambda x: processImage(x))"
   ]
  },
  {
   "cell_type": "code",
   "execution_count": 10,
   "id": "af147bfa",
   "metadata": {},
   "outputs": [
    {
     "data": {
      "text/html": [
       "<div>\n",
       "<style scoped>\n",
       "    .dataframe tbody tr th:only-of-type {\n",
       "        vertical-align: middle;\n",
       "    }\n",
       "\n",
       "    .dataframe tbody tr th {\n",
       "        vertical-align: top;\n",
       "    }\n",
       "\n",
       "    .dataframe thead th {\n",
       "        text-align: right;\n",
       "    }\n",
       "</style>\n",
       "<table border=\"1\" class=\"dataframe\">\n",
       "  <thead>\n",
       "    <tr style=\"text-align: right;\">\n",
       "      <th></th>\n",
       "      <th>Name</th>\n",
       "      <th>Label</th>\n",
       "      <th>Data</th>\n",
       "    </tr>\n",
       "  </thead>\n",
       "  <tbody>\n",
       "    <tr>\n",
       "      <th>0</th>\n",
       "      <td>001</td>\n",
       "      <td>Ireland</td>\n",
       "      <td>[[[0.8, 0.67058825, 0.5019608], [0.7764706, 0....</td>\n",
       "    </tr>\n",
       "    <tr>\n",
       "      <th>1</th>\n",
       "      <td>002</td>\n",
       "      <td>Ireland</td>\n",
       "      <td>[[[0.3764706, 0.4862745, 0.57254905], [0.37647...</td>\n",
       "    </tr>\n",
       "    <tr>\n",
       "      <th>2</th>\n",
       "      <td>003</td>\n",
       "      <td>Ireland</td>\n",
       "      <td>[[[0.5137255, 0.5176471, 0.5372549], [0.513725...</td>\n",
       "    </tr>\n",
       "    <tr>\n",
       "      <th>3</th>\n",
       "      <td>004</td>\n",
       "      <td>Ireland</td>\n",
       "      <td>[[[0.28627452, 0.105882354, 0.011764706], [0.3...</td>\n",
       "    </tr>\n",
       "    <tr>\n",
       "      <th>4</th>\n",
       "      <td>005</td>\n",
       "      <td>Ireland</td>\n",
       "      <td>[[[0.5137255, 0.5529412, 0.5882353], [0.749019...</td>\n",
       "    </tr>\n",
       "    <tr>\n",
       "      <th>5</th>\n",
       "      <td>006</td>\n",
       "      <td>Ireland</td>\n",
       "      <td>[[[0.29803923, 0.24313726, 0.19215687], [0.298...</td>\n",
       "    </tr>\n",
       "    <tr>\n",
       "      <th>6</th>\n",
       "      <td>007</td>\n",
       "      <td>Ireland</td>\n",
       "      <td>[[[0.75686276, 0.79607844, 0.7921569], [0.7450...</td>\n",
       "    </tr>\n",
       "    <tr>\n",
       "      <th>7</th>\n",
       "      <td>008</td>\n",
       "      <td>Ireland</td>\n",
       "      <td>[[[0.7137255, 0.5254902, 0.23529412], [0.71372...</td>\n",
       "    </tr>\n",
       "    <tr>\n",
       "      <th>8</th>\n",
       "      <td>009</td>\n",
       "      <td>Ireland</td>\n",
       "      <td>[[[0.9529412, 0.9529412, 0.9529412], [0.952941...</td>\n",
       "    </tr>\n",
       "    <tr>\n",
       "      <th>9</th>\n",
       "      <td>010</td>\n",
       "      <td>Ireland</td>\n",
       "      <td>[[[0.6862745, 0.5803922, 0.49803922], [0.68627...</td>\n",
       "    </tr>\n",
       "    <tr>\n",
       "      <th>10</th>\n",
       "      <td>011</td>\n",
       "      <td>Ireland</td>\n",
       "      <td>[[[1.0, 1.0, 1.0], [1.0, 1.0, 1.0], [1.0, 1.0,...</td>\n",
       "    </tr>\n",
       "    <tr>\n",
       "      <th>11</th>\n",
       "      <td>012</td>\n",
       "      <td>Ireland</td>\n",
       "      <td>[[[0.3529412, 0.48235294, 0.6117647], [0.35294...</td>\n",
       "    </tr>\n",
       "    <tr>\n",
       "      <th>12</th>\n",
       "      <td>013</td>\n",
       "      <td>Ireland</td>\n",
       "      <td>[[[1.0, 1.0, 1.0], [1.0, 1.0, 1.0], [1.0, 1.0,...</td>\n",
       "    </tr>\n",
       "    <tr>\n",
       "      <th>13</th>\n",
       "      <td>014</td>\n",
       "      <td>Ireland</td>\n",
       "      <td>[[[0.8392157, 0.8627451, 0.9647059], [0.850980...</td>\n",
       "    </tr>\n",
       "    <tr>\n",
       "      <th>14</th>\n",
       "      <td>015</td>\n",
       "      <td>Ireland</td>\n",
       "      <td>[[[0.89411765, 0.8235294, 0.80784315], [0.8901...</td>\n",
       "    </tr>\n",
       "    <tr>\n",
       "      <th>15</th>\n",
       "      <td>016</td>\n",
       "      <td>Ireland</td>\n",
       "      <td>[[[0.7529412, 0.70980394, 0.7254902], [0.76078...</td>\n",
       "    </tr>\n",
       "    <tr>\n",
       "      <th>16</th>\n",
       "      <td>017</td>\n",
       "      <td>Ireland</td>\n",
       "      <td>[[[0.5882353, 0.40392157, 0.23921569], [0.5921...</td>\n",
       "    </tr>\n",
       "    <tr>\n",
       "      <th>17</th>\n",
       "      <td>018</td>\n",
       "      <td>Ireland</td>\n",
       "      <td>[[[0.6627451, 0.60784316, 0.5568628], [0.58039...</td>\n",
       "    </tr>\n",
       "    <tr>\n",
       "      <th>18</th>\n",
       "      <td>019</td>\n",
       "      <td>Ireland</td>\n",
       "      <td>[[[0.02745098, 0.03529412, 0.08627451], [0.043...</td>\n",
       "    </tr>\n",
       "    <tr>\n",
       "      <th>19</th>\n",
       "      <td>020</td>\n",
       "      <td>Ireland</td>\n",
       "      <td>[[[0.85490197, 0.7882353, 0.6862745], [0.83137...</td>\n",
       "    </tr>\n",
       "    <tr>\n",
       "      <th>20</th>\n",
       "      <td>001</td>\n",
       "      <td>Honduran</td>\n",
       "      <td>[[[0.14509805, 0.11372549, 0.0627451], [0.1490...</td>\n",
       "    </tr>\n",
       "    <tr>\n",
       "      <th>21</th>\n",
       "      <td>002</td>\n",
       "      <td>Honduran</td>\n",
       "      <td>[[[0.14509805, 0.11372549, 0.0627451], [0.1490...</td>\n",
       "    </tr>\n",
       "    <tr>\n",
       "      <th>22</th>\n",
       "      <td>003</td>\n",
       "      <td>Honduran</td>\n",
       "      <td>[[[0.9372549, 0.6862745, 0.44313726], [0.90196...</td>\n",
       "    </tr>\n",
       "    <tr>\n",
       "      <th>23</th>\n",
       "      <td>004</td>\n",
       "      <td>Honduran</td>\n",
       "      <td>[[[0.61960787, 0.6745098, 0.7254902], [0.61568...</td>\n",
       "    </tr>\n",
       "    <tr>\n",
       "      <th>24</th>\n",
       "      <td>005</td>\n",
       "      <td>Honduran</td>\n",
       "      <td>[[[0.6431373, 0.6666667, 0.7294118], [0.647058...</td>\n",
       "    </tr>\n",
       "    <tr>\n",
       "      <th>25</th>\n",
       "      <td>006</td>\n",
       "      <td>Honduran</td>\n",
       "      <td>[[[0.8235294, 0.28627452, 0.5529412], [0.76470...</td>\n",
       "    </tr>\n",
       "    <tr>\n",
       "      <th>26</th>\n",
       "      <td>007</td>\n",
       "      <td>Honduran</td>\n",
       "      <td>[[[0.38431373, 0.21960784, 0.13333334], [0.360...</td>\n",
       "    </tr>\n",
       "    <tr>\n",
       "      <th>27</th>\n",
       "      <td>008</td>\n",
       "      <td>Honduran</td>\n",
       "      <td>[[[0.9764706, 0.78039217, 0.7764706], [0.97647...</td>\n",
       "    </tr>\n",
       "    <tr>\n",
       "      <th>28</th>\n",
       "      <td>009</td>\n",
       "      <td>Honduran</td>\n",
       "      <td>[[[0.8509804, 0.74509805, 0.5686275], [0.61176...</td>\n",
       "    </tr>\n",
       "    <tr>\n",
       "      <th>29</th>\n",
       "      <td>010</td>\n",
       "      <td>Honduran</td>\n",
       "      <td>[[[0.34117648, 0.23529412, 0.050980393], [0.45...</td>\n",
       "    </tr>\n",
       "    <tr>\n",
       "      <th>30</th>\n",
       "      <td>011</td>\n",
       "      <td>Honduran</td>\n",
       "      <td>[[[0.78431374, 0.76862746, 0.73333335], [0.854...</td>\n",
       "    </tr>\n",
       "    <tr>\n",
       "      <th>31</th>\n",
       "      <td>012</td>\n",
       "      <td>Honduran</td>\n",
       "      <td>[[[0.18039216, 0.20392157, 0.2509804], [0.1803...</td>\n",
       "    </tr>\n",
       "    <tr>\n",
       "      <th>32</th>\n",
       "      <td>013</td>\n",
       "      <td>Honduran</td>\n",
       "      <td>[[[0.5019608, 0.10980392, 0.15686275], [0.5176...</td>\n",
       "    </tr>\n",
       "    <tr>\n",
       "      <th>33</th>\n",
       "      <td>014</td>\n",
       "      <td>Honduran</td>\n",
       "      <td>[[[0.5411765, 0.6, 0.7294118], [0.5411765, 0.6...</td>\n",
       "    </tr>\n",
       "    <tr>\n",
       "      <th>34</th>\n",
       "      <td>015</td>\n",
       "      <td>Honduran</td>\n",
       "      <td>[[[0.85882354, 0.83137256, 0.7921569], [0.8509...</td>\n",
       "    </tr>\n",
       "    <tr>\n",
       "      <th>35</th>\n",
       "      <td>016</td>\n",
       "      <td>Honduran</td>\n",
       "      <td>[[[0.7176471, 0.7529412, 0.73333335], [0.71764...</td>\n",
       "    </tr>\n",
       "    <tr>\n",
       "      <th>36</th>\n",
       "      <td>017</td>\n",
       "      <td>Honduran</td>\n",
       "      <td>[[[0.19215687, 0.12156863, 0.06666667], [0.329...</td>\n",
       "    </tr>\n",
       "    <tr>\n",
       "      <th>37</th>\n",
       "      <td>018</td>\n",
       "      <td>Honduran</td>\n",
       "      <td>[[[0.7882353, 0.8627451, 0.84705883], [0.78823...</td>\n",
       "    </tr>\n",
       "    <tr>\n",
       "      <th>38</th>\n",
       "      <td>019</td>\n",
       "      <td>Honduran</td>\n",
       "      <td>[[[0.27058825, 0.3254902, 0.42745098], [0.2705...</td>\n",
       "    </tr>\n",
       "    <tr>\n",
       "      <th>39</th>\n",
       "      <td>020</td>\n",
       "      <td>Honduran</td>\n",
       "      <td>[[[0.44705883, 0.23921569, 0.08235294], [0.447...</td>\n",
       "    </tr>\n",
       "  </tbody>\n",
       "</table>\n",
       "</div>"
      ],
      "text/plain": [
       "   Name     Label                                               Data\n",
       "0   001   Ireland  [[[0.8, 0.67058825, 0.5019608], [0.7764706, 0....\n",
       "1   002   Ireland  [[[0.3764706, 0.4862745, 0.57254905], [0.37647...\n",
       "2   003   Ireland  [[[0.5137255, 0.5176471, 0.5372549], [0.513725...\n",
       "3   004   Ireland  [[[0.28627452, 0.105882354, 0.011764706], [0.3...\n",
       "4   005   Ireland  [[[0.5137255, 0.5529412, 0.5882353], [0.749019...\n",
       "5   006   Ireland  [[[0.29803923, 0.24313726, 0.19215687], [0.298...\n",
       "6   007   Ireland  [[[0.75686276, 0.79607844, 0.7921569], [0.7450...\n",
       "7   008   Ireland  [[[0.7137255, 0.5254902, 0.23529412], [0.71372...\n",
       "8   009   Ireland  [[[0.9529412, 0.9529412, 0.9529412], [0.952941...\n",
       "9   010   Ireland  [[[0.6862745, 0.5803922, 0.49803922], [0.68627...\n",
       "10  011   Ireland  [[[1.0, 1.0, 1.0], [1.0, 1.0, 1.0], [1.0, 1.0,...\n",
       "11  012   Ireland  [[[0.3529412, 0.48235294, 0.6117647], [0.35294...\n",
       "12  013   Ireland  [[[1.0, 1.0, 1.0], [1.0, 1.0, 1.0], [1.0, 1.0,...\n",
       "13  014   Ireland  [[[0.8392157, 0.8627451, 0.9647059], [0.850980...\n",
       "14  015   Ireland  [[[0.89411765, 0.8235294, 0.80784315], [0.8901...\n",
       "15  016   Ireland  [[[0.7529412, 0.70980394, 0.7254902], [0.76078...\n",
       "16  017   Ireland  [[[0.5882353, 0.40392157, 0.23921569], [0.5921...\n",
       "17  018   Ireland  [[[0.6627451, 0.60784316, 0.5568628], [0.58039...\n",
       "18  019   Ireland  [[[0.02745098, 0.03529412, 0.08627451], [0.043...\n",
       "19  020   Ireland  [[[0.85490197, 0.7882353, 0.6862745], [0.83137...\n",
       "20  001  Honduran  [[[0.14509805, 0.11372549, 0.0627451], [0.1490...\n",
       "21  002  Honduran  [[[0.14509805, 0.11372549, 0.0627451], [0.1490...\n",
       "22  003  Honduran  [[[0.9372549, 0.6862745, 0.44313726], [0.90196...\n",
       "23  004  Honduran  [[[0.61960787, 0.6745098, 0.7254902], [0.61568...\n",
       "24  005  Honduran  [[[0.6431373, 0.6666667, 0.7294118], [0.647058...\n",
       "25  006  Honduran  [[[0.8235294, 0.28627452, 0.5529412], [0.76470...\n",
       "26  007  Honduran  [[[0.38431373, 0.21960784, 0.13333334], [0.360...\n",
       "27  008  Honduran  [[[0.9764706, 0.78039217, 0.7764706], [0.97647...\n",
       "28  009  Honduran  [[[0.8509804, 0.74509805, 0.5686275], [0.61176...\n",
       "29  010  Honduran  [[[0.34117648, 0.23529412, 0.050980393], [0.45...\n",
       "30  011  Honduran  [[[0.78431374, 0.76862746, 0.73333335], [0.854...\n",
       "31  012  Honduran  [[[0.18039216, 0.20392157, 0.2509804], [0.1803...\n",
       "32  013  Honduran  [[[0.5019608, 0.10980392, 0.15686275], [0.5176...\n",
       "33  014  Honduran  [[[0.5411765, 0.6, 0.7294118], [0.5411765, 0.6...\n",
       "34  015  Honduran  [[[0.85882354, 0.83137256, 0.7921569], [0.8509...\n",
       "35  016  Honduran  [[[0.7176471, 0.7529412, 0.73333335], [0.71764...\n",
       "36  017  Honduran  [[[0.19215687, 0.12156863, 0.06666667], [0.329...\n",
       "37  018  Honduran  [[[0.7882353, 0.8627451, 0.84705883], [0.78823...\n",
       "38  019  Honduran  [[[0.27058825, 0.3254902, 0.42745098], [0.2705...\n",
       "39  020  Honduran  [[[0.44705883, 0.23921569, 0.08235294], [0.447..."
      ]
     },
     "execution_count": 10,
     "metadata": {},
     "output_type": "execute_result"
    }
   ],
   "source": [
    "pandasImagesDF"
   ]
  },
  {
   "cell_type": "code",
   "execution_count": 11,
   "id": "eba5be8a",
   "metadata": {},
   "outputs": [],
   "source": [
    "pandasImagesDF = pandasImagesDF.sort_values(by=[\"Name\"])"
   ]
  },
  {
   "cell_type": "code",
   "execution_count": 13,
   "id": "e2a8bf11",
   "metadata": {},
   "outputs": [
    {
     "name": "stdout",
     "output_type": "stream",
     "text": [
      "<class 'pandas.core.frame.DataFrame'>\n",
      "Int64Index: 40 entries, 0 to 39\n",
      "Data columns (total 3 columns):\n",
      " #   Column  Non-Null Count  Dtype \n",
      "---  ------  --------------  ----- \n",
      " 0   Name    40 non-null     object\n",
      " 1   Label   40 non-null     object\n",
      " 2   Data    40 non-null     object\n",
      "dtypes: object(3)\n",
      "memory usage: 1.2+ KB\n"
     ]
    }
   ],
   "source": [
    "pandasImagesDF.info()"
   ]
  },
  {
   "cell_type": "code",
   "execution_count": null,
   "id": "6752c584",
   "metadata": {},
   "outputs": [],
   "source": [
    "pandasImagesDF"
   ]
  },
  {
   "cell_type": "code",
   "execution_count": 12,
   "id": "fe49a125",
   "metadata": {},
   "outputs": [
    {
     "name": "stdout",
     "output_type": "stream",
     "text": [
      "3.10.12\n"
     ]
    }
   ],
   "source": [
    "from platform import python_version\n",
    "\n",
    "print(python_version())"
   ]
  },
  {
   "cell_type": "code",
   "execution_count": 13,
   "id": "6d57c545",
   "metadata": {},
   "outputs": [],
   "source": [
    "import matplotlib.pyplot as plt"
   ]
  },
  {
   "cell_type": "code",
   "execution_count": null,
   "id": "3d2a34d5",
   "metadata": {},
   "outputs": [],
   "source": [
    "np.array(pandasImagesDF[\"Data\"][9]).astype(\"float32\").shape"
   ]
  },
  {
   "cell_type": "code",
   "execution_count": null,
   "id": "631a184d",
   "metadata": {},
   "outputs": [],
   "source": [
    "# Determine the dimensions of the image\n",
    "width =  225\n",
    "height =  225\n",
    "\n",
    "# Convert the byte array to a numpy array of uint8 data type\n",
    "image_data = np.array(pandasImagesDF[\"Data\"][0], dtype=np.uint8)\n",
    "# image_data.reshape(-1,1)\n",
    "# Reshape the array to match the dimensions of the image\n",
    "# image_data = image_data.reshape((height, width))\n",
    "\n",
    "# Create an image from the byte array\n",
    "image = Image.fromarray(image_data)\n",
    "\n",
    "# Display the image\n",
    "image.show()"
   ]
  },
  {
   "cell_type": "markdown",
   "id": "7bf80bf8",
   "metadata": {},
   "source": [
    "Importing from Keras functionality necessary to implement CNN"
   ]
  },
  {
   "cell_type": "code",
   "execution_count": 17,
   "id": "eeff7618",
   "metadata": {},
   "outputs": [],
   "source": [
    "from tensorflow.keras.models import Sequential\n",
    "from tensorflow.keras.layers import Dense, Dropout, Conv2D, MaxPool2D, Flatten\n",
    "from tensorflow.keras import utils\n",
    "from sklearn.metrics import accuracy_score"
   ]
  },
  {
   "cell_type": "markdown",
   "id": "e9c44bdc",
   "metadata": {},
   "source": [
    "For Now there is only 20 photos per Category, the training size will be 28 and test 12, This is for testing. After this I'll get more images to improve the CNN"
   ]
  },
  {
   "cell_type": "code",
   "execution_count": 18,
   "id": "caabbe21",
   "metadata": {},
   "outputs": [],
   "source": [
    "X_train = pandasImagesDF.iloc[:-12,2].values\n",
    "y_train = pandasImagesDF.iloc[:-12,1].values\n",
    "X_test = pandasImagesDF.iloc[-12:,2].values\n",
    "y_test = pandasImagesDF.iloc[-12:,1].values\n"
   ]
  },
  {
   "cell_type": "code",
   "execution_count": 19,
   "id": "512cf5bc",
   "metadata": {},
   "outputs": [],
   "source": [
    "from sklearn.preprocessing import OneHotEncoder"
   ]
  },
  {
   "cell_type": "code",
   "execution_count": 20,
   "id": "00be1125",
   "metadata": {},
   "outputs": [],
   "source": [
    "encoder = OneHotEncoder(sparse_output=False)\n",
    "y_train = np.array(y_train).reshape(-1, 1)\n",
    "y_train = encoder.fit_transform(y_train)\n",
    "\n",
    "y_test = np.array(y_test).reshape(-1,1)\n",
    "y_test = encoder.fit_transform(y_test)"
   ]
  },
  {
   "cell_type": "code",
   "execution_count": 21,
   "id": "3d7277b3",
   "metadata": {},
   "outputs": [],
   "source": [
    "X_train = X_train.reshape(-1,1)\n",
    "X_test = X_test.reshape(-1,1)"
   ]
  },
  {
   "cell_type": "code",
   "execution_count": 59,
   "id": "59b604aa",
   "metadata": {
    "scrolled": true
   },
   "outputs": [
    {
     "ename": "ValueError",
     "evalue": "cannot reshape array of size 28 into shape (28,225,225,3)",
     "output_type": "error",
     "traceback": [
      "\u001b[0;31m---------------------------------------------------------------------------\u001b[0m",
      "\u001b[0;31mValueError\u001b[0m                                Traceback (most recent call last)",
      "\u001b[0;32m/tmp/ipykernel_18908/3052325185.py\u001b[0m in \u001b[0;36m<module>\u001b[0;34m\u001b[0m\n\u001b[0;32m----> 1\u001b[0;31m \u001b[0mX_train\u001b[0m\u001b[0;34m.\u001b[0m\u001b[0mreshape\u001b[0m\u001b[0;34m(\u001b[0m\u001b[0mX_train\u001b[0m\u001b[0;34m.\u001b[0m\u001b[0mshape\u001b[0m\u001b[0;34m[\u001b[0m\u001b[0;36m0\u001b[0m\u001b[0;34m]\u001b[0m\u001b[0;34m,\u001b[0m\u001b[0;36m225\u001b[0m\u001b[0;34m,\u001b[0m\u001b[0;36m225\u001b[0m\u001b[0;34m,\u001b[0m\u001b[0;36m3\u001b[0m\u001b[0;34m)\u001b[0m\u001b[0;34m\u001b[0m\u001b[0;34m\u001b[0m\u001b[0m\n\u001b[0m",
      "\u001b[0;31mValueError\u001b[0m: cannot reshape array of size 28 into shape (28,225,225,3)"
     ]
    }
   ],
   "source": [
    "X_train.reshape(X_train.shape[0],225,225,3)"
   ]
  },
  {
   "cell_type": "code",
   "execution_count": 23,
   "id": "06b786e3",
   "metadata": {},
   "outputs": [],
   "source": [
    "p = np.reshape(X_train[0][0], (225,225,3))"
   ]
  },
  {
   "cell_type": "code",
   "execution_count": 24,
   "id": "36db6141",
   "metadata": {},
   "outputs": [
    {
     "data": {
      "text/plain": [
       "(225, 225, 3)"
      ]
     },
     "execution_count": 24,
     "metadata": {},
     "output_type": "execute_result"
    }
   ],
   "source": [
    "p.shape"
   ]
  },
  {
   "cell_type": "code",
   "execution_count": 61,
   "id": "b36f6358",
   "metadata": {},
   "outputs": [],
   "source": [
    "X_train_reshaped = []\n",
    "X_test_reshaped = []\n",
    "\n",
    "for x in X_train:\n",
    "#     x = x.reshape(-1,1)\n",
    "    X_train_reshaped.append(x.reshape(225,225,3))\n",
    "#     print(x[0])\n",
    "#     print(x[0].shape)\n",
    "\n",
    "for x in X_test:\n",
    "#     x = x.reshape(-1,1)\n",
    "    X_test_reshaped.append(x)\n",
    "    "
   ]
  },
  {
   "cell_type": "code",
   "execution_count": 62,
   "id": "e7642ba9",
   "metadata": {},
   "outputs": [],
   "source": [
    "# X_train = np.reshape(X_train, (X_train.shape[0], 225,225,1))\n",
    "X_test = np.reshape(X_test,(X_test.shape[0],X_test.shape[1],1))\n",
    "# y_train = np.reshape(y_train, (y_train.shape[0], 225,225,1))\n",
    "y_test = np.reshape(y_test, (y_test.shape[0], y_test.shape[1],1))"
   ]
  },
  {
   "cell_type": "code",
   "execution_count": 66,
   "id": "9bf3e39e",
   "metadata": {},
   "outputs": [
    {
     "data": {
      "text/plain": [
       "(28, 1)"
      ]
     },
     "execution_count": 66,
     "metadata": {},
     "output_type": "execute_result"
    }
   ],
   "source": [
    "np.array(X_train_reshaped).shape"
   ]
  },
  {
   "cell_type": "markdown",
   "id": "7f1040f4",
   "metadata": {},
   "source": [
    "Because the pixels are from 0 to 255, We have to normalize the pixels"
   ]
  },
  {
   "cell_type": "code",
   "execution_count": 28,
   "id": "7788f641",
   "metadata": {},
   "outputs": [],
   "source": [
    "# X_train_reshaped/=255\n",
    "# X_test_reshaped/=255"
   ]
  },
  {
   "cell_type": "code",
   "execution_count": 49,
   "id": "c36fcb77",
   "metadata": {},
   "outputs": [
    {
     "name": "stderr",
     "output_type": "stream",
     "text": [
      "/home/jose/.local/lib/python3.10/site-packages/keras/src/layers/convolutional/base_conv.py:99: UserWarning: Do not pass an `input_shape`/`input_dim` argument to a layer. When using Sequential models, prefer using an `Input(shape)` object as the first layer in the model instead.\n",
      "  super().__init__(\n"
     ]
    }
   ],
   "source": [
    "model = Sequential()\n",
    "model.add(Conv2D(32,kernel_size=(3,3),strides=(1,1),padding=\"valid\", activation=\"relu\", input_shape=(225,225,3)))\n",
    "model.add(MaxPool2D(pool_size=(2,2)))\n",
    "model.add(Conv2D(64, (3,3), activation=\"relu\"))\n",
    "\n",
    "model.add(MaxPool2D(pool_size=(2,2)))\n",
    "model.add(Flatten())\n",
    "\n",
    "model.add(Dense(128, activation=\"relu\"))\n",
    "model.add(Dense(2,activation=\"softmax\"))"
   ]
  },
  {
   "cell_type": "code",
   "execution_count": 50,
   "id": "68a9c367",
   "metadata": {},
   "outputs": [],
   "source": [
    "model.compile(loss=\"categorical_crossentropy\", metrics=[\"accuracy\"], optimizer=\"adam\")"
   ]
  },
  {
   "cell_type": "code",
   "execution_count": 51,
   "id": "ad75f3cc",
   "metadata": {},
   "outputs": [],
   "source": [
    "x_train = np.stack(X_train_reshaped, axis=0)  \n",
    "x_test = np.stack(X_test_reshaped,axis=0)"
   ]
  },
  {
   "cell_type": "code",
   "execution_count": 52,
   "id": "ca0fc309",
   "metadata": {},
   "outputs": [
    {
     "ename": "ValueError",
     "evalue": "Data cardinality is ambiguous. Make sure all arrays contain the same number of samples.'x' sizes: 1, 1, 1, 1, 1, 1, 1, 1, 1, 1, 1, 1, 1, 1, 1, 1, 1, 1, 1, 1, 1, 1, 1, 1, 1, 1, 1, 1\n'y' sizes: 28\n",
     "output_type": "error",
     "traceback": [
      "\u001b[0;31m---------------------------------------------------------------------------\u001b[0m",
      "\u001b[0;31mValueError\u001b[0m                                Traceback (most recent call last)",
      "\u001b[0;32m/tmp/ipykernel_18908/2547894746.py\u001b[0m in \u001b[0;36m<module>\u001b[0;34m\u001b[0m\n\u001b[0;32m----> 1\u001b[0;31m \u001b[0mmodel\u001b[0m\u001b[0;34m.\u001b[0m\u001b[0mfit\u001b[0m\u001b[0;34m(\u001b[0m\u001b[0mX_train_reshaped\u001b[0m\u001b[0;34m,\u001b[0m \u001b[0my_train\u001b[0m\u001b[0;34m,\u001b[0m \u001b[0mbatch_size\u001b[0m\u001b[0;34m=\u001b[0m\u001b[0;36m14\u001b[0m\u001b[0;34m,\u001b[0m \u001b[0mepochs\u001b[0m\u001b[0;34m=\u001b[0m\u001b[0;36m10\u001b[0m\u001b[0;34m,\u001b[0m \u001b[0mvalidation_data\u001b[0m\u001b[0;34m=\u001b[0m\u001b[0;34m(\u001b[0m\u001b[0mX_test_reshaped\u001b[0m\u001b[0;34m,\u001b[0m \u001b[0my_test\u001b[0m\u001b[0;34m)\u001b[0m\u001b[0;34m)\u001b[0m\u001b[0;34m\u001b[0m\u001b[0;34m\u001b[0m\u001b[0m\n\u001b[0m",
      "\u001b[0;32m~/.local/lib/python3.10/site-packages/keras/src/utils/traceback_utils.py\u001b[0m in \u001b[0;36merror_handler\u001b[0;34m(*args, **kwargs)\u001b[0m\n\u001b[1;32m    120\u001b[0m             \u001b[0;31m# To get the full stack trace, call:\u001b[0m\u001b[0;34m\u001b[0m\u001b[0;34m\u001b[0m\u001b[0m\n\u001b[1;32m    121\u001b[0m             \u001b[0;31m# `keras.config.disable_traceback_filtering()`\u001b[0m\u001b[0;34m\u001b[0m\u001b[0;34m\u001b[0m\u001b[0m\n\u001b[0;32m--> 122\u001b[0;31m             \u001b[0;32mraise\u001b[0m \u001b[0me\u001b[0m\u001b[0;34m.\u001b[0m\u001b[0mwith_traceback\u001b[0m\u001b[0;34m(\u001b[0m\u001b[0mfiltered_tb\u001b[0m\u001b[0;34m)\u001b[0m \u001b[0;32mfrom\u001b[0m \u001b[0;32mNone\u001b[0m\u001b[0;34m\u001b[0m\u001b[0;34m\u001b[0m\u001b[0m\n\u001b[0m\u001b[1;32m    123\u001b[0m         \u001b[0;32mfinally\u001b[0m\u001b[0;34m:\u001b[0m\u001b[0;34m\u001b[0m\u001b[0;34m\u001b[0m\u001b[0m\n\u001b[1;32m    124\u001b[0m             \u001b[0;32mdel\u001b[0m \u001b[0mfiltered_tb\u001b[0m\u001b[0;34m\u001b[0m\u001b[0;34m\u001b[0m\u001b[0m\n",
      "\u001b[0;32m~/.local/lib/python3.10/site-packages/keras/src/trainers/data_adapters/data_adapter_utils.py\u001b[0m in \u001b[0;36mcheck_data_cardinality\u001b[0;34m(data)\u001b[0m\n\u001b[1;32m    112\u001b[0m             )\n\u001b[1;32m    113\u001b[0m             \u001b[0mmsg\u001b[0m \u001b[0;34m+=\u001b[0m \u001b[0;34mf\"'{label}' sizes: {sizes}\\n\"\u001b[0m\u001b[0;34m\u001b[0m\u001b[0;34m\u001b[0m\u001b[0m\n\u001b[0;32m--> 114\u001b[0;31m         \u001b[0;32mraise\u001b[0m \u001b[0mValueError\u001b[0m\u001b[0;34m(\u001b[0m\u001b[0mmsg\u001b[0m\u001b[0;34m)\u001b[0m\u001b[0;34m\u001b[0m\u001b[0;34m\u001b[0m\u001b[0m\n\u001b[0m\u001b[1;32m    115\u001b[0m \u001b[0;34m\u001b[0m\u001b[0m\n\u001b[1;32m    116\u001b[0m \u001b[0;34m\u001b[0m\u001b[0m\n",
      "\u001b[0;31mValueError\u001b[0m: Data cardinality is ambiguous. Make sure all arrays contain the same number of samples.'x' sizes: 1, 1, 1, 1, 1, 1, 1, 1, 1, 1, 1, 1, 1, 1, 1, 1, 1, 1, 1, 1, 1, 1, 1, 1, 1, 1, 1, 1\n'y' sizes: 28\n"
     ]
    }
   ],
   "source": [
    "model.fit(X_train_reshaped, y_train, batch_size=14, epochs=10, validation_data=(X_test_reshaped, y_test))"
   ]
  },
  {
   "cell_type": "code",
   "execution_count": null,
   "id": "e6ea5eb8",
   "metadata": {},
   "outputs": [],
   "source": []
  }
 ],
 "metadata": {
  "kernelspec": {
   "display_name": "Python 3 (ipykernel)",
   "language": "python",
   "name": "python3"
  },
  "language_info": {
   "codemirror_mode": {
    "name": "ipython",
    "version": 3
   },
   "file_extension": ".py",
   "mimetype": "text/x-python",
   "name": "python",
   "nbconvert_exporter": "python",
   "pygments_lexer": "ipython3",
   "version": "3.10.12"
  }
 },
 "nbformat": 4,
 "nbformat_minor": 5
}
